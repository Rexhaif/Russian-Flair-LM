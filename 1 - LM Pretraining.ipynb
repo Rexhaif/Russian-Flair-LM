{
 "cells": [
  {
   "cell_type": "code",
   "execution_count": 1,
   "metadata": {},
   "outputs": [],
   "source": [
    "import pickle\n",
    "from flair.data import Dictionary\n",
    "from flair.models import LanguageModel\n",
    "from flair.trainers.language_model_trainer import LanguageModelTrainer, TextCorpus"
   ]
  },
  {
   "cell_type": "code",
   "execution_count": 2,
   "metadata": {},
   "outputs": [],
   "source": [
    "!mkdir -p ./models/ru-large-forward\n",
    "!mkdir -p ./models/ru-large-backward"
   ]
  },
  {
   "cell_type": "code",
   "execution_count": 3,
   "metadata": {},
   "outputs": [],
   "source": [
    "params = {\n",
    "    'model_path': './models/ru-large-forward',\n",
    "    'dictionary_path': './data/dictionaty.pckl',\n",
    "    'direction': 'forward',\n",
    "    'hidden_size': 2048,\n",
    "    'n_layers': 1,\n",
    "    'seq_len': 250,\n",
    "    'batch_size': 100,\n",
    "    'max_epochs': 10\n",
    "}"
   ]
  },
  {
   "cell_type": "code",
   "execution_count": 4,
   "metadata": {},
   "outputs": [],
   "source": [
    "dictionary: Dictionary = Dictionary.load_from_file(params['dictionary_path'])"
   ]
  },
  {
   "cell_type": "code",
   "execution_count": 5,
   "metadata": {},
   "outputs": [
    {
     "name": "stdout",
     "output_type": "stream",
     "text": [
      "2019-09-28 18:49:03,666 read text file with 35045 lines\n",
      "2019-09-28 18:52:48,356 read text file with 37097 lines\n"
     ]
    }
   ],
   "source": [
    "corpus: TextCorpus = TextCorpus(\n",
    "    './data/corpus',\n",
    "    dictionary,\n",
    "    params['direction'] == 'forward',\n",
    "    character_level=True\n",
    ")\n",
    "    "
   ]
  },
  {
   "cell_type": "code",
   "execution_count": 6,
   "metadata": {},
   "outputs": [],
   "source": [
    "language_model = LanguageModel(\n",
    "    dictionary,\n",
    "    params['direction'] == 'forward',\n",
    "    hidden_size=params['hidden_size'],\n",
    "    nlayers=params['n_layers']\n",
    ")"
   ]
  },
  {
   "cell_type": "code",
   "execution_count": 7,
   "metadata": {},
   "outputs": [],
   "source": [
    "trainer = LanguageModelTrainer(language_model, corpus)"
   ]
  },
  {
   "cell_type": "code",
   "execution_count": null,
   "metadata": {},
   "outputs": [
    {
     "name": "stdout",
     "output_type": "stream",
     "text": [
      "2019-09-28 18:56:49,421 read text file with 8357 lines\n",
      "2019-09-28 18:56:49,421 read text file with 8403 lines\n",
      "2019-09-28 18:56:49,428 shuffled\n",
      "2019-09-28 18:56:49,428 shuffled\n",
      "2019-09-28 18:57:42,079 read text file with 8304 lines\n",
      "2019-09-28 18:57:42,085 shuffled\n",
      "2019-09-28 18:57:42,255 Sequence length is 250\n",
      "2019-09-28 18:57:42,296 read text file with 8307 lines\n",
      "2019-09-28 18:57:42,301 shuffled\n",
      "2019-09-28 18:57:42,302 Split 1\t - (18:57:42)\n",
      "2019-09-28 18:58:14,867 | split   1 / 80 |   100/  418 batches | ms/batch 325.54 | loss  4.24 | ppl    69.60\n",
      "2019-09-28 18:58:35,724 read text file with 8311 lines\n",
      "2019-09-28 18:58:35,730 shuffled\n",
      "2019-09-28 18:58:47,544 | split   1 / 80 |   200/  418 batches | ms/batch 326.77 | loss  3.15 | ppl    23.41\n",
      "2019-09-28 18:59:20,503 | split   1 / 80 |   300/  418 batches | ms/batch 329.58 | loss  2.70 | ppl    14.88\n",
      "2019-09-28 18:59:53,654 | split   1 / 80 |   400/  418 batches | ms/batch 331.51 | loss  2.37 | ppl    10.66\n"
     ]
    }
   ],
   "source": [
    "trainer.train(\n",
    "    params['model_path'],\n",
    "    sequence_length=params['seq_len'],\n",
    "    mini_batch_size=params['batch_size'],\n",
    "    max_epochs=params['max_epochs']\n",
    ")"
   ]
  },
  {
   "cell_type": "code",
   "execution_count": null,
   "metadata": {},
   "outputs": [],
   "source": []
  }
 ],
 "metadata": {
  "kernelspec": {
   "display_name": "Python 3",
   "language": "python",
   "name": "python3"
  },
  "language_info": {
   "codemirror_mode": {
    "name": "ipython",
    "version": 3
   },
   "file_extension": ".py",
   "mimetype": "text/x-python",
   "name": "python",
   "nbconvert_exporter": "python",
   "pygments_lexer": "ipython3",
   "version": "3.6.8"
  }
 },
 "nbformat": 4,
 "nbformat_minor": 2
}
