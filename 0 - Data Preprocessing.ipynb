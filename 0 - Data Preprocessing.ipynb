{
 "cells": [
  {
   "cell_type": "code",
   "execution_count": 35,
   "metadata": {},
   "outputs": [],
   "source": [
    "!mkdir -p ./data/corpus/train"
   ]
  },
  {
   "cell_type": "markdown",
   "metadata": {},
   "source": [
    "# We are now focusing on lenta.ru news dataset"
   ]
  },
  {
   "cell_type": "code",
   "execution_count": 6,
   "metadata": {},
   "outputs": [],
   "source": [
    "URL: str = \"https://github.com/yutkin/Lenta.Ru-News-Dataset/releases/download/0.1/news_lenta.csv\""
   ]
  },
  {
   "cell_type": "code",
   "execution_count": 83,
   "metadata": {},
   "outputs": [],
   "source": [
    "from tqdm.auto import tqdm\n",
    "import requests\n",
    "from flair.data import Dictionary\n",
    "from collections import Counter\n",
    "import pickle\n",
    "\n",
    "import glob"
   ]
  },
  {
   "cell_type": "code",
   "execution_count": 8,
   "metadata": {},
   "outputs": [],
   "source": [
    "def download(file_name, source_url):\n",
    "    CHUNK = 16 * 1024\n",
    "\n",
    "    r = requests.get(source_url, stream=True)\n",
    "    total_length = int(r.headers.get('content-length', 0))\n",
    "\n",
    "    with open(file_name, 'wb') as f:\n",
    "        pbar = tqdm(total=total_length, unit='B', unit_scale=True)\n",
    "        for chunk in r.iter_content(chunk_size=CHUNK):\n",
    "            if chunk:  # filter out keep-alive new chunks\n",
    "                pbar.update(len(chunk))\n",
    "                f.write(chunk)\n",
    "        f.close()"
   ]
  },
  {
   "cell_type": "code",
   "execution_count": null,
   "metadata": {},
   "outputs": [
    {
     "data": {
      "application/vnd.jupyter.widget-view+json": {
       "model_id": "b70a0a42fcde499ca0140b8e7e871b6e",
       "version_major": 2,
       "version_minor": 0
      },
      "text/plain": [
       "HBox(children=(IntProgress(value=0, max=1810139847), HTML(value='')))"
      ]
     },
     "metadata": {},
     "output_type": "display_data"
    }
   ],
   "source": [
    "download(\"./data/news_lenta.csv\", URL)"
   ]
  },
  {
   "cell_type": "code",
   "execution_count": 10,
   "metadata": {},
   "outputs": [
    {
     "name": "stdout",
     "output_type": "stream",
     "text": [
      "news_lenta.csv\r\n"
     ]
    }
   ],
   "source": [
    "!ls ./data/"
   ]
  },
  {
   "cell_type": "code",
   "execution_count": 11,
   "metadata": {},
   "outputs": [],
   "source": [
    "import pandas as pd"
   ]
  },
  {
   "cell_type": "code",
   "execution_count": 12,
   "metadata": {},
   "outputs": [],
   "source": [
    "import numpy as np\n",
    "from sklearn.model_selection import train_test_split"
   ]
  },
  {
   "cell_type": "code",
   "execution_count": 13,
   "metadata": {},
   "outputs": [],
   "source": [
    "data = pd.read_csv(\"./data/news_lenta.csv\")"
   ]
  },
  {
   "cell_type": "code",
   "execution_count": 15,
   "metadata": {},
   "outputs": [
    {
     "data": {
      "text/html": [
       "<div>\n",
       "<style scoped>\n",
       "    .dataframe tbody tr th:only-of-type {\n",
       "        vertical-align: middle;\n",
       "    }\n",
       "\n",
       "    .dataframe tbody tr th {\n",
       "        vertical-align: top;\n",
       "    }\n",
       "\n",
       "    .dataframe thead th {\n",
       "        text-align: right;\n",
       "    }\n",
       "</style>\n",
       "<table border=\"1\" class=\"dataframe\">\n",
       "  <thead>\n",
       "    <tr style=\"text-align: right;\">\n",
       "      <th></th>\n",
       "      <th>tags</th>\n",
       "      <th>text</th>\n",
       "      <th>title</th>\n",
       "      <th>topic</th>\n",
       "      <th>url</th>\n",
       "    </tr>\n",
       "  </thead>\n",
       "  <tbody>\n",
       "    <tr>\n",
       "      <th>0</th>\n",
       "      <td>Общество</td>\n",
       "      <td>Миллиардер Илон Маск в резкой форме ответил бр...</td>\n",
       "      <td>Илон Маск назвал педофилом спасавшего детей из...</td>\n",
       "      <td>Мир</td>\n",
       "      <td>https://lenta.ru/news/2018/07/16/su57/</td>\n",
       "    </tr>\n",
       "  </tbody>\n",
       "</table>\n",
       "</div>"
      ],
      "text/plain": [
       "       tags                                               text  \\\n",
       "0  Общество  Миллиардер Илон Маск в резкой форме ответил бр...   \n",
       "\n",
       "                                               title topic  \\\n",
       "0  Илон Маск назвал педофилом спасавшего детей из...   Мир   \n",
       "\n",
       "                                      url  \n",
       "0  https://lenta.ru/news/2018/07/16/su57/  "
      ]
     },
     "execution_count": 15,
     "metadata": {},
     "output_type": "execute_result"
    }
   ],
   "source": [
    "data.head(1)"
   ]
  },
  {
   "cell_type": "code",
   "execution_count": 20,
   "metadata": {},
   "outputs": [],
   "source": [
    "data = data.drop(['tags', 'title', 'topic', 'url'], axis=1)"
   ]
  },
  {
   "cell_type": "code",
   "execution_count": 21,
   "metadata": {},
   "outputs": [
    {
     "data": {
      "text/html": [
       "<div>\n",
       "<style scoped>\n",
       "    .dataframe tbody tr th:only-of-type {\n",
       "        vertical-align: middle;\n",
       "    }\n",
       "\n",
       "    .dataframe tbody tr th {\n",
       "        vertical-align: top;\n",
       "    }\n",
       "\n",
       "    .dataframe thead th {\n",
       "        text-align: right;\n",
       "    }\n",
       "</style>\n",
       "<table border=\"1\" class=\"dataframe\">\n",
       "  <thead>\n",
       "    <tr style=\"text-align: right;\">\n",
       "      <th></th>\n",
       "      <th>text</th>\n",
       "    </tr>\n",
       "  </thead>\n",
       "  <tbody>\n",
       "    <tr>\n",
       "      <th>0</th>\n",
       "      <td>Миллиардер Илон Маск в резкой форме ответил бр...</td>\n",
       "    </tr>\n",
       "  </tbody>\n",
       "</table>\n",
       "</div>"
      ],
      "text/plain": [
       "                                                text\n",
       "0  Миллиардер Илон Маск в резкой форме ответил бр..."
      ]
     },
     "execution_count": 21,
     "metadata": {},
     "output_type": "execute_result"
    }
   ],
   "source": [
    "data.head(1)"
   ]
  },
  {
   "cell_type": "code",
   "execution_count": 40,
   "metadata": {},
   "outputs": [],
   "source": [
    "train_and_valid, test = train_test_split(data.text, test_size=0.05, random_state=42)"
   ]
  },
  {
   "cell_type": "code",
   "execution_count": 41,
   "metadata": {},
   "outputs": [
    {
     "name": "stdout",
     "output_type": "stream",
     "text": [
      "Train\\Dev size: 664758, Test size: 34988\n"
     ]
    }
   ],
   "source": [
    "print(f\"Train\\Dev size: {len(train_and_valid)}, Test size: {len(test)}\")"
   ]
  },
  {
   "cell_type": "code",
   "execution_count": 42,
   "metadata": {},
   "outputs": [],
   "source": [
    "train, valid = train_test_split(train_and_valid, test_size=0.05, random_state=42)"
   ]
  },
  {
   "cell_type": "code",
   "execution_count": 43,
   "metadata": {},
   "outputs": [
    {
     "name": "stdout",
     "output_type": "stream",
     "text": [
      "Train size: 631520, Valid size: 33238, Test size: 34988\n"
     ]
    }
   ],
   "source": [
    "print(f\"Train size: {len(train)}, Valid size: {len(valid)}, Test size: {len(test)}\")"
   ]
  },
  {
   "cell_type": "code",
   "execution_count": 78,
   "metadata": {},
   "outputs": [],
   "source": [
    "N_parts = 80"
   ]
  },
  {
   "cell_type": "code",
   "execution_count": 79,
   "metadata": {},
   "outputs": [
    {
     "name": "stdout",
     "output_type": "stream",
     "text": [
      "7894.0\n"
     ]
    }
   ],
   "source": [
    "parts_sizes = len(train)/N_parts\n",
    "print(parts_sizes)"
   ]
  },
  {
   "cell_type": "code",
   "execution_count": 46,
   "metadata": {},
   "outputs": [],
   "source": [
    "def chunks(l, n):\n",
    "    \"\"\"Yield successive n-sized chunks from l.\"\"\"\n",
    "    for i in range(0, len(l), n):\n",
    "        yield l[i:i + n]"
   ]
  },
  {
   "cell_type": "code",
   "execution_count": 47,
   "metadata": {},
   "outputs": [],
   "source": [
    "def write_to_file(sentences, filename):\n",
    "    with open(filename, 'w', encoding='utf-8') as f:\n",
    "        for sentence in tqdm(sentences):\n",
    "            f.write(f\"{sentence}\\n\")"
   ]
  },
  {
   "cell_type": "code",
   "execution_count": 48,
   "metadata": {},
   "outputs": [
    {
     "data": {
      "application/vnd.jupyter.widget-view+json": {
       "model_id": "667a199fd57f45eb8f15386b89402a9e",
       "version_major": 2,
       "version_minor": 0
      },
      "text/plain": [
       "HBox(children=(IntProgress(value=0, max=34988), HTML(value='')))"
      ]
     },
     "metadata": {},
     "output_type": "display_data"
    }
   ],
   "source": [
    "write_to_file(test.values, './data/corpus/test.txt')"
   ]
  },
  {
   "cell_type": "code",
   "execution_count": 49,
   "metadata": {},
   "outputs": [
    {
     "data": {
      "application/vnd.jupyter.widget-view+json": {
       "model_id": "090535bddb28481c8fc4ac0621660ab6",
       "version_major": 2,
       "version_minor": 0
      },
      "text/plain": [
       "HBox(children=(IntProgress(value=0, max=33238), HTML(value='')))"
      ]
     },
     "metadata": {},
     "output_type": "display_data"
    }
   ],
   "source": [
    "write_to_file(valid.values, \"./data/corpus/valid.txt\")"
   ]
  },
  {
   "cell_type": "code",
   "execution_count": 81,
   "metadata": {},
   "outputs": [
    {
     "data": {
      "application/vnd.jupyter.widget-view+json": {
       "model_id": "4a4bfa45e9dc4aada4a202d7e7060c87",
       "version_major": 2,
       "version_minor": 0
      },
      "text/plain": [
       "HBox(children=(IntProgress(value=0, max=7894), HTML(value='')))"
      ]
     },
     "metadata": {},
     "output_type": "display_data"
    },
    {
     "data": {
      "application/vnd.jupyter.widget-view+json": {
       "model_id": "4b8f3f2e5bd5403fa1202ac1733bfcd5",
       "version_major": 2,
       "version_minor": 0
      },
      "text/plain": [
       "HBox(children=(IntProgress(value=0, max=7894), HTML(value='')))"
      ]
     },
     "metadata": {},
     "output_type": "display_data"
    },
    {
     "data": {
      "application/vnd.jupyter.widget-view+json": {
       "model_id": "edcda50178f64a8a872c4c57a3a45716",
       "version_major": 2,
       "version_minor": 0
      },
      "text/plain": [
       "HBox(children=(IntProgress(value=0, max=7894), HTML(value='')))"
      ]
     },
     "metadata": {},
     "output_type": "display_data"
    },
    {
     "data": {
      "application/vnd.jupyter.widget-view+json": {
       "model_id": "7c404b40255740ab9f23a12ad33f1961",
       "version_major": 2,
       "version_minor": 0
      },
      "text/plain": [
       "HBox(children=(IntProgress(value=0, max=7894), HTML(value='')))"
      ]
     },
     "metadata": {},
     "output_type": "display_data"
    },
    {
     "data": {
      "application/vnd.jupyter.widget-view+json": {
       "model_id": "af5769add861482abdc49e5741e0ab34",
       "version_major": 2,
       "version_minor": 0
      },
      "text/plain": [
       "HBox(children=(IntProgress(value=0, max=7894), HTML(value='')))"
      ]
     },
     "metadata": {},
     "output_type": "display_data"
    },
    {
     "data": {
      "application/vnd.jupyter.widget-view+json": {
       "model_id": "3693022701d04712adec3e935cf53deb",
       "version_major": 2,
       "version_minor": 0
      },
      "text/plain": [
       "HBox(children=(IntProgress(value=0, max=7894), HTML(value='')))"
      ]
     },
     "metadata": {},
     "output_type": "display_data"
    },
    {
     "data": {
      "application/vnd.jupyter.widget-view+json": {
       "model_id": "b8fcd825b7764f28a3129640dbf53f25",
       "version_major": 2,
       "version_minor": 0
      },
      "text/plain": [
       "HBox(children=(IntProgress(value=0, max=7894), HTML(value='')))"
      ]
     },
     "metadata": {},
     "output_type": "display_data"
    },
    {
     "data": {
      "application/vnd.jupyter.widget-view+json": {
       "model_id": "84939efc4cd74d6583b88db5af419460",
       "version_major": 2,
       "version_minor": 0
      },
      "text/plain": [
       "HBox(children=(IntProgress(value=0, max=7894), HTML(value='')))"
      ]
     },
     "metadata": {},
     "output_type": "display_data"
    },
    {
     "data": {
      "application/vnd.jupyter.widget-view+json": {
       "model_id": "532c2d95c8a74d6685cf981cc47b2991",
       "version_major": 2,
       "version_minor": 0
      },
      "text/plain": [
       "HBox(children=(IntProgress(value=0, max=7894), HTML(value='')))"
      ]
     },
     "metadata": {},
     "output_type": "display_data"
    },
    {
     "data": {
      "application/vnd.jupyter.widget-view+json": {
       "model_id": "20e794e73b5f42b08739a297d8046ae4",
       "version_major": 2,
       "version_minor": 0
      },
      "text/plain": [
       "HBox(children=(IntProgress(value=0, max=7894), HTML(value='')))"
      ]
     },
     "metadata": {},
     "output_type": "display_data"
    },
    {
     "data": {
      "application/vnd.jupyter.widget-view+json": {
       "model_id": "beb4bb0d1e564a68bd8c00ac37c6eff2",
       "version_major": 2,
       "version_minor": 0
      },
      "text/plain": [
       "HBox(children=(IntProgress(value=0, max=7894), HTML(value='')))"
      ]
     },
     "metadata": {},
     "output_type": "display_data"
    },
    {
     "data": {
      "application/vnd.jupyter.widget-view+json": {
       "model_id": "46ea1116172140f8ac522b6d71e5e1ea",
       "version_major": 2,
       "version_minor": 0
      },
      "text/plain": [
       "HBox(children=(IntProgress(value=0, max=7894), HTML(value='')))"
      ]
     },
     "metadata": {},
     "output_type": "display_data"
    },
    {
     "data": {
      "application/vnd.jupyter.widget-view+json": {
       "model_id": "0e6ec442aa974716b5f1ee61b058e670",
       "version_major": 2,
       "version_minor": 0
      },
      "text/plain": [
       "HBox(children=(IntProgress(value=0, max=7894), HTML(value='')))"
      ]
     },
     "metadata": {},
     "output_type": "display_data"
    },
    {
     "data": {
      "application/vnd.jupyter.widget-view+json": {
       "model_id": "b8238d56820a45f29c51e868a4f8d18f",
       "version_major": 2,
       "version_minor": 0
      },
      "text/plain": [
       "HBox(children=(IntProgress(value=0, max=7894), HTML(value='')))"
      ]
     },
     "metadata": {},
     "output_type": "display_data"
    },
    {
     "data": {
      "application/vnd.jupyter.widget-view+json": {
       "model_id": "d2d3a5cf525149059efd70f6d55f5994",
       "version_major": 2,
       "version_minor": 0
      },
      "text/plain": [
       "HBox(children=(IntProgress(value=0, max=7894), HTML(value='')))"
      ]
     },
     "metadata": {},
     "output_type": "display_data"
    },
    {
     "data": {
      "application/vnd.jupyter.widget-view+json": {
       "model_id": "1e07152976174b3e9c796848b1c7e785",
       "version_major": 2,
       "version_minor": 0
      },
      "text/plain": [
       "HBox(children=(IntProgress(value=0, max=7894), HTML(value='')))"
      ]
     },
     "metadata": {},
     "output_type": "display_data"
    },
    {
     "data": {
      "application/vnd.jupyter.widget-view+json": {
       "model_id": "302a4ab7511040868c82c934d2a74e0a",
       "version_major": 2,
       "version_minor": 0
      },
      "text/plain": [
       "HBox(children=(IntProgress(value=0, max=7894), HTML(value='')))"
      ]
     },
     "metadata": {},
     "output_type": "display_data"
    },
    {
     "data": {
      "application/vnd.jupyter.widget-view+json": {
       "model_id": "ddea2ef971f14e928951b776e7628e4a",
       "version_major": 2,
       "version_minor": 0
      },
      "text/plain": [
       "HBox(children=(IntProgress(value=0, max=7894), HTML(value='')))"
      ]
     },
     "metadata": {},
     "output_type": "display_data"
    },
    {
     "data": {
      "application/vnd.jupyter.widget-view+json": {
       "model_id": "9d5146ab229b40f79ccb5d169785b7a8",
       "version_major": 2,
       "version_minor": 0
      },
      "text/plain": [
       "HBox(children=(IntProgress(value=0, max=7894), HTML(value='')))"
      ]
     },
     "metadata": {},
     "output_type": "display_data"
    },
    {
     "data": {
      "application/vnd.jupyter.widget-view+json": {
       "model_id": "8b5d94f2258a4599aa7818c3da527d50",
       "version_major": 2,
       "version_minor": 0
      },
      "text/plain": [
       "HBox(children=(IntProgress(value=0, max=7894), HTML(value='')))"
      ]
     },
     "metadata": {},
     "output_type": "display_data"
    },
    {
     "data": {
      "application/vnd.jupyter.widget-view+json": {
       "model_id": "ef76830d3de9474a8955684fdcdb26d2",
       "version_major": 2,
       "version_minor": 0
      },
      "text/plain": [
       "HBox(children=(IntProgress(value=0, max=7894), HTML(value='')))"
      ]
     },
     "metadata": {},
     "output_type": "display_data"
    },
    {
     "data": {
      "application/vnd.jupyter.widget-view+json": {
       "model_id": "978e445070564e8ea30909d94eec3f0f",
       "version_major": 2,
       "version_minor": 0
      },
      "text/plain": [
       "HBox(children=(IntProgress(value=0, max=7894), HTML(value='')))"
      ]
     },
     "metadata": {},
     "output_type": "display_data"
    },
    {
     "data": {
      "application/vnd.jupyter.widget-view+json": {
       "model_id": "0a8bd0c1a81e4f8b8eabbf3865ba9fcb",
       "version_major": 2,
       "version_minor": 0
      },
      "text/plain": [
       "HBox(children=(IntProgress(value=0, max=7894), HTML(value='')))"
      ]
     },
     "metadata": {},
     "output_type": "display_data"
    },
    {
     "data": {
      "application/vnd.jupyter.widget-view+json": {
       "model_id": "2fefd337d9a64b958dc5c7701f610ef3",
       "version_major": 2,
       "version_minor": 0
      },
      "text/plain": [
       "HBox(children=(IntProgress(value=0, max=7894), HTML(value='')))"
      ]
     },
     "metadata": {},
     "output_type": "display_data"
    },
    {
     "data": {
      "application/vnd.jupyter.widget-view+json": {
       "model_id": "34b57ca743ce48bb9d9d327af8e5ca56",
       "version_major": 2,
       "version_minor": 0
      },
      "text/plain": [
       "HBox(children=(IntProgress(value=0, max=7894), HTML(value='')))"
      ]
     },
     "metadata": {},
     "output_type": "display_data"
    },
    {
     "data": {
      "application/vnd.jupyter.widget-view+json": {
       "model_id": "86fb1c7c71e24447bcef6fd8fd9e7011",
       "version_major": 2,
       "version_minor": 0
      },
      "text/plain": [
       "HBox(children=(IntProgress(value=0, max=7894), HTML(value='')))"
      ]
     },
     "metadata": {},
     "output_type": "display_data"
    },
    {
     "data": {
      "application/vnd.jupyter.widget-view+json": {
       "model_id": "aa559c8f181048f895453bef13bb34ae",
       "version_major": 2,
       "version_minor": 0
      },
      "text/plain": [
       "HBox(children=(IntProgress(value=0, max=7894), HTML(value='')))"
      ]
     },
     "metadata": {},
     "output_type": "display_data"
    },
    {
     "data": {
      "application/vnd.jupyter.widget-view+json": {
       "model_id": "399923b94ddb4b3ca01f2f8f283d8e41",
       "version_major": 2,
       "version_minor": 0
      },
      "text/plain": [
       "HBox(children=(IntProgress(value=0, max=7894), HTML(value='')))"
      ]
     },
     "metadata": {},
     "output_type": "display_data"
    },
    {
     "data": {
      "application/vnd.jupyter.widget-view+json": {
       "model_id": "c30315e37dac41559a48371f5eb75bbe",
       "version_major": 2,
       "version_minor": 0
      },
      "text/plain": [
       "HBox(children=(IntProgress(value=0, max=7894), HTML(value='')))"
      ]
     },
     "metadata": {},
     "output_type": "display_data"
    },
    {
     "data": {
      "application/vnd.jupyter.widget-view+json": {
       "model_id": "0ef04be46b0f40a49832892e1609e0c8",
       "version_major": 2,
       "version_minor": 0
      },
      "text/plain": [
       "HBox(children=(IntProgress(value=0, max=7894), HTML(value='')))"
      ]
     },
     "metadata": {},
     "output_type": "display_data"
    },
    {
     "data": {
      "application/vnd.jupyter.widget-view+json": {
       "model_id": "fba0edd1ce78423590d726a2ebdf400a",
       "version_major": 2,
       "version_minor": 0
      },
      "text/plain": [
       "HBox(children=(IntProgress(value=0, max=7894), HTML(value='')))"
      ]
     },
     "metadata": {},
     "output_type": "display_data"
    },
    {
     "data": {
      "application/vnd.jupyter.widget-view+json": {
       "model_id": "aaffa460c3ab42e4af034cc93cc64b84",
       "version_major": 2,
       "version_minor": 0
      },
      "text/plain": [
       "HBox(children=(IntProgress(value=0, max=7894), HTML(value='')))"
      ]
     },
     "metadata": {},
     "output_type": "display_data"
    },
    {
     "data": {
      "application/vnd.jupyter.widget-view+json": {
       "model_id": "6818358ecd3c479db1d968b6e248445d",
       "version_major": 2,
       "version_minor": 0
      },
      "text/plain": [
       "HBox(children=(IntProgress(value=0, max=7894), HTML(value='')))"
      ]
     },
     "metadata": {},
     "output_type": "display_data"
    },
    {
     "data": {
      "application/vnd.jupyter.widget-view+json": {
       "model_id": "4835e124361f4cd083463dd8799e0d98",
       "version_major": 2,
       "version_minor": 0
      },
      "text/plain": [
       "HBox(children=(IntProgress(value=0, max=7894), HTML(value='')))"
      ]
     },
     "metadata": {},
     "output_type": "display_data"
    },
    {
     "data": {
      "application/vnd.jupyter.widget-view+json": {
       "model_id": "3b40bdad05fa45d489ab1b9ddd6fb04b",
       "version_major": 2,
       "version_minor": 0
      },
      "text/plain": [
       "HBox(children=(IntProgress(value=0, max=7894), HTML(value='')))"
      ]
     },
     "metadata": {},
     "output_type": "display_data"
    },
    {
     "data": {
      "application/vnd.jupyter.widget-view+json": {
       "model_id": "5583d8830dbb4ac98dc45d8efddc4155",
       "version_major": 2,
       "version_minor": 0
      },
      "text/plain": [
       "HBox(children=(IntProgress(value=0, max=7894), HTML(value='')))"
      ]
     },
     "metadata": {},
     "output_type": "display_data"
    },
    {
     "data": {
      "application/vnd.jupyter.widget-view+json": {
       "model_id": "5e92d2d9ca6448f0acdbc9820a78966b",
       "version_major": 2,
       "version_minor": 0
      },
      "text/plain": [
       "HBox(children=(IntProgress(value=0, max=7894), HTML(value='')))"
      ]
     },
     "metadata": {},
     "output_type": "display_data"
    },
    {
     "data": {
      "application/vnd.jupyter.widget-view+json": {
       "model_id": "ebbd55fc192f4908bc0823c20570af41",
       "version_major": 2,
       "version_minor": 0
      },
      "text/plain": [
       "HBox(children=(IntProgress(value=0, max=7894), HTML(value='')))"
      ]
     },
     "metadata": {},
     "output_type": "display_data"
    },
    {
     "data": {
      "application/vnd.jupyter.widget-view+json": {
       "model_id": "716aafca597a486595ab90639792170d",
       "version_major": 2,
       "version_minor": 0
      },
      "text/plain": [
       "HBox(children=(IntProgress(value=0, max=7894), HTML(value='')))"
      ]
     },
     "metadata": {},
     "output_type": "display_data"
    },
    {
     "data": {
      "application/vnd.jupyter.widget-view+json": {
       "model_id": "c8b9ed3018d44a9fbb9ab6ec411b3448",
       "version_major": 2,
       "version_minor": 0
      },
      "text/plain": [
       "HBox(children=(IntProgress(value=0, max=7894), HTML(value='')))"
      ]
     },
     "metadata": {},
     "output_type": "display_data"
    },
    {
     "data": {
      "application/vnd.jupyter.widget-view+json": {
       "model_id": "9be7f00b5fcb43d0ba61f9bdfa0bcc1b",
       "version_major": 2,
       "version_minor": 0
      },
      "text/plain": [
       "HBox(children=(IntProgress(value=0, max=7894), HTML(value='')))"
      ]
     },
     "metadata": {},
     "output_type": "display_data"
    },
    {
     "data": {
      "application/vnd.jupyter.widget-view+json": {
       "model_id": "43c45706850b450c8440cea428823045",
       "version_major": 2,
       "version_minor": 0
      },
      "text/plain": [
       "HBox(children=(IntProgress(value=0, max=7894), HTML(value='')))"
      ]
     },
     "metadata": {},
     "output_type": "display_data"
    },
    {
     "data": {
      "application/vnd.jupyter.widget-view+json": {
       "model_id": "6f0a7f03a5f64dd78b7fe01af1b01891",
       "version_major": 2,
       "version_minor": 0
      },
      "text/plain": [
       "HBox(children=(IntProgress(value=0, max=7894), HTML(value='')))"
      ]
     },
     "metadata": {},
     "output_type": "display_data"
    },
    {
     "data": {
      "application/vnd.jupyter.widget-view+json": {
       "model_id": "8a2264299e5f4992b838b2acb26a8363",
       "version_major": 2,
       "version_minor": 0
      },
      "text/plain": [
       "HBox(children=(IntProgress(value=0, max=7894), HTML(value='')))"
      ]
     },
     "metadata": {},
     "output_type": "display_data"
    },
    {
     "data": {
      "application/vnd.jupyter.widget-view+json": {
       "model_id": "ce50c2475b554a6bbd9368ab7882aae0",
       "version_major": 2,
       "version_minor": 0
      },
      "text/plain": [
       "HBox(children=(IntProgress(value=0, max=7894), HTML(value='')))"
      ]
     },
     "metadata": {},
     "output_type": "display_data"
    },
    {
     "data": {
      "application/vnd.jupyter.widget-view+json": {
       "model_id": "763db367f91d4f1cbd42c487ca18fc54",
       "version_major": 2,
       "version_minor": 0
      },
      "text/plain": [
       "HBox(children=(IntProgress(value=0, max=7894), HTML(value='')))"
      ]
     },
     "metadata": {},
     "output_type": "display_data"
    },
    {
     "data": {
      "application/vnd.jupyter.widget-view+json": {
       "model_id": "45c7a31f3adb47adafb2cf7dccc9aa68",
       "version_major": 2,
       "version_minor": 0
      },
      "text/plain": [
       "HBox(children=(IntProgress(value=0, max=7894), HTML(value='')))"
      ]
     },
     "metadata": {},
     "output_type": "display_data"
    },
    {
     "data": {
      "application/vnd.jupyter.widget-view+json": {
       "model_id": "47618e26f1d142d7942e91eede42c678",
       "version_major": 2,
       "version_minor": 0
      },
      "text/plain": [
       "HBox(children=(IntProgress(value=0, max=7894), HTML(value='')))"
      ]
     },
     "metadata": {},
     "output_type": "display_data"
    },
    {
     "data": {
      "application/vnd.jupyter.widget-view+json": {
       "model_id": "2787e231c4ec4e52a2a1d7b824cf42b0",
       "version_major": 2,
       "version_minor": 0
      },
      "text/plain": [
       "HBox(children=(IntProgress(value=0, max=7894), HTML(value='')))"
      ]
     },
     "metadata": {},
     "output_type": "display_data"
    },
    {
     "data": {
      "application/vnd.jupyter.widget-view+json": {
       "model_id": "61961e0b2e6a4d70a56b4aad4f766cb2",
       "version_major": 2,
       "version_minor": 0
      },
      "text/plain": [
       "HBox(children=(IntProgress(value=0, max=7894), HTML(value='')))"
      ]
     },
     "metadata": {},
     "output_type": "display_data"
    },
    {
     "data": {
      "application/vnd.jupyter.widget-view+json": {
       "model_id": "aebd5b4700644a0b9ccca58f859b58c3",
       "version_major": 2,
       "version_minor": 0
      },
      "text/plain": [
       "HBox(children=(IntProgress(value=0, max=7894), HTML(value='')))"
      ]
     },
     "metadata": {},
     "output_type": "display_data"
    },
    {
     "data": {
      "application/vnd.jupyter.widget-view+json": {
       "model_id": "82662e4db33d4dd0a9992a618dfb654c",
       "version_major": 2,
       "version_minor": 0
      },
      "text/plain": [
       "HBox(children=(IntProgress(value=0, max=7894), HTML(value='')))"
      ]
     },
     "metadata": {},
     "output_type": "display_data"
    },
    {
     "data": {
      "application/vnd.jupyter.widget-view+json": {
       "model_id": "bac090cfdca5419495abd24fa68e07c2",
       "version_major": 2,
       "version_minor": 0
      },
      "text/plain": [
       "HBox(children=(IntProgress(value=0, max=7894), HTML(value='')))"
      ]
     },
     "metadata": {},
     "output_type": "display_data"
    },
    {
     "data": {
      "application/vnd.jupyter.widget-view+json": {
       "model_id": "fe9649fd96f249f6872f001aee0d0b54",
       "version_major": 2,
       "version_minor": 0
      },
      "text/plain": [
       "HBox(children=(IntProgress(value=0, max=7894), HTML(value='')))"
      ]
     },
     "metadata": {},
     "output_type": "display_data"
    },
    {
     "data": {
      "application/vnd.jupyter.widget-view+json": {
       "model_id": "de817ec142744ee89e9219266a06ddbc",
       "version_major": 2,
       "version_minor": 0
      },
      "text/plain": [
       "HBox(children=(IntProgress(value=0, max=7894), HTML(value='')))"
      ]
     },
     "metadata": {},
     "output_type": "display_data"
    },
    {
     "data": {
      "application/vnd.jupyter.widget-view+json": {
       "model_id": "56f4ae33505c4295b475c7ce0b70c139",
       "version_major": 2,
       "version_minor": 0
      },
      "text/plain": [
       "HBox(children=(IntProgress(value=0, max=7894), HTML(value='')))"
      ]
     },
     "metadata": {},
     "output_type": "display_data"
    },
    {
     "data": {
      "application/vnd.jupyter.widget-view+json": {
       "model_id": "d6d5850399004cfb93816a2e89e4039e",
       "version_major": 2,
       "version_minor": 0
      },
      "text/plain": [
       "HBox(children=(IntProgress(value=0, max=7894), HTML(value='')))"
      ]
     },
     "metadata": {},
     "output_type": "display_data"
    },
    {
     "data": {
      "application/vnd.jupyter.widget-view+json": {
       "model_id": "a2498591cbfa48c0996352f449301bf0",
       "version_major": 2,
       "version_minor": 0
      },
      "text/plain": [
       "HBox(children=(IntProgress(value=0, max=7894), HTML(value='')))"
      ]
     },
     "metadata": {},
     "output_type": "display_data"
    },
    {
     "data": {
      "application/vnd.jupyter.widget-view+json": {
       "model_id": "4ff57ba28bd34719b36ddadfe0a35cb2",
       "version_major": 2,
       "version_minor": 0
      },
      "text/plain": [
       "HBox(children=(IntProgress(value=0, max=7894), HTML(value='')))"
      ]
     },
     "metadata": {},
     "output_type": "display_data"
    },
    {
     "data": {
      "application/vnd.jupyter.widget-view+json": {
       "model_id": "4d729a57f2e64220b8f9dc4cafed9a68",
       "version_major": 2,
       "version_minor": 0
      },
      "text/plain": [
       "HBox(children=(IntProgress(value=0, max=7894), HTML(value='')))"
      ]
     },
     "metadata": {},
     "output_type": "display_data"
    },
    {
     "data": {
      "application/vnd.jupyter.widget-view+json": {
       "model_id": "744d686648264d46bff669e1541a9181",
       "version_major": 2,
       "version_minor": 0
      },
      "text/plain": [
       "HBox(children=(IntProgress(value=0, max=7894), HTML(value='')))"
      ]
     },
     "metadata": {},
     "output_type": "display_data"
    },
    {
     "data": {
      "application/vnd.jupyter.widget-view+json": {
       "model_id": "c035e2feb29442debd32b35eb97cd662",
       "version_major": 2,
       "version_minor": 0
      },
      "text/plain": [
       "HBox(children=(IntProgress(value=0, max=7894), HTML(value='')))"
      ]
     },
     "metadata": {},
     "output_type": "display_data"
    },
    {
     "data": {
      "application/vnd.jupyter.widget-view+json": {
       "model_id": "0e667e9d721d46a8b35861196c591d18",
       "version_major": 2,
       "version_minor": 0
      },
      "text/plain": [
       "HBox(children=(IntProgress(value=0, max=7894), HTML(value='')))"
      ]
     },
     "metadata": {},
     "output_type": "display_data"
    },
    {
     "data": {
      "application/vnd.jupyter.widget-view+json": {
       "model_id": "47623abbf0a149299a9fb7bae10f8f01",
       "version_major": 2,
       "version_minor": 0
      },
      "text/plain": [
       "HBox(children=(IntProgress(value=0, max=7894), HTML(value='')))"
      ]
     },
     "metadata": {},
     "output_type": "display_data"
    },
    {
     "data": {
      "application/vnd.jupyter.widget-view+json": {
       "model_id": "2e774f17065c45378967b8b87bb896cf",
       "version_major": 2,
       "version_minor": 0
      },
      "text/plain": [
       "HBox(children=(IntProgress(value=0, max=7894), HTML(value='')))"
      ]
     },
     "metadata": {},
     "output_type": "display_data"
    },
    {
     "data": {
      "application/vnd.jupyter.widget-view+json": {
       "model_id": "ee0019db528f4b889846dde14d050794",
       "version_major": 2,
       "version_minor": 0
      },
      "text/plain": [
       "HBox(children=(IntProgress(value=0, max=7894), HTML(value='')))"
      ]
     },
     "metadata": {},
     "output_type": "display_data"
    },
    {
     "data": {
      "application/vnd.jupyter.widget-view+json": {
       "model_id": "fbc66b75212d46bc8dc72615e214cb33",
       "version_major": 2,
       "version_minor": 0
      },
      "text/plain": [
       "HBox(children=(IntProgress(value=0, max=7894), HTML(value='')))"
      ]
     },
     "metadata": {},
     "output_type": "display_data"
    },
    {
     "data": {
      "application/vnd.jupyter.widget-view+json": {
       "model_id": "c01344153bfd4ab4b720060cd63e46ec",
       "version_major": 2,
       "version_minor": 0
      },
      "text/plain": [
       "HBox(children=(IntProgress(value=0, max=7894), HTML(value='')))"
      ]
     },
     "metadata": {},
     "output_type": "display_data"
    },
    {
     "data": {
      "application/vnd.jupyter.widget-view+json": {
       "model_id": "4de3abf7c60c49a388ce7831ca866700",
       "version_major": 2,
       "version_minor": 0
      },
      "text/plain": [
       "HBox(children=(IntProgress(value=0, max=7894), HTML(value='')))"
      ]
     },
     "metadata": {},
     "output_type": "display_data"
    },
    {
     "data": {
      "application/vnd.jupyter.widget-view+json": {
       "model_id": "33388e053a4f4190876b9cbcbc0f5ac6",
       "version_major": 2,
       "version_minor": 0
      },
      "text/plain": [
       "HBox(children=(IntProgress(value=0, max=7894), HTML(value='')))"
      ]
     },
     "metadata": {},
     "output_type": "display_data"
    },
    {
     "data": {
      "application/vnd.jupyter.widget-view+json": {
       "model_id": "a703c8b251254f7e8f9b498342fc5c56",
       "version_major": 2,
       "version_minor": 0
      },
      "text/plain": [
       "HBox(children=(IntProgress(value=0, max=7894), HTML(value='')))"
      ]
     },
     "metadata": {},
     "output_type": "display_data"
    },
    {
     "data": {
      "application/vnd.jupyter.widget-view+json": {
       "model_id": "431ff0f3fbee49a18adb100e1f9e3880",
       "version_major": 2,
       "version_minor": 0
      },
      "text/plain": [
       "HBox(children=(IntProgress(value=0, max=7894), HTML(value='')))"
      ]
     },
     "metadata": {},
     "output_type": "display_data"
    },
    {
     "data": {
      "application/vnd.jupyter.widget-view+json": {
       "model_id": "fe37e662cce34416aecf234f3b57e4b5",
       "version_major": 2,
       "version_minor": 0
      },
      "text/plain": [
       "HBox(children=(IntProgress(value=0, max=7894), HTML(value='')))"
      ]
     },
     "metadata": {},
     "output_type": "display_data"
    },
    {
     "data": {
      "application/vnd.jupyter.widget-view+json": {
       "model_id": "5ff055b9f4b94b42a16aafe4d90deb11",
       "version_major": 2,
       "version_minor": 0
      },
      "text/plain": [
       "HBox(children=(IntProgress(value=0, max=7894), HTML(value='')))"
      ]
     },
     "metadata": {},
     "output_type": "display_data"
    },
    {
     "data": {
      "application/vnd.jupyter.widget-view+json": {
       "model_id": "a1f3c8d0ae714a13a46ea9ef5e1e7da6",
       "version_major": 2,
       "version_minor": 0
      },
      "text/plain": [
       "HBox(children=(IntProgress(value=0, max=7894), HTML(value='')))"
      ]
     },
     "metadata": {},
     "output_type": "display_data"
    },
    {
     "data": {
      "application/vnd.jupyter.widget-view+json": {
       "model_id": "369c223af9ad415492765fed982aac6e",
       "version_major": 2,
       "version_minor": 0
      },
      "text/plain": [
       "HBox(children=(IntProgress(value=0, max=7894), HTML(value='')))"
      ]
     },
     "metadata": {},
     "output_type": "display_data"
    },
    {
     "data": {
      "application/vnd.jupyter.widget-view+json": {
       "model_id": "0f5488c5bb5a41bba3452b7f4ded077d",
       "version_major": 2,
       "version_minor": 0
      },
      "text/plain": [
       "HBox(children=(IntProgress(value=0, max=7894), HTML(value='')))"
      ]
     },
     "metadata": {},
     "output_type": "display_data"
    },
    {
     "data": {
      "application/vnd.jupyter.widget-view+json": {
       "model_id": "b11e0bcafe344a6b8adcb9baeb434a82",
       "version_major": 2,
       "version_minor": 0
      },
      "text/plain": [
       "HBox(children=(IntProgress(value=0, max=7894), HTML(value='')))"
      ]
     },
     "metadata": {},
     "output_type": "display_data"
    },
    {
     "data": {
      "application/vnd.jupyter.widget-view+json": {
       "model_id": "73a4aa3397f144deb6fec3a0bb6cf29f",
       "version_major": 2,
       "version_minor": 0
      },
      "text/plain": [
       "HBox(children=(IntProgress(value=0, max=7894), HTML(value='')))"
      ]
     },
     "metadata": {},
     "output_type": "display_data"
    },
    {
     "data": {
      "application/vnd.jupyter.widget-view+json": {
       "model_id": "64bf2767b14949a3a99943995e8b0d23",
       "version_major": 2,
       "version_minor": 0
      },
      "text/plain": [
       "HBox(children=(IntProgress(value=0, max=7894), HTML(value='')))"
      ]
     },
     "metadata": {},
     "output_type": "display_data"
    }
   ],
   "source": [
    "for i, chunk in enumerate(chunks(train, int(parts_sizes))):\n",
    "    write_to_file(chunk, f\"./data/corpus/train/train_split_{i+1}\")"
   ]
  },
  {
   "cell_type": "code",
   "execution_count": 84,
   "metadata": {},
   "outputs": [
    {
     "data": {
      "application/vnd.jupyter.widget-view+json": {
       "model_id": "c67d116cd86a43ce8459726d57af444b",
       "version_major": 2,
       "version_minor": 0
      },
      "text/plain": [
       "HBox(children=(IntProgress(value=0, max=80), HTML(value='')))"
      ]
     },
     "metadata": {},
     "output_type": "display_data"
    },
    {
     "name": "stdout",
     "output_type": "stream",
     "text": [
      "840284041\n",
      "669534\n",
      "1\t \t112872662\t112872662\t0.134327\n",
      "2\tо\t71643756\t184516418\t0.219588\n",
      "3\tа\t55244822\t239761240\t0.285334\n",
      "4\tе\t55175886\t294937126\t0.350997\n",
      "5\tи\t53182627\t348119753\t0.414288\n",
      "6\tн\t43573334\t391693087\t0.466144\n",
      "7\tт\t41308131\t433001218\t0.515303\n",
      "8\tр\t36629176\t469630394\t0.558895\n",
      "9\tс\t36404106\t506034500\t0.602218\n",
      "10\tв\t30452165\t536486665\t0.638459\n",
      "11\tл\t28322638\t564809303\t0.672165\n",
      "12\tк\t21423757\t586233060\t0.697661\n",
      "13\tд\t19551120\t605784180\t0.720928\n",
      "14\tм\t18970750\t624754930\t0.743504\n",
      "15\tп\t18772037\t643526967\t0.765845\n",
      "16\tу\t15270678\t658797645\t0.784018\n",
      "17\tя\t12160548\t670958193\t0.798490\n",
      "18\tы\t11548091\t682506284\t0.812233\n",
      "19\tг\t10686014\t693192298\t0.824950\n",
      "20\tб\t10589708\t703782006\t0.837553\n",
      "21\tз\t10500115\t714282121\t0.850048\n",
      "22\t,\t9291962\t723574083\t0.861107\n",
      "23\tь\t8581478\t732155561\t0.871319\n",
      "24\tй\t8304644\t740460205\t0.881202\n",
      "25\tч\t7803636\t748263841\t0.890489\n",
      "26\t.\t7175327\t755439168\t0.899028\n",
      "27\tх\t5386035\t760825203\t0.905438\n",
      "28\tж\t5221663\t766046866\t0.911652\n",
      "29\tц\t4212427\t770259293\t0.916665\n",
      "30\tю\t3693701\t773952994\t0.921061\n",
      "31\tш\t3539627\t777492621\t0.925274\n",
      "32\t\"\t2852513\t780345134\t0.928668\n",
      "33\tщ\t2693094\t783038228\t0.931873\n",
      "34\tф\t2192318\t785230546\t0.934482\n",
      "35\t0\t2093053\t787323599\t0.936973\n",
      "36\tС\t1969340\t789292939\t0.939317\n",
      "37\t-\t1967988\t791260927\t0.941659\n",
      "38\tВ\t1943921\t793204848\t0.943972\n",
      "39\tП\t1833885\t795038733\t0.946155\n",
      "40\t1\t1797008\t796835741\t0.948293\n",
      "41\tэ\t1764680\t798600421\t0.950393\n",
      "42\t2\t1702009\t800302430\t0.952419\n",
      "43\tК\t1592463\t801894893\t0.954314\n",
      "44\te\t1590660\t803485553\t0.956207\n",
      "45\tР\t1462690\t804948243\t0.957948\n",
      "46\tА\t1394522\t806342765\t0.959607\n",
      "47\tМ\t1343003\t807685768\t0.961206\n",
      "48\tО\t1207810\t808893578\t0.962643\n",
      "49\ta\t1138553\t810032131\t0.963998\n",
      "50\to\t1001887\t811034018\t0.965190\n",
      "51\tН\t1000279\t812034297\t0.966381\n",
      "52\tr\t 956913\t812991210\t0.967520\n",
      "53\ti\t 942139\t813933349\t0.968641\n",
      "54\tИ\t 889578\t814822927\t0.969699\n",
      "55\tД\t 844057\t815666984\t0.970704\n",
      "56\tn\t 836204\t816503188\t0.971699\n",
      "57\t«\t 834569\t817337757\t0.972692\n",
      "58\t»\t 834118\t818171875\t0.973685\n",
      "59\ts\t 812448\t818984323\t0.974652\n",
      "60\tТ\t 795923\t819780246\t0.975599\n",
      "61\tБ\t 789584\t820569830\t0.976539\n",
      "62\tt\t 741668\t821311498\t0.977421\n",
      "63\tГ\t 700024\t822011522\t0.978254\n",
      "64\t\n",
      "\t 669534\t822681056\t0.979051\n",
      "65\t5\t 668473\t823349529\t0.979847\n",
      "66\t3\t 642919\t823992448\t0.980612\n",
      "67\t)\t 625351\t824617799\t0.981356\n",
      "68\t(\t 624163\t825241962\t0.982099\n",
      "69\tl\t 597936\t825839898\t0.982810\n",
      "70\t9\t 577801\t826417699\t0.983498\n",
      "71\t4\t 542800\t826960499\t0.984144\n",
      "72\tФ\t 491962\t827452461\t0.984729\n",
      "73\t6\t 483017\t827935478\t0.985304\n",
      "74\tЛ\t 482334\t828417812\t0.985878\n",
      "75\tУ\t 464672\t828882484\t0.986431\n",
      "76\t7\t 448584\t829331068\t0.986965\n",
      "77\t8\t 439354\t829770422\t0.987488\n",
      "78\tu\t 408521\t830178943\t0.987974\n",
      "79\tc\t 389464\t830568407\t0.988438\n",
      "80\t—\t 385562\t830953969\t0.988897\n",
      "81\tШ\t 363546\t831317515\t0.989329\n",
      "82\tЕ\t 354716\t831672231\t0.989751\n",
      "83\td\t 344909\t832017140\t0.990162\n",
      "84\th\t 340047\t832357187\t0.990566\n",
      "85\tA\t 323070\t832680257\t0.990951\n",
      "86\tъ\t 320635\t833000892\t0.991333\n",
      "87\tЗ\t 297911\t833298803\t0.991687\n",
      "88\tЭ\t 287082\t833585885\t0.992029\n",
      "89\tS\t 284313\t833870198\t0.992367\n",
      "90\tm\t 281672\t834151870\t0.992702\n",
      "91\tT\t 263836\t834415706\t0.993016\n",
      "92\tХ\t 251532\t834667238\t0.993316\n",
      "93\t:\t 248104\t834915342\t0.993611\n",
      "94\tЧ\t 244531\t835159873\t0.993902\n",
      "95\tP\t 243861\t835403734\t0.994192\n",
      "96\tg\t 240637\t835644371\t0.994478\n",
      "97\tC\t 222172\t835866543\t0.994743\n",
      "98\tB\t 213310\t836079853\t0.994997\n",
      "99\ty\t 207760\t836287613\t0.995244\n",
      "100\t \t 206222\t836493835\t0.995489\n",
      "101\tM\t 204834\t836698669\t0.995733\n",
      "102\tp\t 204630\t836903299\t0.995977\n",
      "103\tN\t 176678\t837079977\t0.996187\n",
      "104\tR\t 175346\t837255323\t0.996396\n",
      "105\tF\t 168633\t837423956\t0.996596\n",
      "106\tb\t 165918\t837589874\t0.996794\n",
      "107\tk\t 165246\t837755120\t0.996990\n",
      "108\tI\t 161950\t837917070\t0.997183\n",
      "109\tw\t 150123\t838067193\t0.997362\n",
      "110\tD\t 143708\t838210901\t0.997533\n",
      "111\tЯ\t 139371\t838350272\t0.997699\n",
      "112\tЮ\t 138093\t838488365\t0.997863\n",
      "113\tЦ\t 136710\t838625075\t0.998026\n",
      "114\tG\t 136310\t838761385\t0.998188\n",
      "115\tf\t 115478\t838876863\t0.998325\n",
      "116\tE\t 113204\t838990067\t0.998460\n",
      "117\tL\t 108205\t839098272\t0.998589\n",
      "118\tW\t 102785\t839201057\t0.998711\n",
      "119\tv\t  92705\t839293762\t0.998821\n",
      "120\tЖ\t  91057\t839384819\t0.998930\n",
      "121\tH\t  88321\t839473140\t0.999035\n",
      "122\tO\t  72113\t839545253\t0.999121\n",
      "123\tV\t  64715\t839609968\t0.999198\n",
      "124\tJ\t  51869\t839661837\t0.999260\n",
      "125\tx\t  51797\t839713634\t0.999321\n",
      "126\tz\t  48747\t839762381\t0.999379\n",
      "127\tK\t  46606\t839808987\t0.999435\n",
      "128\tU\t  45418\t839854405\t0.999489\n",
      "129\tX\t  42207\t839896612\t0.999539\n",
      "130\tY\t  39747\t839936359\t0.999586\n",
      "131\t'\t  37833\t839974192\t0.999631\n",
      "132\tЙ\t  36141\t840010333\t0.999674\n",
      "133\t/\t  31596\t840041929\t0.999712\n",
      "134\t–\t  26498\t840068427\t0.999743\n",
      "135\t!\t  25235\t840093662\t0.999773\n",
      "136\t;\t  17077\t840110739\t0.999794\n",
      "137\t?\t  16260\t840126999\t0.999813\n",
      "138\tZ\t  15393\t840142392\t0.999831\n",
      "139\tj\t  13771\t840156163\t0.999848\n",
      "140\t&\t  13763\t840169926\t0.999864\n",
      "141\tq\t  11404\t840181330\t0.999878\n",
      "142\tQ\t  11185\t840192515\t0.999891\n",
      "143\t#\t   7921\t840200436\t0.999901\n",
      "144\t[\t   7851\t840208287\t0.999910\n",
      "145\t]\t   7847\t840216134\t0.999919\n",
      "146\t+\t   6325\t840222459\t0.999927\n",
      "147\t@\t   5726\t840228185\t0.999934\n",
      "148\tё\t   5071\t840233256\t0.999940\n",
      "149\tЩ\t   4967\t840238223\t0.999945\n",
      "150\t№\t   4807\t840243030\t0.999951\n",
      "151\t’\t   3776\t840246806\t0.999956\n",
      "152\t%\t   2679\t840249485\t0.999959\n",
      "153\t*\t   2642\t840252127\t0.999962\n",
      "154\tЫ\t   2582\t840254709\t0.999965\n",
      "155\t_\t   2380\t840257089\t0.999968\n",
      "156\t“\t   2024\t840259113\t0.999970\n",
      "157\t…\t   1900\t840261013\t0.999973\n",
      "158\t─\t   1696\t840262709\t0.999975\n",
      "159\t”\t   1289\t840263998\t0.999976\n",
      "160\té\t   1050\t840265048\t0.999977\n",
      "161\t„\t    945\t840265993\t0.999979\n",
      "162\tі\t    877\t840266870\t0.999980\n",
      "163\tЁ\t    768\t840267638\t0.999980\n",
      "164\t\t\t    764\t840268402\t0.999981\n",
      "165\tü\t    607\t840269009\t0.999982\n",
      "166\t=\t    559\t840269568\t0.999983\n",
      "167\t­\t    485\t840270053\t0.999983\n",
      "168\t​\t    364\t840270417\t0.999984\n",
      "169\t$\t    338\t840270755\t0.999984\n",
      "170\tЪ\t    322\t840271077\t0.999985\n",
      "171\t️\t    296\t840271373\t0.999985\n",
      "172\tè\t    294\t840271667\t0.999985\n",
      "173\tІ\t    290\t840271957\t0.999986\n",
      "174\t`\t    276\t840272233\t0.999986\n",
      "175\t″\t    248\t840272481\t0.999986\n",
      "176\tї\t    240\t840272721\t0.999987\n",
      "177\t>\t    237\t840272958\t0.999987\n",
      "178\t̆\t    231\t840273189\t0.999987\n",
      "179\tö\t    222\t840273411\t0.999987\n",
      "180\tЬ\t    185\t840273596\t0.999988\n",
      "181\t―\t    183\t840273779\t0.999988\n",
      "182\t‑\t    156\t840273935\t0.999988\n",
      "183\t°\t    153\t840274088\t0.999988\n",
      "184\tç\t    153\t840274241\t0.999988\n",
      "185\t \t    144\t840274385\t0.999989\n",
      "186\tá\t    141\t840274526\t0.999989\n",
      "187\t❤\t    135\t840274661\t0.999989\n",
      "188\tó\t    125\t840274786\t0.999989\n",
      "189\tä\t    118\t840274904\t0.999989\n",
      "190\t|\t    115\t840275019\t0.999989\n",
      "191\tí\t    113\t840275132\t0.999989\n",
      "192\t😂\t    110\t840275242\t0.999990\n",
      "193\t‏\t    108\t840275350\t0.999990\n",
      "194\t•\t    106\t840275456\t0.999990\n",
      "195\tı\t    103\t840275559\t0.999990\n",
      "196\t\\\t    100\t840275659\t0.999990\n",
      "197\t\t     99\t840275758\t0.999990\n",
      "198\t➖\t     97\t840275855\t0.999990\n",
      "199\t✨\t     92\t840275947\t0.999990\n",
      "200\t🏼\t     82\t840276029\t0.999990\n",
      "201\t×\t     68\t840276097\t0.999991\n",
      "202\t🏻\t     67\t840276164\t0.999991\n",
      "203\t⠀\t     66\t840276230\t0.999991\n",
      "204\t😍\t     59\t840276289\t0.999991\n",
      "205\tñ\t     54\t840276343\t0.999991\n",
      "206\tà\t     54\t840276397\t0.999991\n",
      "207\t⚽\t     54\t840276451\t0.999991\n",
      "208\të\t     53\t840276504\t0.999991\n",
      "209\t−\t     53\t840276557\t0.999991\n",
      "210\t \t     53\t840276610\t0.999991\n",
      "211\tş\t     53\t840276663\t0.999991\n",
      "212\t‎\t     52\t840276715\t0.999991\n",
      "213\t^\t     52\t840276767\t0.999991\n",
      "214\t💕\t     52\t840276819\t0.999991\n",
      "215\t이\t     49\t840276868\t0.999991\n",
      "216\t🙏\t     48\t840276916\t0.999992\n",
      "217\t±\t     48\t840276964\t0.999992\n",
      "218\tє\t     47\t840277011\t0.999992\n",
      "219\t스\t     46\t840277057\t0.999992\n",
      "220\t‘\t     45\t840277102\t0.999992\n",
      "221\tÉ\t     45\t840277147\t0.999992\n",
      "222\tô\t     41\t840277188\t0.999992\n",
      "223\t \t     40\t840277228\t0.999992\n",
      "224\tー\t     39\t840277267\t0.999992\n",
      "225\t‬\t     38\t840277305\t0.999992\n",
      "226\tø\t     38\t840277343\t0.999992\n",
      "227\t💙\t     38\t840277381\t0.999992\n",
      "228\t ",
      "\t     38\t840277419\t0.999992\n",
      "229\tα\t     37\t840277456\t0.999992\n",
      "230\tの\t     37\t840277493\t0.999992\n",
      "231\t®\t     37\t840277530\t0.999992\n",
      "232\t﻿\t     36\t840277566\t0.999992\n",
      "233\t👍\t     36\t840277602\t0.999992\n",
      "234\tた\t     36\t840277638\t0.999992\n",
      "235\tÖ\t     36\t840277674\t0.999992\n",
      "236\t💪\t     34\t840277708\t0.999992\n",
      "237\t·\t     34\t840277742\t0.999993\n",
      "238\t😘\t     33\t840277775\t0.999993\n",
      "239\tて\t     32\t840277807\t0.999993\n",
      "240\tん\t     31\t840277838\t0.999993\n",
      "241\t리\t     31\t840277869\t0.999993\n",
      "242\tい\t     30\t840277899\t0.999993\n",
      "243\tğ\t     30\t840277929\t0.999993\n",
      "244\t́\t     30\t840277959\t0.999993\n",
      "245\tï\t     30\t840277989\t0.999993\n",
      "246\tβ\t     29\t840278018\t0.999993\n",
      "247\tš\t     29\t840278047\t0.999993\n",
      "248\tã\t     29\t840278076\t0.999993\n",
      "249\t🏽\t     29\t840278105\t0.999993\n",
      "250\t‍\t     29\t840278134\t0.999993\n",
      "251\t🇺\t     27\t840278161\t0.999993\n",
      "252\tČ\t     27\t840278188\t0.999993\n",
      "253\tî\t     27\t840278215\t0.999993\n",
      "254\t📸\t     27\t840278242\t0.999993\n",
      "255\t‪\t     27\t840278269\t0.999993\n",
      "256\tス\t     27\t840278296\t0.999993\n",
      "257\tå\t     27\t840278323\t0.999993\n",
      "258\tま\t     27\t840278350\t0.999993\n",
      "259\t🏿\t     26\t840278376\t0.999993\n",
      "260\t<\t     26\t840278402\t0.999993\n",
      "261\t‐\t     26\t840278428\t0.999993\n",
      "262\tに\t     26\t840278454\t0.999993\n",
      "263\tê\t     25\t840278479\t0.999993\n",
      "264\tっ\t     25\t840278504\t0.999993\n",
      "265\t🙌\t     25\t840278529\t0.999993\n",
      "266\tで\t     25\t840278554\t0.999993\n",
      "267\t💥\t     24\t840278578\t0.999993\n",
      "268\t🇸\t     24\t840278602\t0.999994\n",
      "269\tā\t     24\t840278626\t0.999994\n",
      "270\t🌸\t     23\t840278649\t0.999994\n",
      "271\t🌴\t     23\t840278672\t0.999994\n",
      "272\t👏\t     23\t840278695\t0.999994\n",
      "273\tæ\t     23\t840278718\t0.999994\n",
      "274\tâ\t     23\t840278741\t0.999994\n",
      "275\t🙈\t     23\t840278764\t0.999994\n",
      "276\tú\t     22\t840278786\t0.999994\n",
      "277\tć\t     22\t840278808\t0.999994\n",
      "278\t・\t     22\t840278830\t0.999994\n",
      "279\tし\t     22\t840278852\t0.999994\n",
      "280\tŠ\t     22\t840278874\t0.999994\n",
      "281\tا\t     22\t840278896\t0.999994\n",
      "282\t。\t     22\t840278918\t0.999994\n",
      "283\tな\t     21\t840278939\t0.999994\n",
      "284\t😉\t     21\t840278960\t0.999994\n",
      "285\tʼ\t     21\t840278981\t0.999994\n",
      "286\tク\t     21\t840279002\t0.999994\n",
      "287\t🔥\t     21\t840279023\t0.999994\n",
      "288\tī\t     20\t840279043\t0.999994\n",
      "289\tč\t     20\t840279063\t0.999994\n",
      "290\t🇷\t     20\t840279083\t0.999994\n",
      "291\t카\t     20\t840279103\t0.999994\n",
      "292\tł\t     19\t840279122\t0.999994\n",
      "293\tÜ\t     19\t840279141\t0.999994\n",
      "294\t👊\t     19\t840279160\t0.999994\n",
      "295\tも\t     19\t840279179\t0.999994\n",
      "296\t페\t     19\t840279198\t0.999994\n",
      "297\t😭\t     18\t840279216\t0.999994\n",
      "298\t👑\t     18\t840279234\t0.999994\n",
      "299\tり\t     18\t840279252\t0.999994\n",
      "300\tイ\t     18\t840279270\t0.999994\n",
      "301\tと\t     18\t840279288\t0.999994\n",
      "302\t라\t     18\t840279306\t0.999994\n",
      "303\tΛ\t     18\t840279324\t0.999994\n",
      "304\t트\t     18\t840279342\t0.999994\n",
      "305\tが\t     18\t840279360\t0.999994\n",
      "306\tο\t     17\t840279377\t0.999994\n",
      "307\t \t     17\t840279394\t0.999994\n",
      "308\t™\t     17\t840279411\t0.999994\n",
      "309\t📷\t     17\t840279428\t0.999995\n",
      "310\t🌈\t     17\t840279445\t0.999995\n",
      "311\t💜\t     17\t840279462\t0.999995\n",
      "312\t💞\t     17\t840279479\t0.999995\n",
      "313\t다\t     17\t840279496\t0.999995\n",
      "314\t그\t     17\t840279513\t0.999995\n",
      "315\t~\t     16\t840279529\t0.999995\n",
      "316\tは\t     16\t840279545\t0.999995\n",
      "317\t💋\t     16\t840279561\t0.999995\n",
      "318\tØ\t     16\t840279577\t0.999995\n",
      "319\tŞ\t     16\t840279593\t0.999995\n",
      "320\tか\t     16\t840279609\t0.999995\n",
      "321\tŪ\t     16\t840279625\t0.999995\n",
      "322\t′\t     16\t840279641\t0.999995\n",
      "323\t}\t     16\t840279657\t0.999995\n",
      "324\tこ\t     16\t840279673\t0.999995\n",
      "325\tす\t     16\t840279689\t0.999995\n",
      "326\t✌\t     15\t840279704\t0.999995\n",
      "327\t☀\t     15\t840279719\t0.999995\n",
      "328\t😎\t     15\t840279734\t0.999995\n",
      "329\tý\t     15\t840279749\t0.999995\n",
      "330\tン\t     15\t840279764\t0.999995\n",
      "331\tİ\t     15\t840279779\t0.999995\n",
      "332\t{\t     15\t840279794\t0.999995\n",
      "333\tē\t     15\t840279809\t0.999995\n",
      "334\t원\t     15\t840279824\t0.999995\n",
      "335\tる\t     15\t840279839\t0.999995\n",
      "336\t、\t     14\t840279853\t0.999995\n",
      "337\t🖤\t     14\t840279867\t0.999995\n",
      "338\tラ\t     14\t840279881\t0.999995\n",
      "339\tリ\t     14\t840279895\t0.999995\n",
      "340\t👙\t     14\t840279909\t0.999995\n",
      "341\tさ\t     14\t840279923\t0.999995\n",
      "342\tら\t     14\t840279937\t0.999995\n",
      "343\tく\t     14\t840279951\t0.999995\n",
      "344\t타\t     14\t840279965\t0.999995\n",
      "345\t루\t     14\t840279979\t0.999995\n",
      "346\t🎉\t     14\t840279993\t0.999995\n",
      "347\t길\t     14\t840280007\t0.999995\n",
      "348\tð\t     13\t840280020\t0.999995\n",
      "349\t💎\t     13\t840280033\t0.999995\n",
      "350\tッ\t     13\t840280046\t0.999995\n",
      "351\tЄ\t     13\t840280059\t0.999995\n",
      "352\t💛\t     13\t840280072\t0.999995\n",
      "353\t😜\t     13\t840280085\t0.999995\n",
      "354\tね\t     13\t840280098\t0.999995\n",
      "355\t사\t     13\t840280111\t0.999995\n",
      "356\t단\t     13\t840280124\t0.999995\n",
      "357\t태\t     13\t840280137\t0.999995\n",
      "358\t💗\t     12\t840280149\t0.999995\n",
      "359\tれ\t     12\t840280161\t0.999995\n",
      "360\tқ\t     12\t840280173\t0.999995\n",
      "361\tσ\t     12\t840280185\t0.999995\n",
      "362\t📍\t     12\t840280197\t0.999995\n",
      "363\t🍑\t     12\t840280209\t0.999995\n",
      "364\t🦄\t     12\t840280221\t0.999995\n",
      "365\tә\t     12\t840280233\t0.999995\n",
      "366\t🚀\t     12\t840280245\t0.999995\n",
      "367\t♀\t     12\t840280257\t0.999995\n",
      "368\t👌\t     12\t840280269\t0.999996\n",
      "369\t猫\t     12\t840280281\t0.999996\n",
      "370\tو\t     12\t840280293\t0.999996\n",
      "371\t💃\t     12\t840280305\t0.999996\n",
      "372\t에\t     12\t840280317\t0.999996\n",
      "373\t아\t     12\t840280329\t0.999996\n",
      "374\tา\t     12\t840280341\t0.999996\n",
      "375\tน\t     12\t840280353\t0.999996\n",
      "376\tเ\t     12\t840280365\t0.999996\n",
      "377\t램\t     12\t840280377\t0.999996\n",
      "378\t경\t     12\t840280389\t0.999996\n",
      "379\t🌹\t     11\t840280400\t0.999996\n",
      "380\tÇ\t     11\t840280411\t0.999996\n",
      "381\tě\t     11\t840280422\t0.999996\n",
      "382\tι\t     11\t840280433\t0.999996\n",
      "383\t🤔\t     11\t840280444\t0.999996\n",
      "384\t💚\t     11\t840280455\t0.999996\n",
      "385\tお\t     11\t840280466\t0.999996\n",
      "386\tみ\t     11\t840280477\t0.999996\n",
      "387\tト\t     11\t840280488\t0.999996\n",
      "388\tマ\t     11\t840280499\t0.999996\n",
      "389\tド\t     11\t840280510\t0.999996\n",
      "390\tだ\t     11\t840280521\t0.999996\n",
      "391\t😱\t     11\t840280532\t0.999996\n",
      "392\tß\t     11\t840280543\t0.999996\n",
      "393\t🍫\t     11\t840280554\t0.999996\n",
      "394\tあ\t     11\t840280565\t0.999996\n",
      "395\tل\t     11\t840280576\t0.999996\n",
      "396\t나\t     11\t840280587\t0.999996\n",
      "397\t子\t     11\t840280598\t0.999996\n",
      "398\t😢\t     10\t840280608\t0.999996\n",
      "399\tν\t     10\t840280618\t0.999996\n",
      "400\tυ\t     10\t840280628\t0.999996\n",
      "401\t😊\t     10\t840280638\t0.999996\n",
      "402\t🎶\t     10\t840280648\t0.999996\n",
      "403\tゃ\t     10\t840280658\t0.999996\n",
      "404\t🌺\t     10\t840280668\t0.999996\n",
      "405\tЈ\t     10\t840280678\t0.999996\n",
      "406\tメ\t     10\t840280688\t0.999996\n",
      "407\t🎼\t     10\t840280698\t0.999996\n",
      "408\t프\t     10\t840280708\t0.999996\n",
      "409\t레\t     10\t840280718\t0.999996\n",
      "410\t니\t     10\t840280728\t0.999996\n",
      "411\t어\t     10\t840280738\t0.999996\n",
      "412\t인\t     10\t840280748\t0.999996\n",
      "413\t😳\t     10\t840280758\t0.999996\n",
      "414\tอ\t     10\t840280768\t0.999996\n",
      "415\tř\t      9\t840280777\t0.999996\n",
      "416\t⚪\t      9\t840280786\t0.999996\n",
      "417\t🎥\t      9\t840280795\t0.999996\n",
      "418\tҚ\t      9\t840280804\t0.999996\n",
      "419\tς\t      9\t840280813\t0.999996\n",
      "420\tτ\t      9\t840280822\t0.999996\n",
      "421\tπ\t      9\t840280831\t0.999996\n",
      "422\tλ\t      9\t840280840\t0.999996\n",
      "423\t👸\t      9\t840280849\t0.999996\n",
      "424\tち\t      9\t840280858\t0.999996\n",
      "425\tル\t      9\t840280867\t0.999996\n",
      "426\t😈\t      9\t840280876\t0.999996\n",
      "427\t💫\t      9\t840280885\t0.999996\n",
      "428\tă\t      9\t840280894\t0.999996\n",
      "429\tì\t      9\t840280903\t0.999996\n",
      "430\t🤣\t      9\t840280912\t0.999996\n",
      "431\tż\t      9\t840280921\t0.999996\n",
      "432\t🚨\t      9\t840280930\t0.999996\n",
      "433\tž\t      9\t840280939\t0.999996\n",
      "434\t요\t      9\t840280948\t0.999996\n",
      "435\t는\t      9\t840280957\t0.999996\n",
      "436\t을\t      9\t840280966\t0.999996\n",
      "437\tを\t      9\t840280975\t0.999996\n",
      "438\tう\t      9\t840280984\t0.999996\n",
      "439\t평\t      9\t840280993\t0.999996\n",
      "440\tャ\t      8\t840281001\t0.999996\n",
      "441\tę\t      8\t840281009\t0.999996\n",
      "442\t🏾\t      8\t840281017\t0.999996\n",
      "443\tρ\t      8\t840281025\t0.999996\n",
      "444\tΝ\t      8\t840281033\t0.999996\n",
      "445\tκ\t      8\t840281041\t0.999996\n",
      "446\t∞\t      8\t840281049\t0.999996\n",
      "447\t😄\t      8\t840281057\t0.999996\n",
      "448\tオ\t      8\t840281065\t0.999996\n",
      "449\tシ\t      8\t840281073\t0.999996\n",
      "450\t👼\t      8\t840281081\t0.999996\n",
      "451\t∙\t      8\t840281089\t0.999996\n",
      "452\t€\t      8\t840281097\t0.999996\n",
      "453\t🤷\t      8\t840281105\t0.999997\n",
      "454\t日\t      8\t840281113\t0.999997\n",
      "455\t島\t      8\t840281121\t0.999997\n",
      "456\tي\t      8\t840281129\t0.999997\n",
      "457\tب\t      8\t840281137\t0.999997\n",
      "458\tÁ\t      8\t840281145\t0.999997\n",
      "459\t£\t      8\t840281153\t0.999997\n",
      "460\t무\t      8\t840281161\t0.999997\n",
      "461\t브\t      8\t840281169\t0.999997\n",
      "462\t바\t      8\t840281177\t0.999997\n",
      "463\t크\t      8\t840281185\t0.999997\n",
      "464\t로\t      8\t840281193\t0.999997\n",
      "465\t👀\t      8\t840281201\t0.999997\n",
      "466\tม\t      8\t840281209\t0.999997\n",
      "467\tก\t      8\t840281217\t0.999997\n",
      "468\t씨\t      8\t840281225\t0.999997\n",
      "469\t맛\t      8\t840281233\t0.999997\n",
      "470\t집\t      8\t840281241\t0.999997\n",
      "471\t녹\t      8\t840281249\t0.999997\n",
      "472\t🌊\t      7\t840281256\t0.999997\n",
      "473\tδ\t      7\t840281263\t0.999997\n",
      "474\tε\t      7\t840281270\t0.999997\n",
      "475\t₽\t      7\t840281277\t0.999997\n",
      "476\t↓\t      7\t840281284\t0.999997\n",
      "477\t©\t      7\t840281291\t0.999997\n",
      "478\t⭐\t      7\t840281298\t0.999997\n",
      "479\t🦋\t      7\t840281305\t0.999997\n",
      "480\t☝\t      7\t840281312\t0.999997\n",
      "481\tナ\t      7\t840281319\t0.999997\n",
      "482\tカ\t      7\t840281326\t0.999997\n",
      "483\t도\t      7\t840281333\t0.999997\n",
      "484\t½\t      7\t840281340\t0.999997\n",
      "485\t💖\t      7\t840281347\t0.999997\n",
      "486\tア\t      7\t840281354\t0.999997\n",
      "487\t🤦\t      7\t840281361\t0.999997\n",
      "488\t😁\t      7\t840281368\t0.999997\n",
      "489\t🙄\t      7\t840281375\t0.999997\n",
      "490\t⚡\t      7\t840281382\t0.999997\n",
      "491\t❄\t      7\t840281389\t0.999997\n",
      "492\t♂\t      7\t840281396\t0.999997\n",
      "493\tי\t      7\t840281403\t0.999997\n",
      "494\t⚫\t      7\t840281410\t0.999997\n",
      "495\t\t      7\t840281417\t0.999997\n",
      "496\t上\t      7\t840281424\t0.999997\n",
      "497\tق\t      7\t840281431\t0.999997\n",
      "498\tم\t      7\t840281438\t0.999997\n",
      "499\t♥\t      7\t840281445\t0.999997\n",
      "500\t🌟\t      7\t840281452\t0.999997\n",
      "501\t💁\t      7\t840281459\t0.999997\n",
      "502\t💄\t      7\t840281466\t0.999997\n",
      "503\t🎀\t      7\t840281473\t0.999997\n",
      "504\t😋\t      7\t840281480\t0.999997\n",
      "505\t하\t      7\t840281487\t0.999997\n",
      "506\t시\t      7\t840281494\t0.999997\n",
      "507\t한\t      7\t840281501\t0.999997\n",
      "508\t전\t      7\t840281508\t0.999997\n",
      "509\t해\t      7\t840281515\t0.999997\n",
      "510\t기\t      7\t840281522\t0.999997\n",
      "511\t의\t      7\t840281529\t0.999997\n",
      "512\t마\t      7\t840281536\t0.999997\n",
      "513\t🍷\t      7\t840281543\t0.999997\n",
      "514\tム\t      7\t840281550\t0.999997\n",
      "515\t키\t      7\t840281557\t0.999997\n",
      "516\t💓\t      7\t840281564\t0.999997\n",
      "517\t理\t      7\t840281571\t0.999997\n",
      "518\tั\t      7\t840281578\t0.999997\n",
      "519\t่\t      7\t840281585\t0.999997\n",
      "520\tζ\t      7\t840281592\t0.999997\n",
      "521\tど\t      6\t840281598\t0.999997\n",
      "522\tえ\t      6\t840281604\t0.999997\n",
      "523\tś\t      6\t840281610\t0.999997\n",
      "524\t🎤\t      6\t840281616\t0.999997\n",
      "525\tō\t      6\t840281622\t0.999997\n",
      "526\t🤗\t      6\t840281628\t0.999997\n",
      "527\tµ\t      6\t840281634\t0.999997\n",
      "528\t💯\t      6\t840281640\t0.999997\n",
      "529\t☺\t      6\t840281646\t0.999997\n",
      "530\tң\t      6\t840281652\t0.999997\n",
      "531\t🇦\t      6\t840281658\t0.999997\n",
      "532\t🇨\t      6\t840281664\t0.999997\n",
      "533\t🤘\t      6\t840281670\t0.999997\n",
      "534\tプ\t      6\t840281676\t0.999997\n",
      "535\tバ\t      6\t840281682\t0.999997\n",
      "536\t🌞\t      6\t840281688\t0.999997\n",
      "537\tき\t      6\t840281694\t0.999997\n",
      "538\t☕\t      6\t840281700\t0.999997\n",
      "539\tレ\t      6\t840281706\t0.999997\n",
      "540\t¡\t      6\t840281712\t0.999997\n",
      "541\t❣\t      6\t840281718\t0.999997\n",
      "542\t🔪\t      6\t840281724\t0.999997\n",
      "543\t🇮\t      6\t840281730\t0.999997\n",
      "544\tń\t      6\t840281736\t0.999997\n",
      "545\tニ\t      6\t840281742\t0.999997\n",
      "546\tわ\t      6\t840281748\t0.999997\n",
      "547\t고\t      6\t840281754\t0.999997\n",
      "548\tة\t      6\t840281760\t0.999997\n",
      "549\tك\t      6\t840281766\t0.999997\n",
      "550\t💀\t      6\t840281772\t0.999997\n",
      "551\t🌎\t      6\t840281778\t0.999997\n",
      "552\t올\t      6\t840281784\t0.999997\n",
      "553\t메\t      6\t840281790\t0.999997\n",
      "554\t운\t      6\t840281796\t0.999997\n",
      "555\t업\t      6\t840281802\t0.999997\n",
      "556\t보\t      6\t840281808\t0.999997\n",
      "557\t서\t      6\t840281814\t0.999997\n",
      "558\t를\t      6\t840281820\t0.999997\n",
      "559\t일\t      6\t840281826\t0.999997\n",
      "560\t대\t      6\t840281832\t0.999997\n",
      "561\t작\t      6\t840281838\t0.999997\n",
      "562\t\t      6\t840281844\t0.999997\n",
      "563\t💅\t      6\t840281850\t0.999997\n",
      "564\t🌷\t      6\t840281856\t0.999997\n",
      "565\tよ\t      6\t840281862\t0.999997\n",
      "566\tジ\t      6\t840281868\t0.999997\n",
      "567\t→\t      6\t840281874\t0.999997\n",
      "568\t커\t      6\t840281880\t0.999997\n",
      "569\t😅\t      6\t840281886\t0.999997\n",
      "570\t💘\t      6\t840281892\t0.999997\n",
      "571\t😻\t      6\t840281898\t0.999997\n",
      "572\t🌻\t      6\t840281904\t0.999997\n",
      "573\t🌌\t      6\t840281910\t0.999997\n",
      "574\tต\t      6\t840281916\t0.999997\n",
      "575\t้\t      6\t840281922\t0.999997\n",
      "576\tย\t      6\t840281928\t0.999997\n",
      "577\tง\t      6\t840281934\t0.999997\n",
      "578\tไ\t      6\t840281940\t0.999997\n",
      "579\tร\t      6\t840281946\t0.999998\n",
      "580\tӧ\t      6\t840281952\t0.999998\n",
      "581\tɛ\t      6\t840281958\t0.999998\n",
      "582\t平\t      6\t840281964\t0.999998\n",
      "583\t沙\t      6\t840281970\t0.999998\n",
      "584\t気\t      5\t840281975\t0.999998\n",
      "585\tけ\t      5\t840281980\t0.999998\n",
      "586\t🏃\t      5\t840281985\t0.999998\n",
      "587\t💦\t      5\t840281990\t0.999998\n",
      "588\t🐶\t      5\t840281995\t0.999998\n",
      "589\t🔴\t      5\t840282000\t0.999998\n",
      "590\tω\t      5\t840282005\t0.999998\n",
      "591\tό\t      5\t840282010\t0.999998\n",
      "592\t🍒\t      5\t840282015\t0.999998\n",
      "593\tõ\t      5\t840282020\t0.999998\n",
      "594\tÕ\t      5\t840282025\t0.999998\n",
      "595\tј\t      5\t840282030\t0.999998\n",
      "596\tΗ\t      5\t840282035\t0.999998\n",
      "597\tそ\t      5\t840282040\t0.999998\n",
      "598\tガ\t      5\t840282045\t0.999998\n",
      "599\t떼\t      5\t840282050\t0.999998\n",
      "600\t🦅\t      5\t840282055\t0.999998\n",
      "601\t👽\t      5\t840282060\t0.999998\n",
      "602\tÅ\t      5\t840282065\t0.999998\n",
      "603\t😌\t      5\t840282070\t0.999998\n",
      "604\t🙅\t      5\t840282075\t0.999998\n",
      "605\t😆\t      5\t840282080\t0.999998\n",
      "606\tל\t      5\t840282085\t0.999998\n",
      "607\t‼\t      5\t840282090\t0.999998\n",
      "608\t熊\t      5\t840282095\t0.999998\n",
      "609\t「\t      5\t840282100\t0.999998\n",
      "610\t」\t      5\t840282105\t0.999998\n",
      "611\t物\t      5\t840282110\t0.999998\n",
      "612\t部\t      5\t840282115\t0.999998\n",
      "613\tر\t      5\t840282120\t0.999998\n",
      "614\tت\t      5\t840282125\t0.999998\n",
      "615\tع\t      5\t840282130\t0.999998\n",
      "616\tأ\t      5\t840282135\t0.999998\n",
      "617\t≡\t      5\t840282140\t0.999998\n",
      "618\tӣ\t      5\t840282145\t0.999998\n",
      "619\t🖕\t      5\t840282150\t0.999998\n",
      "620\t미\t      5\t840282155\t0.999998\n",
      "621\t술\t      5\t840282160\t0.999998\n",
      "622\t영\t      5\t840282165\t0.999998\n",
      "623\t으\t      5\t840282170\t0.999998\n",
      "624\t너\t      5\t840282175\t0.999998\n",
      "625\t림\t      5\t840282180\t0.999998\n",
      "626\t가\t      5\t840282185\t0.999998\n",
      "627\t은\t      5\t840282190\t0.999998\n",
      "628\t🙃\t      5\t840282195\t0.999998\n",
      "629\tū\t      5\t840282200\t0.999998\n",
      "630\t外\t      5\t840282205\t0.999998\n",
      "631\tサ\t      5\t840282210\t0.999998\n",
      "632\tエ\t      5\t840282215\t0.999998\n",
      "633\tペ\t      5\t840282220\t0.999998\n",
      "634\tざ\t      5\t840282225\t0.999998\n",
      "635\t❗\t      5\t840282230\t0.999998\n",
      "636\t入\t      5\t840282235\t0.999998\n",
      "637\t思\t      5\t840282240\t0.999998\n",
      "638\tせ\t      5\t840282245\t0.999998\n",
      "639\t🚩\t      5\t840282250\t0.999998\n",
      "640\t✈\t      5\t840282255\t0.999998\n",
      "641\tΦ\t      5\t840282260\t0.999998\n",
      "642\t🤙\t      5\t840282265\t0.999998\n",
      "643\t♡\t      5\t840282270\t0.999998\n",
      "644\t🇭\t      5\t840282275\t0.999998\n",
      "645\tพ\t      5\t840282280\t0.999998\n",
      "646\tิ\t      5\t840282285\t0.999998\n",
      "647\tล\t      5\t840282290\t0.999998\n",
      "648\t①\t      5\t840282295\t0.999998\n",
      "649\tү\t      4\t840282299\t0.999998\n",
      "650\tΠ\t      4\t840282303\t0.999998\n",
      "651\tί\t      4\t840282307\t0.999998\n",
      "652\tò\t      4\t840282311\t0.999998\n",
      "653\t🤩\t      4\t840282315\t0.999998\n",
      "654\t➡\t      4\t840282319\t0.999998\n",
      "655\t👩\t      4\t840282323\t0.999998\n",
      "656\tツ\t      4\t840282327\t0.999998\n",
      "657\t☠\t      4\t840282331\t0.999998\n",
      "658\tΑ\t      4\t840282335\t0.999998\n",
      "659\tΣ\t      4\t840282339\t0.999998\n",
      "660\tめ\t      4\t840282343\t0.999998\n",
      "661\t🐼\t      4\t840282347\t0.999998\n",
      "662\tパ\t      4\t840282351\t0.999998\n",
      "663\tや\t      4\t840282355\t0.999998\n",
      "664\tフ\t      4\t840282359\t0.999998\n",
      "665\t🍩\t      4\t840282363\t0.999998\n",
      "666\t😽\t      4\t840282367\t0.999998\n",
      "667\t🐬\t      4\t840282371\t0.999998\n",
      "668\t👉\t      4\t840282375\t0.999998\n",
      "669\t許\t      4\t840282379\t0.999998\n",
      "670\t¸\t      4\t840282383\t0.999998\n",
      "671\t🦈\t      4\t840282387\t0.999998\n",
      "672\tų\t      4\t840282391\t0.999998\n",
      "673\t🙊\t      4\t840282395\t0.999998\n",
      "674\tו\t      4\t840282399\t0.999998\n",
      "675\t👶\t      4\t840282403\t0.999998\n",
      "676\t本\t      4\t840282407\t0.999998\n",
      "677\t新\t      4\t840282411\t0.999998\n",
      "678\t聞\t      4\t840282415\t0.999998\n",
      "679\t天\t      4\t840282419\t0.999998\n",
      "680\t良\t      4\t840282423\t0.999998\n",
      "681\t😏\t      4\t840282427\t0.999998\n",
      "682\t🎃\t      4\t840282431\t0.999998\n",
      "683\tن\t      4\t840282435\t0.999998\n",
      "684\tح\t      4\t840282439\t0.999998\n",
      "685\t⁉\t      4\t840282443\t0.999998\n",
      "686\tϋ\t      4\t840282447\t0.999998\n",
      "687\t🎄\t      4\t840282451\t0.999998\n",
      "688\t󾔒\t      4\t840282455\t0.999998\n",
      "689\t슈\t      4\t840282459\t0.999998\n",
      "690\t제\t      4\t840282463\t0.999998\n",
      "691\t비\t      4\t840282467\t0.999998\n",
      "692\t픽\t      4\t840282471\t0.999998\n",
      "693\t오\t      4\t840282475\t0.999998\n",
      "694\t있\t      4\t840282479\t0.999998\n",
      "695\t울\t      4\t840282483\t0.999998\n",
      "696\t포\t      4\t840282487\t0.999998\n",
      "697\t과\t      4\t840282491\t0.999998\n",
      "698\t터\t      4\t840282495\t0.999998\n",
      "699\t품\t      4\t840282499\t0.999998\n",
      "700\t주\t      4\t840282503\t0.999998\n",
      "701\t様\t      4\t840282507\t0.999998\n",
      "702\tご\t      4\t840282511\t0.999998\n",
      "703\t💐\t      4\t840282515\t0.999998\n",
      "704\t🇰\t      4\t840282519\t0.999998\n",
      "705\t블\t      4\t840282523\t0.999998\n",
      "706\t저\t      4\t840282527\t0.999998\n",
      "707\t부\t      4\t840282531\t0.999998\n",
      "708\t컬\t      4\t840282535\t0.999998\n",
      "709\t러\t      4\t840282539\t0.999998\n",
      "710\t！\t      4\t840282543\t0.999998\n",
      "711\t🐅\t      4\t840282547\t0.999998\n",
      "712\t💣\t      4\t840282551\t0.999998\n",
      "713\tキ\t      4\t840282555\t0.999998\n",
      "714\tภ\t      4\t840282559\t0.999998\n",
      "715\tห\t      4\t840282563\t0.999998\n",
      "716\tบ\t      4\t840282567\t0.999998\n",
      "717\tว\t      4\t840282571\t0.999998\n",
      "718\tื\t      4\t840282575\t0.999998\n",
      "719\tค\t      4\t840282579\t0.999998\n",
      "720\t🔹\t      4\t840282583\t0.999998\n",
      "721\t☎\t      4\t840282587\t0.999998\n",
      "722\t피\t      4\t840282591\t0.999998\n",
      "723\t소\t      4\t840282595\t0.999998\n",
      "724\t먹\t      4\t840282599\t0.999998\n",
      "725\t‭\t      3\t840282602\t0.999998\n",
      "726\tば\t      3\t840282605\t0.999998\n",
      "727\tチ\t      3\t840282608\t0.999998\n",
      "728\tぐ\t      3\t840282611\t0.999998\n",
      "729\t►\t      3\t840282614\t0.999998\n",
      "730\t🏊\t      3\t840282617\t0.999998\n",
      "731\t😩\t      3\t840282620\t0.999998\n",
      "732\tầ\t      3\t840282623\t0.999998\n",
      "733\tĐ\t      3\t840282626\t0.999998\n",
      "734\t☘\t      3\t840282629\t0.999998\n",
      "735\t🍴\t      3\t840282632\t0.999998\n",
      "736\tΕ\t      3\t840282635\t0.999998\n",
      "737\tμ\t      3\t840282638\t0.999998\n",
      "738\t🔝\t      3\t840282641\t0.999998\n",
      "739\tù\t      3\t840282644\t0.999998\n",
      "740\tŚ\t      3\t840282647\t0.999998\n",
      "741\t🇪\t      3\t840282650\t0.999998\n",
      "742\t⚔\t      3\t840282653\t0.999998\n",
      "743\t行\t      3\t840282656\t0.999998\n",
      "744\t乗\t      3\t840282659\t0.999998\n",
      "745\tズ\t      3\t840282662\t0.999998\n",
      "746\t🍍\t      3\t840282665\t0.999998\n",
      "747\tェ\t      3\t840282668\t0.999998\n",
      "748\tテ\t      3\t840282671\t0.999998\n",
      "749\t大\t      3\t840282674\t0.999998\n",
      "750\t🍉\t      3\t840282677\t0.999998\n",
      "751\t普\t      3\t840282680\t0.999998\n",
      "752\t👟\t      3\t840282683\t0.999998\n",
      "753\t👠\t      3\t840282686\t0.999998\n",
      "754\t路\t      3\t840282689\t0.999998\n",
      "755\t兒\t      3\t840282692\t0.999998\n",
      "756\t🇹\t      3\t840282695\t0.999998\n",
      "757\t😃\t      3\t840282698\t0.999998\n",
      "758\tΔ\t      3\t840282701\t0.999998\n",
      "759\t🇿\t      3\t840282704\t0.999998\n",
      "760\t👇\t      3\t840282707\t0.999998\n",
      "761\t✴\t      3\t840282710\t0.999998\n",
      "762\tŻ\t      3\t840282713\t0.999998\n",
      "763\t😬\t      3\t840282716\t0.999998\n",
      "764\t👨\t      3\t840282719\t0.999998\n",
      "765\t草\t      3\t840282722\t0.999998\n",
      "766\tむ\t      3\t840282725\t0.999998\n",
      "767\tふ\t      3\t840282728\t0.999998\n",
      "768\t양\t      3\t840282731\t0.999998\n",
      "769\t写\t      3\t840282734\t0.999998\n",
      "770\t真\t      3\t840282737\t0.999998\n",
      "771\tط\t      3\t840282740\t0.999998\n",
      "772\tس\t      3\t840282743\t0.999998\n",
      "773\tþ\t      3\t840282746\t0.999998\n",
      "774\tⓉ\t      3\t840282749\t0.999998\n",
      "775\tӨ\t      3\t840282752\t0.999998\n",
      "776\t🍳\t      3\t840282755\t0.999998\n",
      "777\t😛\t      3\t840282758\t0.999998\n",
      "778\t🐻\t      3\t840282761\t0.999998\n",
      "779\t÷\t      3\t840282764\t0.999998\n",
      "780\tЇ\t      3\t840282767\t0.999998\n",
      "781\t디\t      3\t840282770\t0.999998\n",
      "782\t야\t      3\t840282773\t0.999998\n",
      "783\t거\t      3\t840282776\t0.999998\n",
      "784\t워\t      3\t840282779\t0.999998\n",
      "785\t종\t      3\t840282782\t0.999999\n",
      "786\t모\t      3\t840282785\t0.999999\n",
      "787\t면\t      3\t840282788\t0.999999\n",
      "788\t려\t      3\t840282791\t0.999999\n",
      "789\t분\t      3\t840282794\t0.999999\n",
      "790\t장\t      3\t840282797\t0.999999\n",
      "791\t츠\t      3\t840282800\t0.999999\n",
      "792\t티\t      3\t840282803\t0.999999\n",
      "793\t조\t      3\t840282806\t0.999999\n",
      "794\t선\t      3\t840282809\t0.999999\n",
      "795\t습\t      3\t840282812\t0.999999\n",
      "796\t았\t      3\t840282815\t0.999999\n",
      "797\t데\t      3\t840282818\t0.999999\n",
      "798\t년\t      3\t840282821\t0.999999\n",
      "799\t우\t      3\t840282824\t0.999999\n",
      "800\t들\t      3\t840282827\t0.999999\n",
      "801\t상\t      3\t840282830\t0.999999\n",
      "802\t수\t      3\t840282833\t0.999999\n",
      "803\t세\t      3\t840282836\t0.999999\n",
      "804\tת\t      3\t840282839\t0.999999\n",
      "805\t🚒\t      3\t840282842\t0.999999\n",
      "806\t🙆\t      3\t840282845\t0.999999\n",
      "807\t👞\t      3\t840282848\t0.999999\n",
      "808\t犬\t      3\t840282851\t0.999999\n",
      "809\t削\t      3\t840282854\t0.999999\n",
      "810\t除\t      3\t840282857\t0.999999\n",
      "811\t番\t      3\t840282860\t0.999999\n",
      "812\tロ\t      3\t840282863\t0.999999\n",
      "813\t🚬\t      3\t840282866\t0.999999\n",
      "814\t¿\t      3\t840282869\t0.999999\n",
      "815\t落\t      3\t840282872\t0.999999\n",
      "816\t🌿\t      3\t840282875\t0.999999\n",
      "817\t활\t      3\t840282878\t0.999999\n",
      "818\t절\t      3\t840282881\t0.999999\n",
      "819\t매\t      3\t840282884\t0.999999\n",
      "820\t렉\t      3\t840282887\t0.999999\n",
      "821\t션\t      3\t840282890\t0.999999\n",
      "822\t번\t      3\t840282893\t0.999999\n",
      "823\t홍\t      3\t840282896\t0.999999\n",
      "824\t👎\t      3\t840282899\t0.999999\n",
      "825\tÎ\t      3\t840282902\t0.999999\n",
      "826\tぼ\t      3\t840282905\t0.999999\n",
      "827\tぽ\t      3\t840282908\t0.999999\n",
      "828\tґ\t      3\t840282911\t0.999999\n",
      "829\t👣\t      3\t840282914\t0.999999\n",
      "830\t🎂\t      3\t840282917\t0.999999\n",
      "831\t見\t      3\t840282920\t0.999999\n",
      "832\tÍ\t      3\t840282923\t0.999999\n",
      "833\tѧ\t      3\t840282926\t0.999999\n",
      "834\t🇱\t      3\t840282929\t0.999999\n",
      "835\tɢ\t      3\t840282932\t0.999999\n",
      "836\tุ\t      3\t840282935\t0.999999\n",
      "837\tจ\t      3\t840282938\t0.999999\n",
      "838\tป\t      3\t840282941\t0.999999\n",
      "839\tข\t      3\t840282944\t0.999999\n",
      "840\tี\t      3\t840282947\t0.999999\n",
      "841\t🎁\t      3\t840282950\t0.999999\n",
      "842\tÔ\t      3\t840282953\t0.999999\n",
      "843\tコ\t      3\t840282956\t0.999999\n",
      "844\t🏡\t      3\t840282959\t0.999999\n",
      "845\t많\t      3\t840282962\t0.999999\n",
      "846\t🏋\t      3\t840282965\t0.999999\n",
      "847\t🍼\t      3\t840282968\t0.999999\n",
      "848\tボ\t      2\t840282970\t0.999999\n",
      "849\t？\t      2\t840282972\t0.999999\n",
      "850\t🕊\t      2\t840282974\t0.999999\n",
      "851\t🏂\t      2\t840282976\t0.999999\n",
      "852\t🏄\t      2\t840282978\t0.999999\n",
      "853\tθ\t      2\t840282980\t0.999999\n",
      "854\tγ\t      2\t840282982\t0.999999\n",
      "855\tύ\t      2\t840282984\t0.999999\n",
      "856\tχ\t      2\t840282986\t0.999999\n",
      "857\tώ\t      2\t840282988\t0.999999\n",
      "858\tέ\t      2\t840282990\t0.999999\n",
      "859\tΡ\t      2\t840282992\t0.999999\n",
      "860\t🍓\t      2\t840282994\t0.999999\n",
      "861\tÓ\t      2\t840282996\t0.999999\n",
      "862\t🌳\t      2\t840282998\t0.999999\n",
      "863\t🚿\t      2\t840283000\t0.999999\n",
      "864\t🤫\t      2\t840283002\t0.999999\n",
      "865\t🐠\t      2\t840283004\t0.999999\n",
      "866\t¯\t      2\t840283006\t0.999999\n",
      "867\tᵒ\t      2\t840283008\t0.999999\n",
      "868\t∩\t      2\t840283010\t0.999999\n",
      "869\tΙ\t      2\t840283012\t0.999999\n",
      "870\tΚ\t      2\t840283014\t0.999999\n",
      "871\t玉\t      2\t840283016\t0.999999\n",
      "872\t兔\t      2\t840283018\t0.999999\n",
      "873\t⃣\t      2\t840283020\t0.999999\n",
      "874\tț\t      2\t840283022\t0.999999\n",
      "875\tΓ\t      2\t840283024\t0.999999\n",
      "876\tΈ\t      2\t840283026\t0.999999\n",
      "877\t流\t      2\t840283028\t0.999999\n",
      "878\t🍔\t      2\t840283030\t0.999999\n",
      "879\t🐰\t      2\t840283032\t0.999999\n",
      "880\t笑\t      2\t840283034\t0.999999\n",
      "881\t豆\t      2\t840283036\t0.999999\n",
      "882\tÈ\t      2\t840283038\t0.999999\n",
      "883\t🌵\t      2\t840283040\t0.999999\n",
      "884\t🕶\t      2\t840283042\t0.999999\n",
      "885\t京\t      2\t840283044\t0.999999\n",
      "886\t🥇\t      2\t840283046\t0.999999\n",
      "887\t☔\t      2\t840283048\t0.999999\n",
      "888\tė\t      2\t840283050\t0.999999\n",
      "889\tӘ\t      2\t840283052\t0.999999\n",
      "890\t💍\t      2\t840283054\t0.999999\n",
      "891\t¼\t      2\t840283056\t0.999999\n",
      "892\t😀\t      2\t840283058\t0.999999\n",
      "893\tą\t      2\t840283060\t0.999999\n",
      "894\t🗣\t      2\t840283062\t0.999999\n",
      "895\tŁ\t      2\t840283064\t0.999999\n",
      "896\tź\t      2\t840283066\t0.999999\n",
      "897\t;\t      2\t840283068\t0.999999\n",
      "898\tצ\t      2\t840283070\t0.999999\n",
      "899\tש\t      2\t840283072\t0.999999\n",
      "900\tם\t      2\t840283074\t0.999999\n",
      "901\tק\t      2\t840283076\t0.999999\n",
      "902\tץ\t      2\t840283078\t0.999999\n",
      "903\ẗ\t      2\t840283080\t0.999999\n",
      "904\t💔\t      2\t840283082\t0.999999\n",
      "905\t😐\t      2\t840283084\t0.999999\n",
      "906\tセ\t      2\t840283086\t0.999999\n",
      "907\tワ\t      2\t840283088\t0.999999\n",
      "908\t👯\t      2\t840283090\t0.999999\n",
      "909\t湯\t      2\t840283092\t0.999999\n",
      "910\t★\t      2\t840283094\t0.999999\n",
      "911\t博\t      2\t840283096\t0.999999\n",
      "912\t館\t      2\t840283098\t0.999999\n",
      "913\t社\t      2\t840283100\t0.999999\n",
      "914\t🚺\t      2\t840283102\t0.999999\n",
      "915\t💟\t      2\t840283104\t0.999999\n",
      "916\tΟ\t      2\t840283106\t0.999999\n",
      "917\t👆\t      2\t840283108\t0.999999\n",
      "918\t👻\t      2\t840283110\t0.999999\n",
      "919\t🍏\t      2\t840283112\t0.999999\n",
      "920\tد\t      2\t840283114\t0.999999\n",
      "921\tف\t      2\t840283116\t0.999999\n",
      "922\tج\t      2\t840283118\t0.999999\n",
      "923\tњ\t      2\t840283120\t0.999999\n",
      "924\tⒺ\t      2\t840283122\t0.999999\n",
      "925\t😹\t      2\t840283124\t0.999999\n",
      "926\tĢ\t      2\t840283126\t0.999999\n",
      "927\t🏁\t      2\t840283128\t0.999999\n",
      "928\tش\t      2\t840283130\t0.999999\n",
      "929\t👈\t      2\t840283132\t0.999999\n",
      "930\tņ\t      2\t840283134\t0.999999\n",
      "931\tů\t      2\t840283136\t0.999999\n",
      "932\t👅\t      2\t840283138\t0.999999\n",
      "933\t🎵\t      2\t840283140\t0.999999\n",
      "934\t💿\t      2\t840283142\t0.999999\n",
      "935\t🍾\t      2\t840283144\t0.999999\n",
      "936\t📀\t      2\t840283146\t0.999999\n",
      "937\t🌙\t      2\t840283148\t0.999999\n",
      "938\t🌍\t      2\t840283150\t0.999999\n",
      "939\tर\t      2\t840283152\t0.999999\n",
      "940\t😸\t      2\t840283154\t0.999999\n",
      "941\t征\t      2\t840283156\t0.999999\n",
      "942\t🎨\t      2\t840283158\t0.999999\n",
      "943\t벅\t      2\t840283160\t0.999999\n",
      "944\t할\t      2\t840283162\t0.999999\n",
      "945\t탐\t      2\t840283164\t0.999999\n",
      "946\t네\t      2\t840283166\t0.999999\n",
      "947\t빈\t      2\t840283168\t0.999999\n",
      "948\t맥\t      2\t840283170\t0.999999\n",
      "949\t좋\t      2\t840283172\t0.999999\n",
      "950\t지\t      2\t840283174\t0.999999\n",
      "951\t동\t      2\t840283176\t0.999999\n",
      "952\t통\t      2\t840283178\t0.999999\n",
      "953\t드\t      2\t840283180\t0.999999\n",
      "954\t뷰\t      2\t840283182\t0.999999\n",
      "955\t했\t      2\t840283184\t0.999999\n",
      "956\t만\t      2\t840283186\t0.999999\n",
      "957\t골\t      2\t840283188\t0.999999\n",
      "958\t식\t      2\t840283190\t0.999999\n",
      "959\t목\t      2\t840283192\t0.999999\n",
      "960\t택\t      2\t840283194\t0.999999\n",
      "961\t념\t      2\t840283196\t0.999999\n",
      "962\t국\t      2\t840283198\t0.999999\n",
      "963\t표\t      2\t840283200\t0.999999\n",
      "964\t진\t      2\t840283202\t0.999999\n",
      "965\t음\t      2\t840283204\t0.999999\n",
      "966\t와\t      2\t840283206\t0.999999\n",
      "967\t담\t      2\t840283208\t0.999999\n",
      "968\t윤\t      2\t840283210\t0.999999\n",
      "969\t내\t      2\t840283212\t0.999999\n",
      "970\t톡\t      2\t840283214\t0.999999\n",
      "971\t또\t      2\t840283216\t0.999999\n",
      "972\t밤\t      2\t840283218\t0.999999\n",
      "973\t뉴\t      2\t840283220\t0.999999\n",
      "974\t본\t      2\t840283222\t0.999999\n",
      "975\t실\t      2\t840283224\t0.999999\n",
      "976\t팅\t      2\t840283226\t0.999999\n",
      "977\t자\t      2\t840283228\t0.999999\n",
      "978\t구\t      2\t840283230\t0.999999\n",
      "979\tפ\t      2\t840283232\t0.999999\n",
      "980\tר\t      2\t840283234\t0.999999\n",
      "981\t🙋\t      2\t840283236\t0.999999\n",
      "982\t🔨\t      2\t840283238\t0.999999\n",
      "983\t🙀\t      2\t840283240\t0.999999\n",
      "984\t😰\t      2\t840283242\t0.999999\n",
      "985\t🚑\t      2\t840283244\t0.999999\n",
      "986\t😝\t      2\t840283246\t0.999999\n",
      "987\t鎧\t      2\t840283248\t0.999999\n",
      "988\t用\t      2\t840283250\t0.999999\n",
      "989\t作\t      2\t840283252\t0.999999\n",
      "990\t柴\t      2\t840283254\t0.999999\n",
      "991\t海\t      2\t840283256\t0.999999\n",
      "992\t組\t      2\t840283258\t0.999999\n",
      "993\t教\t      2\t840283260\t0.999999\n",
      "994\t目\t      2\t840283262\t0.999999\n",
      "995\tû\t      2\t840283264\t0.999999\n",
      "996\t창\t      2\t840283266\t0.999999\n",
      "997\t달\t      2\t840283268\t0.999999\n",
      "998\t줄\t      2\t840283270\t0.999999\n",
      "999\t복\t      2\t840283272\t0.999999\n",
      "1000\t🤤\t      2\t840283274\t0.999999\n",
      "1001\tョ\t      2\t840283276\t0.999999\n",
      "1002\t内\t      2\t840283278\t0.999999\n",
      "1003\t絵\t      2\t840283280\t0.999999\n",
      "1004\t文\t      2\t840283282\t0.999999\n",
      "1005\t字\t      2\t840283284\t0.999999\n",
      "1006\t🇩\t      2\t840283286\t0.999999\n",
      "1007\t買\t      2\t840283288\t0.999999\n",
      "1008\tハ\t      2\t840283290\t0.999999\n",
      "1009\tウ\t      2\t840283292\t0.999999\n",
      "1010\t後\t      2\t840283294\t0.999999\n",
      "1011\tぎ\t      2\t840283296\t0.999999\n",
      "1012\t時\t      2\t840283298\t0.999999\n",
      "1013\t🍕\t      2\t840283300\t0.999999\n",
      "1014\t🛩\t      2\t840283302\t0.999999\n",
      "1015\t⏳\t      2\t840283304\t0.999999\n",
      "1016\t여\t      2\t840283306\t0.999999\n",
      "1017\t감\t      2\t840283308\t0.999999\n",
      "1018\t래\t      2\t840283310\t0.999999\n",
      "1019\t명\t      2\t840283312\t0.999999\n",
      "1020\t함\t      2\t840283314\t0.999999\n",
      "1021\t위\t      2\t840283316\t0.999999\n",
      "1022\t✔\t      2\t840283318\t0.999999\n",
      "1023\t즈\t      2\t840283320\t0.999999\n",
      "1024\t⬆\t      2\t840283322\t0.999999\n",
      "1025\t🍡\t      2\t840283324\t0.999999\n",
      "1026\t🍥\t      2\t840283326\t0.999999\n",
      "1027\t🎊\t      2\t840283328\t0.999999\n",
      "1028\tœ\t      2\t840283330\t0.999999\n",
      "1029\tŏ\t      2\t840283332\t0.999999\n",
      "1030\t🔫\t      2\t840283334\t0.999999\n",
      "1031\t🐇\t      2\t840283336\t0.999999\n",
      "1032\t送\t      2\t840283338\t0.999999\n",
      "1033\tÀ\t      2\t840283340\t0.999999\n",
      "1034\t🤪\t      2\t840283342\t0.999999\n",
      "1035\t🌠\t      2\t840283344\t0.999999\n",
      "1036\t🐱\t      2\t840283346\t0.999999\n",
      "1037\t🐍\t      2\t840283348\t0.999999\n",
      "1038\t🍁\t      2\t840283350\t0.999999\n",
      "1039\t▼\t      2\t840283352\t0.999999\n",
      "1040\t▴\t      2\t840283354\t0.999999\n",
      "1041\tじ\t      2\t840283356\t0.999999\n",
      "1042\t会\t      2\t840283358\t0.999999\n",
      "1043\t长\t      2\t840283360\t0.999999\n",
      "1044\t🖖\t      2\t840283362\t0.999999\n",
      "1045\t🏆\t      2\t840283364\t0.999999\n",
      "1046\t🇵\t      2\t840283366\t0.999999\n",
      "1047\tÊ\t      2\t840283368\t0.999999\n",
      "1048\t็\t      2\t840283370\t0.999999\n",
      "1049\tท\t      2\t840283372\t0.999999\n",
      "1050\tด\t      2\t840283374\t0.999999\n",
      "1051\tึ\t      2\t840283376\t0.999999\n",
      "1052\t💝\t      2\t840283378\t0.999999\n",
      "1053\tψ\t      2\t840283380\t0.999999\n",
      "1054\tļ\t      2\t840283382\t0.999999\n",
      "1055\tヨ\t      2\t840283384\t0.999999\n",
      "1056\t😖\t      2\t840283386\t0.999999\n",
      "1057\t≠\t      2\t840283388\t0.999999\n",
      "1058\t😴\t      2\t840283390\t0.999999\n",
      "1059\tℯ\t      2\t840283392\t0.999999\n",
      "1060\tギ\t      2\t840283394\t0.999999\n",
      "1061\tネ\t      2\t840283396\t0.999999\n",
      "1062\t事\t      2\t840283398\t0.999999\n",
      "1063\t下\t      2\t840283400\t0.999999\n",
      "1064\t々\t      2\t840283402\t0.999999\n",
      "1065\t📲\t      2\t840283404\t0.999999\n",
      "1066\t추\t      2\t840283406\t0.999999\n",
      "1067\t억\t      2\t840283408\t0.999999\n",
      "1068\t今\t      2\t840283410\t0.999999\n",
      "1069\t皮\t      2\t840283412\t0.999999\n",
      "1070\t谢\t      2\t840283414\t0.999999\n",
      "1071\tช\t      2\t840283416\t0.999999\n",
      "1072\tธ\t      2\t840283418\t0.999999\n",
      "1073\t☁\t      2\t840283420\t0.999999\n",
      "1074\tǝ\t      2\t840283422\t0.999999\n",
      "1075\t♔\t      2\t840283424\t0.999999\n",
      "1076\t集\t      2\t840283426\t0.999999\n",
      "1077\t〜\t      2\t840283428\t0.999999\n",
      "1078\tュ\t      2\t840283430\t0.999999\n",
      "1079\t肌\t      2\t840283432\t0.999999\n",
      "1080\t仕\t      2\t840283434\t0.999999\n",
      "1081\tケ\t      2\t840283436\t0.999999\n",
      "1082\t練\t      2\t840283438\t0.999999\n",
      "1083\t교\t      2\t840283440\t0.999999\n",
      "1084\t육\t      2\t840283442\t0.999999\n",
      "1085\tㅋ\t      2\t840283444\t0.999999\n",
      "1086\tゴ\t      2\t840283446\t0.999999\n",
      "1087\t人\t      2\t840283448\t0.999999\n",
      "1088\t📿\t      1\t840283449\t0.999999\n",
      "1089\t浮\t      1\t840283450\t0.999999\n",
      "1090\t電\t      1\t840283451\t0.999999\n",
      "1091\t化\t      1\t840283452\t0.999999\n",
      "1092\t製\t      1\t840283453\t0.999999\n",
      "1093\t品\t      1\t840283454\t0.999999\n",
      "1094\t全\t      1\t840283455\t0.999999\n",
      "1095\t風\t      1\t840283456\t0.999999\n",
      "1096\t呂\t      1\t840283457\t0.999999\n",
      "1097\t󾌧\t      1\t840283458\t0.999999\n",
      "1098\t🐺\t      1\t840283459\t0.999999\n",
      "1099\t💌\t      1\t840283460\t0.999999\n",
      "1100\t✒\t      1\t840283461\t0.999999\n",
      "1101\t🐉\t      1\t840283462\t0.999999\n",
      "1102\t🌕\t      1\t840283463\t0.999999\n",
      "1103\t✊\t      1\t840283464\t0.999999\n",
      "1104\tҰ\t      1\t840283465\t0.999999\n",
      "1105\t♚\t      1\t840283466\t0.999999\n",
      "1106\t♛\t      1\t840283467\t0.999999\n",
      "1107\t♜\t      1\t840283468\t0.999999\n",
      "1108\t♝\t      1\t840283469\t0.999999\n",
      "1109\t♞\t      1\t840283470\t0.999999\n",
      "1110\t🍹\t      1\t840283471\t0.999999\n",
      "1111\t☑\t      1\t840283472\t0.999999\n",
      "1112\t🦀\t      1\t840283473\t0.999999\n",
      "1113\t🐳\t      1\t840283474\t0.999999\n",
      "1114\tᶘ\t      1\t840283475\t0.999999\n",
      "1115\tᴥ\t      1\t840283476\t0.999999\n",
      "1116\tᶅ\t      1\t840283477\t0.999999\n",
      "1117\t🌪\t      1\t840283478\t0.999999\n",
      "1118\tË\t      1\t840283479\t0.999999\n",
      "1119\t🔵\t      1\t840283480\t0.999999\n",
      "1120\tƏ\t      1\t840283481\t0.999999\n",
      "1121\tə\t      1\t840283482\t0.999999\n",
      "1122\t氷\t      1\t840283483\t0.999999\n",
      "1123\t🍟\t      1\t840283484\t0.999999\n",
      "1124\tＭ\t      1\t840283485\t0.999999\n",
      "1125\t←\t      1\t840283486\t0.999999\n",
      "1126\t朝\t      1\t840283487\t0.999999\n",
      "1127\t街\t      1\t840283488\t0.999999\n",
      "1128\t콩\t      1\t840283489\t0.999999\n",
      "1129\t넛\t      1\t840283490\t0.999999\n",
      "1130\t🎬\t      1\t840283491\t0.999999\n",
      "1131\t🏳\t      1\t840283492\t0.999999\n",
      "1132\t暖\t      1\t840283493\t0.999999\n",
      "1133\t男\t      1\t840283494\t0.999999\n",
      "1134\t绅\t      1\t840283495\t0.999999\n",
      "1135\t士\t      1\t840283496\t0.999999\n",
      "1136\t🗼\t      1\t840283497\t0.999999\n",
      "1137\t還\t      1\t840283498\t0.999999\n",
      "1138\t是\t      1\t840283499\t0.999999\n",
      "1139\t👓\t      1\t840283500\t0.999999\n",
      "1140\t有\t      1\t840283501\t0.999999\n",
      "1141\t陽\t      1\t840283502\t0.999999\n",
      "1142\t光\t      1\t840283503\t0.999999\n",
      "1143\t🛒\t      1\t840283504\t0.999999\n",
      "1144\tҗ\t      1\t840283505\t0.999999\n",
      "1145\tћ\t      1\t840283506\t0.999999\n",
      "1146\t雨\t      1\t840283507\t0.999999\n",
      "1147\t🤞\t      1\t840283508\t0.999999\n",
      "1148\t🐚\t      1\t840283509\t0.999999\n",
      "1149\t🌾\t      1\t840283510\t0.999999\n",
      "1150\t👰\t      1\t840283511\t0.999999\n",
      "1151\t´\t      1\t840283512\t0.999999\n",
      "1152\t🥈\t      1\t840283513\t0.999999\n",
      "1153\t😥\t      1\t840283514\t0.999999\n",
      "1154\t♈\t      1\t840283515\t0.999999\n",
      "1155\t♐\t      1\t840283516\t0.999999\n",
      "1156\t♑\t      1\t840283517\t0.999999\n",
      "1157\t♏\t      1\t840283518\t0.999999\n",
      "1158\t♓\t      1\t840283519\t0.999999\n",
      "1159\t♉\t      1\t840283520\t0.999999\n",
      "1160\t♌\t      1\t840283521\t0.999999\n",
      "1161\t🛀\t      1\t840283522\t0.999999\n",
      "1162\t😮\t      1\t840283523\t0.999999\n",
      "1163\t🇳\t      1\t840283524\t0.999999\n",
      "1164\t🏔\t      1\t840283525\t0.999999\n",
      "1165\t⬅\t      1\t840283526\t0.999999\n",
      "1166\t🍬\t      1\t840283527\t0.999999\n",
      "1167\t📣\t      1\t840283528\t0.999999\n",
      "1168\t📻\t      1\t840283529\t0.999999\n",
      "1169\t🎙\t      1\t840283530\t0.999999\n",
      "1170\t👧\t      1\t840283531\t0.999999\n",
      "1171\t夕\t      1\t840283532\t0.999999\n",
      "1172\t刊\t      1\t840283533\t0.999999\n",
      "1173\t連\t      1\t840283534\t0.999999\n",
      "1174\t載\t      1\t840283535\t0.999999\n",
      "1175\t　\t      1\t840283536\t0.999999\n",
      "1176\t展\t      1\t840283537\t0.999999\n",
      "1177\t開\t      1\t840283538\t0.999999\n",
      "1178\t催\t      1\t840283539\t0.999999\n",
      "1179\t中\t      1\t840283540\t0.999999\n",
      "1180\tつ\t      1\t840283541\t0.999999\n",
      "1181\t代\t      1\t840283542\t0.999999\n",
      "1182\t輪\t      1\t840283543\t0.999999\n",
      "1183\t野\t      1\t840283544\t0.999999\n",
      "1184\tモ\t      1\t840283545\t0.999999\n",
      "1185\t⊕\t      1\t840283546\t0.999999\n",
      "1186\tΘ\t      1\t840283547\t0.999999\n",
      "1187\t🍅\t      1\t840283548\t0.999999\n",
      "1188\t😠\t      1\t840283549\t0.999999\n",
      "1189\tئ\t      1\t840283550\t0.999999\n",
      "1190\tء\t      1\t840283551\t0.999999\n",
      "1191\tز\t      1\t840283552\t0.999999\n",
      "1192\tἅ\t      1\t840283553\t0.999999\n",
      "1193\t🌝\t      1\t840283554\t0.999999\n",
      "1194\t‚\t      1\t840283555\t0.999999\n",
      "1195\tứ\t      1\t840283556\t0.999999\n",
      "1196\tЉ\t      1\t840283557\t0.999999\n",
      "1197\tⒷ\t      1\t840283558\t0.999999\n",
      "1198\tⓇ\t      1\t840283559\t0.999999\n",
      "1199\tⒻ\t      1\t840283560\t0.999999\n",
      "1200\tⓄ\t      1\t840283561\t0.999999\n",
      "1201\tⓃ\t      1\t840283562\t0.999999\n",
      "1202\tⓈ\t      1\t840283563\t0.999999\n",
      "1203\t♠\t      1\t840283564\t0.999999\n",
      "1204\tؤ\t      1\t840283565\t0.999999\n",
      "1205\t🍪\t      1\t840283566\t0.999999\n",
      "1206\t🎪\t      1\t840283567\t0.999999\n",
      "1207\t💧\t      1\t840283568\t0.999999\n",
      "1208\t💰\t      1\t840283569\t0.999999\n",
      "1209\tố\t      1\t840283570\t0.999999\n",
      "1210\tả\t      1\t840283571\t0.999999\n",
      "1211\t🌏\t      1\t840283572\t0.999999\n",
      "1212\tप\t      1\t840283573\t0.999999\n",
      "1213\tश\t      1\t840283574\t0.999999\n",
      "1214\tु\t      1\t840283575\t0.999999\n",
      "1215\tा\t      1\t840283576\t0.999999\n",
      "1216\tम\t      1\t840283577\t0.999999\n",
      "1217\t🍦\t      1\t840283578\t0.999999\n",
      "1218\t長\t      1\t840283579\t0.999999\n",
      "1219\t🥊\t      1\t840283580\t0.999999\n",
      "1220\t베\t      1\t840283581\t0.999999\n",
      "1221\t따\t      1\t840283582\t0.999999\n",
      "1222\t뜨\t      1\t840283583\t0.999999\n",
      "1223\t힐\t      1\t840283584\t0.999999\n",
      "1224\t강\t      1\t840283585\t0.999999\n",
      "1225\t언\t      1\t840283586\t0.999999\n",
      "1226\t냐\t      1\t840283587\t0.999999\n",
      "1227\t헤\t      1\t840283588\t0.999999\n",
      "1228\t퍼\t      1\t840283589\t0.999999\n",
      "1229\t휘\t      1\t840283590\t0.999999\n",
      "1230\t샤\t      1\t840283591\t0.999999\n",
      "1231\t손\t      1\t840283592\t0.999999\n",
      "1232\t더\t      1\t840283593\t0.999999\n",
      "1233\t었\t      1\t840283594\t0.999999\n",
      "1234\t겠\t      1\t840283595\t0.999999\n",
      "1235\t렵\t      1\t840283596\t0.999999\n",
      "1236\t화\t      1\t840283597\t0.999999\n",
      "1237\t쌤\t      1\t840283598\t0.999999\n",
      "1238\t느\t      1\t840283599\t0.999999\n",
      "1239\t럽\t      1\t840283600\t0.999999\n",
      "1240\t토\t      1\t840283601\t0.999999\n",
      "1241\t뛰\t      1\t840283602\t0.999999\n",
      "1242\t🏌\t      1\t840283603\t0.999999\n",
      "1243\t때\t      1\t840283604\t0.999999\n",
      "1244\t큼\t      1\t840283605\t0.999999\n",
      "1245\t용\t      1\t840283606\t0.999999\n",
      "1246\t정\t      1\t840283607\t0.999999\n",
      "1247\t채\t      1\t840283608\t0.999999\n",
      "1248\t된\t      1\t840283609\t0.999999\n",
      "1249\t것\t      1\t840283610\t0.999999\n",
      "1250\t멋\t      1\t840283611\t0.999999\n",
      "1251\t응\t      1\t840283612\t0.999999\n",
      "1252\t겨\t      1\t840283613\t0.999999\n",
      "1253\t몸\t      1\t840283614\t0.999999\n",
      "1254\t캔\t      1\t840283615\t0.999999\n",
      "1255\t버\t      1\t840283616\t0.999999\n",
      "1256\t죠\t      1\t840283617\t0.999999\n",
      "1257\t튀\t      1\t840283618\t0.999999\n",
      "1258\t발\t      1\t840283619\t0.999999\n",
      "1259\t돋\t      1\t840283620\t0.999999\n",
      "1260\t늘\t      1\t840283621\t1.000000\n",
      "1261\t쇼\t      1\t840283622\t1.000000\n",
      "1262\t판\t      1\t840283623\t1.000000\n",
      "1263\t갑\t      1\t840283624\t1.000000\n",
      "1264\t간\t      1\t840283625\t1.000000\n",
      "1265\t되\t      1\t840283626\t1.000000\n",
      "1266\t꼭\t      1\t840283627\t1.000000\n",
      "1267\t방\t      1\t840283628\t1.000000\n",
      "1268\t른\t      1\t840283629\t1.000000\n",
      "1269\t릭\t      1\t840283630\t1.000000\n",
      "1270\t질\t      1\t840283631\t1.000000\n",
      "1271\t등\t      1\t840283632\t1.000000\n",
      "1272\t축\t      1\t840283633\t1.000000\n",
      "1273\tא\t      1\t840283634\t1.000000\n",
      "1274\t◠\t      1\t840283635\t1.000000\n",
      "1275\t﹏\t      1\t840283636\t1.000000\n",
      "1276\t◕\t      1\t840283637\t1.000000\n",
      "1277\t✿\t      1\t840283638\t1.000000\n",
      "1278\tљ\t      1\t840283639\t1.000000\n",
      "1279\t۞\t      1\t840283640\t1.000000\n",
      "1280\tҤ\t      1\t840283641\t1.000000\n",
      "1281\t🛁\t      1\t840283642\t1.000000\n",
      "1282\t📚\t      1\t840283643\t1.000000\n",
      "1283\t⛅\t      1\t840283644\t1.000000\n",
      "1284\t🐧\t      1\t840283645\t1.000000\n",
      "1285\t👢\t      1\t840283646\t1.000000\n",
      "1286\t👡\t      1\t840283647\t1.000000\n",
      "1287\t💳\t      1\t840283648\t1.000000\n",
      "1288\t👕\t      1\t840283649\t1.000000\n",
      "1289\t👔\t      1\t840283650\t1.000000\n",
      "1290\t👖\t      1\t840283651\t1.000000\n",
      "1291\t💼\t      1\t840283652\t1.000000\n",
      "1292\t¾\t      1\t840283653\t1.000000\n",
      "1293\tģ\t      1\t840283654\t1.000000\n",
      "1294\t≤\t      1\t840283655\t1.000000\n",
      "1295\t∈\t      1\t840283656\t1.000000\n",
      "1296\tℤ\t      1\t840283657\t1.000000\n",
      "1297\t🎩\t      1\t840283658\t1.000000\n",
      "1298\tΞ\t      1\t840283659\t1.000000\n",
      "1299\t🌧\t      1\t840283660\t1.000000\n",
      "1300\t🌩\t      1\t840283661\t1.000000\n",
      "1301\t以\t      1\t840283662\t1.000000\n",
      "1302\t相\t      1\t840283663\t1.000000\n",
      "1303\t談\t      1\t840283664\t1.000000\n",
      "1304\t頂\t      1\t840283665\t1.000000\n",
      "1305\t※\t      1\t840283666\t1.000000\n",
      "1306\tへ\t      1\t840283667\t1.000000\n",
      "1307\t誘\t      1\t840283668\t1.000000\n",
      "1308\t導\t      1\t840283669\t1.000000\n",
      "1309\t促\t      1\t840283670\t1.000000\n",
      "1310\tＵ\t      1\t840283671\t1.000000\n",
      "1311\tＲ\t      1\t840283672\t1.000000\n",
      "1312\tＬ\t      1\t840283673\t1.000000\n",
      "1313\t名\t      1\t840283674\t1.000000\n",
      "1314\t前\t      1\t840283675\t1.000000\n",
      "1315\t為\t      1\t840283676\t1.000000\n",
      "1316\t提\t      1\t840283677\t1.000000\n",
      "1317\t供\t      1\t840283678\t1.000000\n",
      "1318\t者\t      1\t840283679\t1.000000\n",
      "1319\t了\t      1\t840283680\t1.000000\n",
      "1320\t承\t      1\t840283681\t1.000000\n",
      "1321\t反\t      1\t840283682\t1.000000\n",
      "1322\t響\t      1\t840283683\t1.000000\n",
      "1323\tビ\t      1\t840283684\t1.000000\n",
      "1324\t紹\t      1\t840283685\t1.000000\n",
      "1325\t介\t      1\t840283686\t1.000000\n",
      "1326\tォ\t      1\t840283687\t1.000000\n",
      "1327\t他\t      1\t840283688\t1.000000\n",
      "1328\t撃\t      1\t840283689\t1.000000\n",
      "1329\t情\t      1\t840283690\t1.000000\n",
      "1330\t報\t      1\t840283691\t1.000000\n",
      "1331\t🔑\t      1\t840283692\t1.000000\n",
      "1332\t계\t      1\t840283693\t1.000000\n",
      "1333\t회\t      1\t840283694\t1.000000\n",
      "1334\t물\t      1\t840283695\t1.000000\n",
      "1335\t근\t      1\t840283696\t1.000000\n",
      "1336\t접\t      1\t840283697\t1.000000\n",
      "1337\t예\t      1\t840283698\t1.000000\n",
      "1338\t쁘\t      1\t840283699\t1.000000\n",
      "1339\t걸\t      1\t840283700\t1.000000\n",
      "1340\t글\t      1\t840283701\t1.000000\n",
      "1341\t😑\t      1\t840283702\t1.000000\n",
      "1342\t🍿\t      1\t840283703\t1.000000\n",
      "1343\t編\t      1\t840283704\t1.000000\n",
      "1344\t市\t      1\t840283705\t1.000000\n",
      "1345\t土\t      1\t840283706\t1.000000\n",
      "1346\t産\t      1\t840283707\t1.000000\n",
      "1347\t屋\t      1\t840283708\t1.000000\n",
      "1348\t出\t      1\t840283709\t1.000000\n",
      "1349\t微\t      1\t840283710\t1.000000\n",
      "1350\t妙\t      1\t840283711\t1.000000\n",
      "1351\t▪\t      1\t840283712\t1.000000\n",
      "1352\t🤠\t      1\t840283713\t1.000000\n",
      "1353\t💉\t      1\t840283714\t1.000000\n",
      "1354\t💊\t      1\t840283715\t1.000000\n",
      "1355\t加\t      1\t840283716\t1.000000\n",
      "1356\t賀\t      1\t840283717\t1.000000\n",
      "1357\t国\t      1\t840283718\t1.000000\n",
      "1358\t🍐\t      1\t840283719\t1.000000\n",
      "1359\t🍌\t      1\t840283720\t1.000000\n",
      "1360\t🍋\t      1\t840283721\t1.000000\n",
      "1361\t🤓\t      1\t840283722\t1.000000\n",
      "1362\t植\t      1\t840283723\t1.000000\n",
      "1363\t置\t      1\t840283724\t1.000000\n",
      "1364\t超\t      1\t840283725\t1.000000\n",
      "1365\t満\t      1\t840283726\t1.000000\n",
      "1366\t悦\t      1\t840283727\t1.000000\n",
      "1367\t枚\t      1\t840283728\t1.000000\n",
      "1368\t立\t      1\t840283729\t1.000000\n",
      "1369\t直\t      1\t840283730\t1.000000\n",
      "1370\t嬉\t      1\t840283731\t1.000000\n",
      "1371\t何\t      1\t840283732\t1.000000\n",
      "1372\t使\t      1\t840283733\t1.000000\n",
      "1373\t狭\t      1\t840283734\t1.000000\n",
      "1374\t🐈\t      1\t840283735\t1.000000\n",
      "1375\t♪\t      1\t840283736\t1.000000\n",
      "1376\tΒ\t      1\t840283737\t1.000000\n",
      "1377\tớ\t      1\t840283738\t1.000000\n",
      "1378\t🌥\t      1\t840283739\t1.000000\n",
      "1379\t🐷\t      1\t840283740\t1.000000\n",
      "1380\tÆ\t      1\t840283741\t1.000000\n",
      "1381\t李\t      1\t840283742\t1.000000\n",
      "1382\t柒\t      1\t840283743\t1.000000\n",
      "1383\t📖\t      1\t840283744\t1.000000\n",
      "1384\t☇\t      1\t840283745\t1.000000\n",
      "1385\t🚫\t      1\t840283746\t1.000000\n",
      "1386\t🦊\t      1\t840283747\t1.000000\n",
      "1387\t🚼\t      1\t840283748\t1.000000\n",
      "1388\t〰\t      1\t840283749\t1.000000\n",
      "1389\t얄\t      1\t840283750\t1.000000\n",
      "1390\t파\t      1\t840283751\t1.000000\n",
      "1391\t텔\t      1\t840283752\t1.000000\n",
      "1392\t톤\t      1\t840283753\t1.000000\n",
      "1393\t밑\t      1\t840283754\t1.000000\n",
      "1394\t귀\t      1\t840283755\t1.000000\n",
      "1395\t걀\t      1\t840283756\t1.000000\n",
      "1396\t린\t      1\t840283757\t1.000000\n",
      "1397\t특\t      1\t840283758\t1.000000\n",
      "1398\t징\t      1\t840283759\t1.000000\n",
      "1399\t합\t      1\t840283760\t1.000000\n",
      "1400\t배\t      1\t840283761\t1.000000\n",
      "1401\t공\t      1\t840283762\t1.000000\n",
      "1402\t플\t      1\t840283763\t1.000000\n",
      "1403\t친\t      1\t840283764\t1.000000\n",
      "1404\t및\t      1\t840283765\t1.000000\n",
      "1405\t께\t      1\t840283766\t1.000000\n",
      "1406\t문\t      1\t840283767\t1.000000\n",
      "1407\t격\t      1\t840283768\t1.000000\n",
      "1408\t안\t      1\t840283769\t1.000000\n",
      "1409\tʒ\t      1\t840283770\t1.000000\n",
      "1410\tɪ\t      1\t840283771\t1.000000\n",
      "1411\tŷ\t      1\t840283772\t1.000000\n",
      "1412\t✂\t      1\t840283773\t1.000000\n",
      "1413\tệ\t      1\t840283774\t1.000000\n",
      "1414\t死\t      1\t840283775\t1.000000\n",
      "1415\t嘘\t      1\t840283776\t1.000000\n",
      "1416\t拡\t      1\t840283777\t1.000000\n",
      "1417\t散\t      1\t840283778\t1.000000\n",
      "1418\t飛\t      1\t840283779\t1.000000\n",
      "1419\t狗\t      1\t840283780\t1.000000\n",
      "1420\t不\t      1\t840283781\t1.000000\n",
      "1421\t🐓\t      1\t840283782\t1.000000\n",
      "1422\t小\t      1\t840283783\t1.000000\n",
      "1423\t康\t      1\t840283784\t1.000000\n",
      "1424\t十\t      1\t840283785\t1.000000\n",
      "1425\t三\t      1\t840283786\t1.000000\n",
      "1426\t五\t      1\t840283787\t1.000000\n",
      "1427\tÝ\t      1\t840283788\t1.000000\n",
      "1428\t👴\t      1\t840283789\t1.000000\n",
      "1429\t🍊\t      1\t840283790\t1.000000\n",
      "1430\t🍮\t      1\t840283791\t1.000000\n",
      "1431\t🤯\t      1\t840283792\t1.000000\n",
      "1432\t🇧\t      1\t840283793\t1.000000\n",
      "1433\t钟\t      1\t840283794\t1.000000\n",
      "1434\t终\t      1\t840283795\t1.000000\n",
      "1435\t⛰\t      1\t840283796\t1.000000\n",
      "1436\t🍄\t      1\t840283797\t1.000000\n",
      "1437\t🐸\t      1\t840283798\t1.000000\n",
      "1438\t🥋\t      1\t840283799\t1.000000\n",
      "1439\t🧐\t      1\t840283800\t1.000000\n",
      "1440\t\t      1\t840283801\t1.000000\n",
      "1441\t̀\t      1\t840283802\t1.000000\n",
      "1442\tÞ\t      1\t840283803\t1.000000\n",
      "1443\t👒\t      1\t840283804\t1.000000\n",
      "1444\t🎇\t      1\t840283805\t1.000000\n",
      "1445\t🎆\t      1\t840283806\t1.000000\n",
      "1446\t🐊\t      1\t840283807\t1.000000\n",
      "1447\t🐣\t      1\t840283808\t1.000000\n",
      "1448\t🐒\t      1\t840283809\t1.000000\n",
      "1449\t🐢\t      1\t840283810\t1.000000\n",
      "1450\t🐖\t      1\t840283811\t1.000000\n",
      "1451\t🐿\t      1\t840283812\t1.000000\n",
      "1452\tφ\t      1\t840283813\t1.000000\n",
      "1453\t🤨\t      1\t840283814\t1.000000\n",
      "1454\t🚲\t      1\t840283815\t1.000000\n",
      "1455\tΤ\t      1\t840283816\t1.000000\n",
      "1456\t🎈\t      1\t840283817\t1.000000\n",
      "1457\t比\t      1\t840283818\t1.000000\n",
      "1458\t🐴\t      1\t840283819\t1.000000\n",
      "1459\t🤢\t      1\t840283820\t1.000000\n",
      "1460\tḤ\t      1\t840283821\t1.000000\n",
      "1461\t∆\t      1\t840283822\t1.000000\n",
      "1462\tị\t      1\t840283823\t1.000000\n",
      "1463\t√\t      1\t840283824\t1.000000\n",
      "1464\t🇬\t      1\t840283825\t1.000000\n",
      "1465\t😇\t      1\t840283826\t1.000000\n",
      "1466\t札\t      1\t840283827\t1.000000\n",
      "1467\t好\t      1\t840283828\t1.000000\n",
      "1468\tィ\t      1\t840283829\t1.000000\n",
      "1469\tグ\t      1\t840283830\t1.000000\n",
      "1470\t心\t      1\t840283831\t1.000000\n",
      "1471\t機\t      1\t840283832\t1.000000\n",
      "1472\t🔻\t      1\t840283833\t1.000000\n",
      "1473\t留\t      1\t840283834\t1.000000\n",
      "1474\t这\t      1\t840283835\t1.000000\n",
      "1475\t👜\t      1\t840283836\t1.000000\n",
      "1476\tɐ\t      1\t840283837\t1.000000\n",
      "1477\tˈ\t      1\t840283838\t1.000000\n",
      "1478\t😲\t      1\t840283839\t1.000000\n",
      "1479\t🔌\t      1\t840283840\t1.000000\n",
      "1480\t🥑\t      1\t840283841\t1.000000\n",
      "1481\t🇲\t      1\t840283842\t1.000000\n",
      "1482\t🇽\t      1\t840283843\t1.000000\n",
      "1483\t👿\t      1\t840283844\t1.000000\n",
      "1484\t🕺\t      1\t840283845\t1.000000\n",
      "1485\t🤭\t      1\t840283846\t1.000000\n",
      "1486\t🧜\t      1\t840283847\t1.000000\n",
      "1487\t†\t      1\t840283848\t1.000000\n",
      "1488\t⚰\t      1\t840283849\t1.000000\n",
      "1489\t🐽\t      1\t840283850\t1.000000\n",
      "1490\ţ\t      1\t840283851\t1.000000\n",
      "1491\t🍜\t      1\t840283852\t1.000000\n",
      "1492\tכ\t      1\t840283853\t1.000000\n",
      "1493\tב\t      1\t840283854\t1.000000\n",
      "1494\tז\t      1\t840283855\t1.000000\n",
      "1495\t😶\t      1\t840283856\t1.000000\n",
      "1496\tฉ\t      1\t840283857\t1.000000\n",
      "1497\tส\t      1\t840283858\t1.000000\n",
      "1498\tแ\t      1\t840283859\t1.000000\n",
      "1499\tโ\t      1\t840283860\t1.000000\n",
      "1500\tำ\t      1\t840283861\t1.000000\n",
      "1501\tผ\t      1\t840283862\t1.000000\n",
      "1502\t¹\t      1\t840283863\t1.000000\n",
      "1503\tđ\t      1\t840283864\t1.000000\n",
      "1504\t🔐\t      1\t840283865\t1.000000\n",
      "1505\t🔜\t      1\t840283866\t1.000000\n",
      "1506\t❌\t      1\t840283867\t1.000000\n",
      "1507\t🔊\t      1\t840283868\t1.000000\n",
      "1508\t游\t      1\t840283869\t1.000000\n",
      "1509\t戏\t      1\t840283870\t1.000000\n",
      "1510\t💭\t      1\t840283871\t1.000000\n",
      "1511\t💇\t      1\t840283872\t1.000000\n",
      "1512\t🌼\t      1\t840283873\t1.000000\n",
      "1513\tΥ\t      1\t840283874\t1.000000\n",
      "1514\t₂\t      1\t840283875\t1.000000\n",
      "1515\t¥\t      1\t840283876\t1.000000\n",
      "1516\tŌ\t      1\t840283877\t1.000000\n",
      "1517\t😼\t      1\t840283878\t1.000000\n",
      "1518\t👄\t      1\t840283879\t1.000000\n",
      "1519\t😦\t      1\t840283880\t1.000000\n",
      "1520\t💸\t      1\t840283881\t1.000000\n",
      "1521\t🍃\t      1\t840283882\t1.000000\n",
      "1522\t🎭\t      1\t840283883\t1.000000\n",
      "1523\t📺\t      1\t840283884\t1.000000\n",
      "1524\t🙇\t      1\t840283885\t1.000000\n",
      "1525\t👗\t      1\t840283886\t1.000000\n",
      "1526\tʍ\t      1\t840283887\t1.000000\n",
      "1527\t🇯\t      1\t840283888\t1.000000\n",
      "1528\t号\t      1\t840283889\t1.000000\n",
      "1529\tÄ\t      1\t840283890\t1.000000\n",
      "1530\t🎅\t      1\t840283891\t1.000000\n",
      "1531\t順\t      1\t840283892\t1.000000\n",
      "1532\t的\t      1\t840283893\t1.000000\n",
      "1533\tろ\t      1\t840283894\t1.000000\n",
      "1534\t調\t      1\t840283895\t1.000000\n",
      "1535\t顔\t      1\t840283896\t1.000000\n",
      "1536\tピ\t      1\t840283897\t1.000000\n",
      "1537\t達\t      1\t840283898\t1.000000\n",
      "1538\t活\t      1\t840283899\t1.000000\n",
      "1539\t躍\t      1\t840283900\t1.000000\n",
      "1540\t考\t      1\t840283901\t1.000000\n",
      "1541\tゅ\t      1\t840283902\t1.000000\n",
      "1542\t花\t      1\t840283903\t1.000000\n",
      "1543\t生\t      1\t840283904\t1.000000\n",
      "1544\t幼\t      1\t840283905\t1.000000\n",
      "1545\t虫\t      1\t840283906\t1.000000\n",
      "1546\t口\t      1\t840283907\t1.000000\n",
      "1547\t魚\t      1\t840283908\t1.000000\n",
      "1548\t一\t      1\t840283909\t1.000000\n",
      "1549\t度\t      1\t840283910\t1.000000\n",
      "1550\t💩\t      1\t840283911\t1.000000\n",
      "1551\t痢\t      1\t840283912\t1.000000\n",
      "1552\t治\t      1\t840283913\t1.000000\n",
      "1553\t段\t      1\t840283914\t1.000000\n",
      "1554\t通\t      1\t840283915\t1.000000\n",
      "1555\t遊\t      1\t840283916\t1.000000\n",
      "1556\t寝\t      1\t840283917\t1.000000\n",
      "1557\t方\t      1\t840283918\t1.000000\n",
      "1558\t暮\t      1\t840283919\t1.000000\n",
      "1559\t茶\t      1\t840283920\t1.000000\n",
      "1560\t祭\t      1\t840283921\t1.000000\n",
      "1561\t⚖\t      1\t840283922\t1.000000\n",
      "1562\t📝\t      1\t840283923\t1.000000\n",
      "1563\t✅\t      1\t840283924\t1.000000\n",
      "1564\t웅\t      1\t840283925\t1.000000\n",
      "1565\t캇\t      1\t840283926\t1.000000\n",
      "1566\t봤\t      1\t840283927\t1.000000\n",
      "1567\t껼\t      1\t840283928\t1.000000\n",
      "1568\t머\t      1\t840283929\t1.000000\n",
      "1569\t젔\t      1\t840283930\t1.000000\n",
      "1570\t처\t      1\t840283931\t1.000000\n",
      "1571\t났\t      1\t840283932\t1.000000\n",
      "1572\t참\t      1\t840283933\t1.000000\n",
      "1573\t남\t      1\t840283934\t1.000000\n",
      "1574\t왔\t      1\t840283935\t1.000000\n",
      "1575\t후\t      1\t840283936\t1.000000\n",
      "1576\t없\t      1\t840283937\t1.000000\n",
      "1577\t🙉\t      1\t840283938\t1.000000\n",
      "1578\t年\t      1\t840283939\t1.000000\n",
      "1579\t盆\t      1\t840283940\t1.000000\n",
      "1580\t先\t      1\t840283941\t1.000000\n",
      "1581\t祖\t      1\t840283942\t1.000000\n",
      "1582\t怒\t      1\t840283943\t1.000000\n",
      "1583\t経\t      1\t840283944\t1.000000\n",
      "1584\t由\t      1\t840283945\t1.000000\n",
      "1585\t来\t      1\t840283946\t1.000000\n",
      "1586\t虾\t      1\t840283947\t1.000000\n",
      "1587\t粉\t      1\t840283948\t1.000000\n",
      "1588\t丝\t      1\t840283949\t1.000000\n",
      "1589\tถ\t      1\t840283950\t1.000000\n",
      "1590\tฟ\t      1\t840283951\t1.000000\n",
      "1591\tะ\t      1\t840283952\t1.000000\n",
      "1592\tศ\t      1\t840283953\t1.000000\n",
      "1593\tณ\t      1\t840283954\t1.000000\n",
      "1594\tู\t      1\t840283955\t1.000000\n",
      "1595\t๊\t      1\t840283956\t1.000000\n",
      "1596\t🚂\t      1\t840283957\t1.000000\n",
      "1597\t🐎\t      1\t840283958\t1.000000\n",
      "1598\tѣ\t      1\t840283959\t1.000000\n",
      "1599\tѲ\t      1\t840283960\t1.000000\n",
      "1600\t😔\t      1\t840283961\t1.000000\n",
      "1601\tÿ\t      1\t840283962\t1.000000\n",
      "1602\tў\t      1\t840283963\t1.000000\n",
      "1603\t🏝\t      1\t840283964\t1.000000\n",
      "1604\tĶ\t      1\t840283965\t1.000000\n",
      "1605\t👱\t      1\t840283966\t1.000000\n",
      "1606\t🍻\t      1\t840283967\t1.000000\n",
      "1607\tĆ\t      1\t840283968\t1.000000\n",
      "1608\t月\t      1\t840283969\t1.000000\n",
      "1609\tソ\t      1\t840283970\t1.000000\n",
      "1610\tヘ\t      1\t840283971\t1.000000\n",
      "1611\tヴ\t      1\t840283972\t1.000000\n",
      "1612\t持\t      1\t840283973\t1.000000\n",
      "1613\tダ\t      1\t840283974\t1.000000\n",
      "1614\t購\t      1\t840283975\t1.000000\n",
      "1615\t『\t      1\t840283976\t1.000000\n",
      "1616\t』\t      1\t840283977\t1.000000\n",
      "1617\t負\t      1\t840283978\t1.000000\n",
      "1618\t担\t      1\t840283979\t1.000000\n",
      "1619\tず\t      1\t840283980\t1.000000\n",
      "1620\t素\t      1\t840283981\t1.000000\n",
      "1621\tブ\t      1\t840283982\t1.000000\n",
      "1622\t可\t      1\t840283983\t1.000000\n",
      "1623\t愛\t      1\t840283984\t1.000000\n",
      "1624\t自\t      1\t840283985\t1.000000\n",
      "1625\t然\t      1\t840283986\t1.000000\n",
      "1626\t成\t      1\t840283987\t1.000000\n",
      "1627\t分\t      1\t840283988\t1.000000\n",
      "1628\t感\t      1\t840283989\t1.000000\n",
      "1629\t희\t      1\t840283990\t1.000000\n",
      "1630\t망\t      1\t840283991\t1.000000\n",
      "1631\t별\t      1\t840283992\t1.000000\n",
      "1632\t빛\t      1\t840283993\t1.000000\n",
      "1633\t긴\t      1\t840283994\t1.000000\n",
      "1634\t연\t      1\t840283995\t1.000000\n",
      "1635\t휴\t      1\t840283996\t1.000000\n",
      "1636\t행\t      1\t840283997\t1.000000\n",
      "1637\t름\t      1\t840283998\t1.000000\n",
      "1638\t득\t      1\t840283999\t1.000000\n",
      "1639\t쌓\t      1\t840284000\t1.000000\n",
      "1640\t게\t      1\t840284001\t1.000000\n",
      "1641\t중\t      1\t840284002\t1.000000\n",
      "1642\t생\t      1\t840284003\t1.000000\n",
      "1643\t⚘\t      1\t840284004\t1.000000\n",
      "1644\t즘\t      1\t840284005\t1.000000\n",
      "1645\t반\t      1\t840284006\t1.000000\n",
      "1646\t앨\t      1\t840284007\t1.000000\n",
      "1647\t범\t      1\t840284008\t1.000000\n",
      "1648\t알\t      1\t840284009\t1.000000\n",
      "1649\t셔\t      1\t840284010\t1.000000\n",
      "1650\t톰\t      1\t840284011\t1.000000\n",
      "1651\t입\t      1\t840284012\t1.000000\n",
      "1652\t금\t      1\t840284013\t1.000000\n",
      "1653\t성\t      1\t840284014\t1.000000\n",
      "1654\t형\t      1\t840284015\t1.000000\n",
      "1655\t틴\t      1\t840284016\t1.000000\n",
      "1656\t탑\t      1\t840284017\t1.000000\n",
      "1657\t엘\t      1\t840284018\t1.000000\n",
      "1658\t悲\t      1\t840284019\t1.000000\n",
      "1659\tʹ\t      1\t840284020\t1.000000\n",
      "1660\tʺ\t      1\t840284021\t1.000000\n",
      "1661\t🐔\t      1\t840284022\t1.000000\n",
      "1662\t東\t      1\t840284023\t1.000000\n",
      "1663\t山\t      1\t840284024\t1.000000\n",
      "1664\t動\t      1\t840284025\t1.000000\n",
      "1665\t園\t      1\t840284026\t1.000000\n",
      "1666\tＮ\t      1\t840284027\t1.000000\n",
      "1667\tＨ\t      1\t840284028\t1.000000\n",
      "1668\tＫ\t      1\t840284029\t1.000000\n",
      "1669\tポ\t      1\t840284030\t1.000000\n",
      "1670\tụ\t      1\t840284031\t1.000000\n",
      "1671\t🌅\t      1\t840284032\t1.000000\n",
      "1672\t⚓\t      1\t840284033\t1.000000\n",
      "1673\t斯\t      1\t840284034\t1.000000\n",
      "1674\t諾\t      1\t840284035\t1.000000\n",
      "1675\t登\t      1\t840284036\t1.000000\n",
      "1676\t😨\t      1\t840284037\t1.000000\n",
      "1677\t🦍\t      1\t840284038\t1.000000\n",
      "1678\tη\t      1\t840284039\t1.000000\n",
      "1679\tή\t      1\t840284040\t1.000000\n",
      "1680\t📆\t      1\t840284041\t1.000000\n",
      "{b'<unk>': 0, b' ': 1, b'\\xd0\\xbe': 2, b'\\xd0\\xb0': 3, b'\\xd0\\xb5': 4, b'\\xd0\\xb8': 5, b'\\xd0\\xbd': 6, b'\\xd1\\x82': 7, b'\\xd1\\x80': 8, b'\\xd1\\x81': 9, b'\\xd0\\xb2': 10, b'\\xd0\\xbb': 11, b'\\xd0\\xba': 12, b'\\xd0\\xb4': 13, b'\\xd0\\xbc': 14, b'\\xd0\\xbf': 15, b'\\xd1\\x83': 16, b'\\xd1\\x8f': 17, b'\\xd1\\x8b': 18, b'\\xd0\\xb3': 19, b'\\xd0\\xb1': 20, b'\\xd0\\xb7': 21, b',': 22, b'\\xd1\\x8c': 23, b'\\xd0\\xb9': 24, b'\\xd1\\x87': 25, b'.': 26, b'\\xd1\\x85': 27, b'\\xd0\\xb6': 28, b'\\xd1\\x86': 29, b'\\xd1\\x8e': 30, b'\\xd1\\x88': 31, b'\"': 32, b'\\xd1\\x89': 33, b'\\xd1\\x84': 34, b'0': 35, b'\\xd0\\xa1': 36, b'-': 37, b'\\xd0\\x92': 38, b'\\xd0\\x9f': 39, b'1': 40, b'\\xd1\\x8d': 41, b'2': 42, b'\\xd0\\x9a': 43, b'e': 44, b'\\xd0\\xa0': 45, b'\\xd0\\x90': 46, b'\\xd0\\x9c': 47, b'\\xd0\\x9e': 48, b'a': 49, b'o': 50, b'\\xd0\\x9d': 51, b'r': 52, b'i': 53, b'\\xd0\\x98': 54, b'\\xd0\\x94': 55, b'n': 56, b'\\xc2\\xab': 57, b'\\xc2\\xbb': 58, b's': 59, b'\\xd0\\xa2': 60, b'\\xd0\\x91': 61, b't': 62, b'\\xd0\\x93': 63, b'\\n': 64, b'5': 65, b'3': 66, b')': 67, b'(': 68, b'l': 69, b'9': 70, b'4': 71, b'\\xd0\\xa4': 72, b'6': 73, b'\\xd0\\x9b': 74, b'\\xd0\\xa3': 75, b'7': 76, b'8': 77, b'u': 78, b'c': 79, b'\\xe2\\x80\\x94': 80, b'\\xd0\\xa8': 81, b'\\xd0\\x95': 82, b'd': 83, b'h': 84, b'A': 85, b'\\xd1\\x8a': 86, b'\\xd0\\x97': 87, b'\\xd0\\xad': 88, b'S': 89, b'm': 90, b'T': 91, b'\\xd0\\xa5': 92, b':': 93, b'\\xd0\\xa7': 94, b'P': 95, b'g': 96, b'C': 97, b'B': 98, b'y': 99, b'\\xc2\\xa0': 100, b'M': 101, b'p': 102, b'N': 103, b'R': 104, b'F': 105, b'b': 106, b'k': 107, b'I': 108, b'w': 109, b'D': 110, b'\\xd0\\xaf': 111, b'\\xd0\\xae': 112, b'\\xd0\\xa6': 113, b'G': 114, b'f': 115, b'E': 116, b'L': 117, b'W': 118, b'v': 119, b'\\xd0\\x96': 120, b'H': 121, b'O': 122, b'V': 123, b'J': 124, b'x': 125, b'z': 126, b'K': 127, b'U': 128, b'X': 129, b'Y': 130, b\"'\": 131, b'\\xd0\\x99': 132, b'/': 133, b'\\xe2\\x80\\x93': 134, b'!': 135, b';': 136, b'?': 137, b'Z': 138, b'j': 139, b'&': 140, b'q': 141, b'Q': 142, b'#': 143, b'[': 144, b']': 145, b'+': 146, b'@': 147, b'\\xd1\\x91': 148, b'\\xd0\\xa9': 149, b'\\xe2\\x84\\x96': 150, b'\\xe2\\x80\\x99': 151, b'%': 152, b'*': 153, b'\\xd0\\xab': 154, b'_': 155, b'\\xe2\\x80\\x9c': 156, b'\\xe2\\x80\\xa6': 157, b'\\xe2\\x94\\x80': 158, b'\\xe2\\x80\\x9d': 159, b'\\xc3\\xa9': 160, b'\\xe2\\x80\\x9e': 161, b'\\xd1\\x96': 162, b'\\xd0\\x81': 163, b'\\t': 164, b'\\xc3\\xbc': 165, b'=': 166, b'\\xc2\\xad': 167, b'\\xe2\\x80\\x8b': 168, b'$': 169, b'\\xd0\\xaa': 170, b'\\xef\\xb8\\x8f': 171, b'\\xc3\\xa8': 172, b'\\xd0\\x86': 173, b'`': 174, b'\\xe2\\x80\\xb3': 175, b'\\xd1\\x97': 176, b'>': 177, b'\\xcc\\x86': 178, b'\\xc3\\xb6': 179, b'\\xd0\\xac': 180, b'\\xe2\\x80\\x95': 181, b'\\xe2\\x80\\x91': 182, b'\\xc2\\xb0': 183, b'\\xc3\\xa7': 184, b'\\xe2\\x80\\x89': 185, b'\\xc3\\xa1': 186, b'\\xe2\\x9d\\xa4': 187, b'\\xc3\\xb3': 188, b'\\xc3\\xa4': 189, b'|': 190, b'\\xc3\\xad': 191, b'\\xf0\\x9f\\x98\\x82': 192, b'\\xe2\\x80\\x8f': 193, b'\\xe2\\x80\\xa2': 194, b'\\xc4\\xb1': 195, b'\\\\': 196, b'\\x7f': 197, b'\\xe2\\x9e\\x96': 198, b'\\xe2\\x9c\\xa8': 199, b'\\xf0\\x9f\\x8f\\xbc': 200, b'\\xc3\\x97': 201, b'\\xf0\\x9f\\x8f\\xbb': 202, b'\\xe2\\xa0\\x80': 203, b'\\xf0\\x9f\\x98\\x8d': 204, b'\\xc3\\xb1': 205, b'\\xc3\\xa0': 206, b'\\xe2\\x9a\\xbd': 207, b'\\xc3\\xab': 208, b'\\xe2\\x88\\x92': 209, b'\\xe2\\x80\\x83': 210, b'\\xc5\\x9f': 211, b'\\xe2\\x80\\x8e': 212, b'^': 213, b'\\xf0\\x9f\\x92\\x95': 214, b'\\xec\\x9d\\xb4': 215, b'\\xf0\\x9f\\x99\\x8f': 216, b'\\xc2\\xb1': 217, b'\\xd1\\x94': 218, b'\\xec\\x8a\\xa4': 219, b'\\xe2\\x80\\x98': 220, b'\\xc3\\x89': 221, b'\\xc3\\xb4': 222, b'\\xe2\\x80\\x8a': 223, b'\\xe3\\x83\\xbc': 224, b'\\xe2\\x80\\xac': 225, b'\\xc3\\xb8': 226, b'\\xf0\\x9f\\x92\\x99': 227, b'\\xe2\\x80\\xa8': 228, b'\\xce\\xb1': 229, b'\\xe3\\x81\\xae': 230, b'\\xc2\\xae': 231, b'\\xef\\xbb\\xbf': 232, b'\\xf0\\x9f\\x91\\x8d': 233, b'\\xe3\\x81\\x9f': 234, b'\\xc3\\x96': 235, b'\\xf0\\x9f\\x92\\xaa': 236, b'\\xc2\\xb7': 237, b'\\xf0\\x9f\\x98\\x98': 238, b'\\xe3\\x81\\xa6': 239, b'\\xe3\\x82\\x93': 240, b'\\xeb\\xa6\\xac': 241, b'\\xe3\\x81\\x84': 242, b'\\xc4\\x9f': 243, b'\\xcc\\x81': 244, b'\\xc3\\xaf': 245, b'\\xce\\xb2': 246, b'\\xc5\\xa1': 247, b'\\xc3\\xa3': 248, b'\\xf0\\x9f\\x8f\\xbd': 249, b'\\xe2\\x80\\x8d': 250, b'\\xf0\\x9f\\x87\\xba': 251, b'\\xc4\\x8c': 252, b'\\xc3\\xae': 253, b'\\xf0\\x9f\\x93\\xb8': 254, b'\\xe2\\x80\\xaa': 255, b'\\xe3\\x82\\xb9': 256, b'\\xc3\\xa5': 257, b'\\xe3\\x81\\xbe': 258, b'\\xf0\\x9f\\x8f\\xbf': 259, b'<': 260, b'\\xe2\\x80\\x90': 261, b'\\xe3\\x81\\xab': 262, b'\\xc3\\xaa': 263, b'\\xe3\\x81\\xa3': 264, b'\\xf0\\x9f\\x99\\x8c': 265, b'\\xe3\\x81\\xa7': 266, b'\\xf0\\x9f\\x92\\xa5': 267, b'\\xf0\\x9f\\x87\\xb8': 268, b'\\xc4\\x81': 269, b'\\xf0\\x9f\\x8c\\xb8': 270, b'\\xf0\\x9f\\x8c\\xb4': 271, b'\\xf0\\x9f\\x91\\x8f': 272, b'\\xc3\\xa6': 273, b'\\xc3\\xa2': 274, b'\\xf0\\x9f\\x99\\x88': 275, b'\\xc3\\xba': 276, b'\\xc4\\x87': 277, b'\\xe3\\x83\\xbb': 278, b'\\xe3\\x81\\x97': 279, b'\\xc5\\xa0': 280, b'\\xd8\\xa7': 281, b'\\xe3\\x80\\x82': 282, b'\\xe3\\x81\\xaa': 283, b'\\xf0\\x9f\\x98\\x89': 284, b'\\xca\\xbc': 285, b'\\xe3\\x82\\xaf': 286, b'\\xf0\\x9f\\x94\\xa5': 287, b'\\xc4\\xab': 288, b'\\xc4\\x8d': 289, b'\\xf0\\x9f\\x87\\xb7': 290, b'\\xec\\xb9\\xb4': 291, b'\\xc5\\x82': 292, b'\\xc3\\x9c': 293, b'\\xf0\\x9f\\x91\\x8a': 294, b'\\xe3\\x82\\x82': 295, b'\\xed\\x8e\\x98': 296, b'\\xf0\\x9f\\x98\\xad': 297, b'\\xf0\\x9f\\x91\\x91': 298, b'\\xe3\\x82\\x8a': 299, b'\\xe3\\x82\\xa4': 300, b'\\xe3\\x81\\xa8': 301, b'\\xeb\\x9d\\xbc': 302, b'\\xce\\x9b': 303, b'\\xed\\x8a\\xb8': 304, b'\\xe3\\x81\\x8c': 305, b'\\xce\\xbf': 306, b'\\xe2\\x80\\xaf': 307, b'\\xe2\\x84\\xa2': 308, b'\\xf0\\x9f\\x93\\xb7': 309, b'\\xf0\\x9f\\x8c\\x88': 310, b'\\xf0\\x9f\\x92\\x9c': 311, b'\\xf0\\x9f\\x92\\x9e': 312, b'\\xeb\\x8b\\xa4': 313, b'\\xea\\xb7\\xb8': 314, b'~': 315, b'\\xe3\\x81\\xaf': 316, b'\\xf0\\x9f\\x92\\x8b': 317, b'\\xc3\\x98': 318, b'\\xc5\\x9e': 319, b'\\xe3\\x81\\x8b': 320, b'\\xc5\\xaa': 321, b'\\xe2\\x80\\xb2': 322, b'}': 323, b'\\xe3\\x81\\x93': 324, b'\\xe3\\x81\\x99': 325, b'\\xe2\\x9c\\x8c': 326, b'\\xe2\\x98\\x80': 327, b'\\xf0\\x9f\\x98\\x8e': 328, b'\\xc3\\xbd': 329, b'\\xe3\\x83\\xb3': 330, b'\\xc4\\xb0': 331, b'{': 332, b'\\xc4\\x93': 333, b'\\xec\\x9b\\x90': 334, b'\\xe3\\x82\\x8b': 335, b'\\xe3\\x80\\x81': 336, b'\\xf0\\x9f\\x96\\xa4': 337, b'\\xe3\\x83\\xa9': 338, b'\\xe3\\x83\\xaa': 339, b'\\xf0\\x9f\\x91\\x99': 340, b'\\xe3\\x81\\x95': 341, b'\\xe3\\x82\\x89': 342, b'\\xe3\\x81\\x8f': 343, b'\\xed\\x83\\x80': 344, b'\\xeb\\xa3\\xa8': 345, b'\\xf0\\x9f\\x8e\\x89': 346, b'\\xea\\xb8\\xb8': 347, b'\\xc3\\xb0': 348, b'\\xf0\\x9f\\x92\\x8e': 349, b'\\xe3\\x83\\x83': 350, b'\\xd0\\x84': 351, b'\\xf0\\x9f\\x92\\x9b': 352, b'\\xf0\\x9f\\x98\\x9c': 353, b'\\xe3\\x81\\xad': 354, b'\\xec\\x82\\xac': 355, b'\\xeb\\x8b\\xa8': 356, b'\\xed\\x83\\x9c': 357, b'\\xf0\\x9f\\x92\\x97': 358, b'\\xe3\\x82\\x8c': 359, b'\\xd2\\x9b': 360, b'\\xcf\\x83': 361, b'\\xf0\\x9f\\x93\\x8d': 362, b'\\xf0\\x9f\\x8d\\x91': 363, b'\\xf0\\x9f\\xa6\\x84': 364, b'\\xd3\\x99': 365, b'\\xf0\\x9f\\x9a\\x80': 366, b'\\xe2\\x99\\x80': 367, b'\\xf0\\x9f\\x91\\x8c': 368, b'\\xe7\\x8c\\xab': 369, b'\\xd9\\x88': 370, b'\\xf0\\x9f\\x92\\x83': 371, b'\\xec\\x97\\x90': 372, b'\\xec\\x95\\x84': 373, b'\\xe0\\xb8\\xb2': 374, b'\\xe0\\xb8\\x99': 375, b'\\xe0\\xb9\\x80': 376, b'\\xeb\\x9e\\xa8': 377, b'\\xea\\xb2\\xbd': 378, b'\\xf0\\x9f\\x8c\\xb9': 379, b'\\xc3\\x87': 380, b'\\xc4\\x9b': 381, b'\\xce\\xb9': 382, b'\\xf0\\x9f\\xa4\\x94': 383, b'\\xf0\\x9f\\x92\\x9a': 384, b'\\xe3\\x81\\x8a': 385, b'\\xe3\\x81\\xbf': 386, b'\\xe3\\x83\\x88': 387, b'\\xe3\\x83\\x9e': 388, b'\\xe3\\x83\\x89': 389, b'\\xe3\\x81\\xa0': 390, b'\\xf0\\x9f\\x98\\xb1': 391, b'\\xc3\\x9f': 392, b'\\xf0\\x9f\\x8d\\xab': 393, b'\\xe3\\x81\\x82': 394, b'\\xd9\\x84': 395, b'\\xeb\\x82\\x98': 396, b'\\xe5\\xad\\x90': 397, b'\\xf0\\x9f\\x98\\xa2': 398, b'\\xce\\xbd': 399, b'\\xcf\\x85': 400, b'\\xf0\\x9f\\x98\\x8a': 401, b'\\xf0\\x9f\\x8e\\xb6': 402, b'\\xe3\\x82\\x83': 403, b'\\xf0\\x9f\\x8c\\xba': 404, b'\\xd0\\x88': 405, b'\\xe3\\x83\\xa1': 406, b'\\xf0\\x9f\\x8e\\xbc': 407, b'\\xed\\x94\\x84': 408, b'\\xeb\\xa0\\x88': 409, b'\\xeb\\x8b\\x88': 410, b'\\xec\\x96\\xb4': 411, b'\\xec\\x9d\\xb8': 412, b'\\xf0\\x9f\\x98\\xb3': 413, b'\\xe0\\xb8\\xad': 414, b'\\xc5\\x99': 415, b'\\xe2\\x9a\\xaa': 416, b'\\xf0\\x9f\\x8e\\xa5': 417, b'\\xd2\\x9a': 418, b'\\xcf\\x82': 419, b'\\xcf\\x84': 420, b'\\xcf\\x80': 421, b'\\xce\\xbb': 422, b'\\xf0\\x9f\\x91\\xb8': 423, b'\\xe3\\x81\\xa1': 424, b'\\xe3\\x83\\xab': 425, b'\\xf0\\x9f\\x98\\x88': 426, b'\\xf0\\x9f\\x92\\xab': 427, b'\\xc4\\x83': 428, b'\\xc3\\xac': 429, b'\\xf0\\x9f\\xa4\\xa3': 430, b'\\xc5\\xbc': 431, b'\\xf0\\x9f\\x9a\\xa8': 432, b'\\xc5\\xbe': 433, b'\\xec\\x9a\\x94': 434, b'\\xeb\\x8a\\x94': 435, b'\\xec\\x9d\\x84': 436, b'\\xe3\\x82\\x92': 437, b'\\xe3\\x81\\x86': 438, b'\\xed\\x8f\\x89': 439, b'\\xe3\\x83\\xa3': 440, b'\\xc4\\x99': 441, b'\\xf0\\x9f\\x8f\\xbe': 442, b'\\xcf\\x81': 443, b'\\xce\\x9d': 444, b'\\xce\\xba': 445, b'\\xe2\\x88\\x9e': 446, b'\\xf0\\x9f\\x98\\x84': 447, b'\\xe3\\x82\\xaa': 448, b'\\xe3\\x82\\xb7': 449, b'\\xf0\\x9f\\x91\\xbc': 450, b'\\xe2\\x88\\x99': 451, b'\\xe2\\x82\\xac': 452, b'\\xf0\\x9f\\xa4\\xb7': 453, b'\\xe6\\x97\\xa5': 454, b'\\xe5\\xb3\\xb6': 455, b'\\xd9\\x8a': 456, b'\\xd8\\xa8': 457, b'\\xc3\\x81': 458, b'\\xc2\\xa3': 459, b'\\xeb\\xac\\xb4': 460, b'\\xeb\\xb8\\x8c': 461, b'\\xeb\\xb0\\x94': 462, b'\\xed\\x81\\xac': 463, b'\\xeb\\xa1\\x9c': 464, b'\\xf0\\x9f\\x91\\x80': 465, b'\\xe0\\xb8\\xa1': 466, b'\\xe0\\xb8\\x81': 467, b'\\xec\\x94\\xa8': 468, b'\\xeb\\xa7\\x9b': 469, b'\\xec\\xa7\\x91': 470, b'\\xeb\\x85\\xb9': 471, b'\\xf0\\x9f\\x8c\\x8a': 472, b'\\xce\\xb4': 473, b'\\xce\\xb5': 474, b'\\xe2\\x82\\xbd': 475, b'\\xe2\\x86\\x93': 476, b'\\xc2\\xa9': 477, b'\\xe2\\xad\\x90': 478, b'\\xf0\\x9f\\xa6\\x8b': 479, b'\\xe2\\x98\\x9d': 480, b'\\xe3\\x83\\x8a': 481, b'\\xe3\\x82\\xab': 482, b'\\xeb\\x8f\\x84': 483, b'\\xc2\\xbd': 484, b'\\xf0\\x9f\\x92\\x96': 485, b'\\xe3\\x82\\xa2': 486, b'\\xf0\\x9f\\xa4\\xa6': 487, b'\\xf0\\x9f\\x98\\x81': 488, b'\\xf0\\x9f\\x99\\x84': 489, b'\\xe2\\x9a\\xa1': 490, b'\\xe2\\x9d\\x84': 491, b'\\xe2\\x99\\x82': 492, b'\\xd7\\x99': 493, b'\\xe2\\x9a\\xab': 494, b'\\xc2\\x98': 495, b'\\xe4\\xb8\\x8a': 496, b'\\xd9\\x82': 497, b'\\xd9\\x85': 498, b'\\xe2\\x99\\xa5': 499, b'\\xf0\\x9f\\x8c\\x9f': 500, b'\\xf0\\x9f\\x92\\x81': 501, b'\\xf0\\x9f\\x92\\x84': 502, b'\\xf0\\x9f\\x8e\\x80': 503, b'\\xf0\\x9f\\x98\\x8b': 504, b'\\xed\\x95\\x98': 505, b'\\xec\\x8b\\x9c': 506, b'\\xed\\x95\\x9c': 507, b'\\xec\\xa0\\x84': 508, b'\\xed\\x95\\xb4': 509, b'\\xea\\xb8\\xb0': 510, b'\\xec\\x9d\\x98': 511, b'\\xeb\\xa7\\x88': 512, b'\\xf0\\x9f\\x8d\\xb7': 513, b'\\xe3\\x83\\xa0': 514, b'\\xed\\x82\\xa4': 515, b'\\xf0\\x9f\\x92\\x93': 516, b'\\xe7\\x90\\x86': 517, b'\\xe0\\xb8\\xb1': 518, b'\\xe0\\xb9\\x88': 519, b'\\xce\\xb6': 520, b'\\xe3\\x81\\xa9': 521, b'\\xe3\\x81\\x88': 522, b'\\xc5\\x9b': 523, b'\\xf0\\x9f\\x8e\\xa4': 524, b'\\xc5\\x8d': 525, b'\\xf0\\x9f\\xa4\\x97': 526, b'\\xc2\\xb5': 527, b'\\xf0\\x9f\\x92\\xaf': 528, b'\\xe2\\x98\\xba': 529, b'\\xd2\\xa3': 530, b'\\xf0\\x9f\\x87\\xa6': 531, b'\\xf0\\x9f\\x87\\xa8': 532, b'\\xf0\\x9f\\xa4\\x98': 533, b'\\xe3\\x83\\x97': 534, b'\\xe3\\x83\\x90': 535, b'\\xf0\\x9f\\x8c\\x9e': 536, b'\\xe3\\x81\\x8d': 537, b'\\xe2\\x98\\x95': 538, b'\\xe3\\x83\\xac': 539, b'\\xc2\\xa1': 540, b'\\xe2\\x9d\\xa3': 541, b'\\xf0\\x9f\\x94\\xaa': 542, b'\\xf0\\x9f\\x87\\xae': 543, b'\\xc5\\x84': 544, b'\\xe3\\x83\\x8b': 545, b'\\xe3\\x82\\x8f': 546, b'\\xea\\xb3\\xa0': 547, b'\\xd8\\xa9': 548, b'\\xd9\\x83': 549, b'\\xf0\\x9f\\x92\\x80': 550, b'\\xf0\\x9f\\x8c\\x8e': 551, b'\\xec\\x98\\xac': 552, b'\\xeb\\xa9\\x94': 553, b'\\xec\\x9a\\xb4': 554, b'\\xec\\x97\\x85': 555, b'\\xeb\\xb3\\xb4': 556, b'\\xec\\x84\\x9c': 557, b'\\xeb\\xa5\\xbc': 558, b'\\xec\\x9d\\xbc': 559, b'\\xeb\\x8c\\x80': 560, b'\\xec\\x9e\\x91': 561, b'\\xc2\\x97': 562, b'\\xf0\\x9f\\x92\\x85': 563, b'\\xf0\\x9f\\x8c\\xb7': 564, b'\\xe3\\x82\\x88': 565, b'\\xe3\\x82\\xb8': 566, b'\\xe2\\x86\\x92': 567, b'\\xec\\xbb\\xa4': 568, b'\\xf0\\x9f\\x98\\x85': 569, b'\\xf0\\x9f\\x92\\x98': 570, b'\\xf0\\x9f\\x98\\xbb': 571, b'\\xf0\\x9f\\x8c\\xbb': 572, b'\\xf0\\x9f\\x8c\\x8c': 573, b'\\xe0\\xb8\\x95': 574, b'\\xe0\\xb9\\x89': 575, b'\\xe0\\xb8\\xa2': 576, b'\\xe0\\xb8\\x87': 577, b'\\xe0\\xb9\\x84': 578, b'\\xe0\\xb8\\xa3': 579, b'\\xd3\\xa7': 580, b'\\xc9\\x9b': 581, b'\\xe5\\xb9\\xb3': 582, b'\\xe6\\xb2\\x99': 583, b'\\xe6\\xb0\\x97': 584, b'\\xe3\\x81\\x91': 585, b'\\xf0\\x9f\\x8f\\x83': 586, b'\\xf0\\x9f\\x92\\xa6': 587, b'\\xf0\\x9f\\x90\\xb6': 588, b'\\xf0\\x9f\\x94\\xb4': 589, b'\\xcf\\x89': 590, b'\\xcf\\x8c': 591, b'\\xf0\\x9f\\x8d\\x92': 592, b'\\xc3\\xb5': 593, b'\\xc3\\x95': 594, b'\\xd1\\x98': 595, b'\\xce\\x97': 596, b'\\xe3\\x81\\x9d': 597, b'\\xe3\\x82\\xac': 598, b'\\xeb\\x96\\xbc': 599, b'\\xf0\\x9f\\xa6\\x85': 600, b'\\xf0\\x9f\\x91\\xbd': 601, b'\\xc3\\x85': 602, b'\\xf0\\x9f\\x98\\x8c': 603, b'\\xf0\\x9f\\x99\\x85': 604, b'\\xf0\\x9f\\x98\\x86': 605, b'\\xd7\\x9c': 606, b'\\xe2\\x80\\xbc': 607, b'\\xe7\\x86\\x8a': 608, b'\\xe3\\x80\\x8c': 609, b'\\xe3\\x80\\x8d': 610, b'\\xe7\\x89\\xa9': 611, b'\\xe9\\x83\\xa8': 612, b'\\xd8\\xb1': 613, b'\\xd8\\xaa': 614, b'\\xd8\\xb9': 615, b'\\xd8\\xa3': 616, b'\\xe2\\x89\\xa1': 617, b'\\xd3\\xa3': 618, b'\\xf0\\x9f\\x96\\x95': 619, b'\\xeb\\xaf\\xb8': 620, b'\\xec\\x88\\xa0': 621, b'\\xec\\x98\\x81': 622, b'\\xec\\x9c\\xbc': 623, b'\\xeb\\x84\\x88': 624, b'\\xeb\\xa6\\xbc': 625, b'\\xea\\xb0\\x80': 626, b'\\xec\\x9d\\x80': 627, b'\\xf0\\x9f\\x99\\x83': 628, b'\\xc5\\xab': 629, b'\\xe5\\xa4\\x96': 630, b'\\xe3\\x82\\xb5': 631, b'\\xe3\\x82\\xa8': 632, b'\\xe3\\x83\\x9a': 633, b'\\xe3\\x81\\x96': 634, b'\\xe2\\x9d\\x97': 635, b'\\xe5\\x85\\xa5': 636, b'\\xe6\\x80\\x9d': 637, b'\\xe3\\x81\\x9b': 638, b'\\xf0\\x9f\\x9a\\xa9': 639, b'\\xe2\\x9c\\x88': 640, b'\\xce\\xa6': 641, b'\\xf0\\x9f\\xa4\\x99': 642, b'\\xe2\\x99\\xa1': 643, b'\\xf0\\x9f\\x87\\xad': 644, b'\\xe0\\xb8\\x9e': 645, b'\\xe0\\xb8\\xb4': 646, b'\\xe0\\xb8\\xa5': 647, b'\\xe2\\x91\\xa0': 648, b'\\xd2\\xaf': 649, b'\\xce\\xa0': 650, b'\\xce\\xaf': 651, b'\\xc3\\xb2': 652, b'\\xf0\\x9f\\xa4\\xa9': 653, b'\\xe2\\x9e\\xa1': 654, b'\\xf0\\x9f\\x91\\xa9': 655, b'\\xe3\\x83\\x84': 656, b'\\xe2\\x98\\xa0': 657, b'\\xce\\x91': 658, b'\\xce\\xa3': 659, b'\\xe3\\x82\\x81': 660, b'\\xf0\\x9f\\x90\\xbc': 661, b'\\xe3\\x83\\x91': 662, b'\\xe3\\x82\\x84': 663, b'\\xe3\\x83\\x95': 664, b'\\xf0\\x9f\\x8d\\xa9': 665, b'\\xf0\\x9f\\x98\\xbd': 666, b'\\xf0\\x9f\\x90\\xac': 667, b'\\xf0\\x9f\\x91\\x89': 668, b'\\xe8\\xa8\\xb1': 669, b'\\xc2\\xb8': 670, b'\\xf0\\x9f\\xa6\\x88': 671, b'\\xc5\\xb3': 672, b'\\xf0\\x9f\\x99\\x8a': 673, b'\\xd7\\x95': 674, b'\\xf0\\x9f\\x91\\xb6': 675, b'\\xe6\\x9c\\xac': 676, b'\\xe6\\x96\\xb0': 677, b'\\xe8\\x81\\x9e': 678, b'\\xe5\\xa4\\xa9': 679, b'\\xe8\\x89\\xaf': 680, b'\\xf0\\x9f\\x98\\x8f': 681, b'\\xf0\\x9f\\x8e\\x83': 682, b'\\xd9\\x86': 683, b'\\xd8\\xad': 684, b'\\xe2\\x81\\x89': 685, b'\\xcf\\x8b': 686, b'\\xf0\\x9f\\x8e\\x84': 687, b'\\xf3\\xbe\\x94\\x92': 688, b'\\xec\\x8a\\x88': 689, b'\\xec\\xa0\\x9c': 690, b'\\xeb\\xb9\\x84': 691, b'\\xed\\x94\\xbd': 692, b'\\xec\\x98\\xa4': 693, b'\\xec\\x9e\\x88': 694, b'\\xec\\x9a\\xb8': 695, b'\\xed\\x8f\\xac': 696, b'\\xea\\xb3\\xbc': 697, b'\\xed\\x84\\xb0': 698, b'\\xed\\x92\\x88': 699, b'\\xec\\xa3\\xbc': 700, b'\\xe6\\xa7\\x98': 701, b'\\xe3\\x81\\x94': 702, b'\\xf0\\x9f\\x92\\x90': 703, b'\\xf0\\x9f\\x87\\xb0': 704, b'\\xeb\\xb8\\x94': 705, b'\\xec\\xa0\\x80': 706, b'\\xeb\\xb6\\x80': 707, b'\\xec\\xbb\\xac': 708, b'\\xeb\\x9f\\xac': 709, b'\\xef\\xbc\\x81': 710, b'\\xf0\\x9f\\x90\\x85': 711, b'\\xf0\\x9f\\x92\\xa3': 712, b'\\xe3\\x82\\xad': 713, b'\\xe0\\xb8\\xa0': 714, b'\\xe0\\xb8\\xab': 715, b'\\xe0\\xb8\\x9a': 716, b'\\xe0\\xb8\\xa7': 717, b'\\xe0\\xb8\\xb7': 718, b'\\xe0\\xb8\\x84': 719, b'\\xf0\\x9f\\x94\\xb9': 720, b'\\xe2\\x98\\x8e': 721, b'\\xed\\x94\\xbc': 722, b'\\xec\\x86\\x8c': 723, b'\\xeb\\xa8\\xb9': 724, b'\\xe2\\x80\\xad': 725, b'\\xe3\\x81\\xb0': 726, b'\\xe3\\x83\\x81': 727, b'\\xe3\\x81\\x90': 728, b'\\xe2\\x96\\xba': 729, b'\\xf0\\x9f\\x8f\\x8a': 730, b'\\xf0\\x9f\\x98\\xa9': 731, b'\\xe1\\xba\\xa7': 732, b'\\xc4\\x90': 733, b'\\xe2\\x98\\x98': 734, b'\\xf0\\x9f\\x8d\\xb4': 735, b'\\xce\\x95': 736, b'\\xce\\xbc': 737, b'\\xf0\\x9f\\x94\\x9d': 738, b'\\xc3\\xb9': 739, b'\\xc5\\x9a': 740, b'\\xf0\\x9f\\x87\\xaa': 741, b'\\xe2\\x9a\\x94': 742, b'\\xe8\\xa1\\x8c': 743, b'\\xe4\\xb9\\x97': 744, b'\\xe3\\x82\\xba': 745, b'\\xf0\\x9f\\x8d\\x8d': 746, b'\\xe3\\x82\\xa7': 747, b'\\xe3\\x83\\x86': 748, b'\\xe5\\xa4\\xa7': 749, b'\\xf0\\x9f\\x8d\\x89': 750, b'\\xe6\\x99\\xae': 751, b'\\xf0\\x9f\\x91\\x9f': 752, b'\\xf0\\x9f\\x91\\xa0': 753, b'\\xe8\\xb7\\xaf': 754, b'\\xe5\\x85\\x92': 755, b'\\xf0\\x9f\\x87\\xb9': 756, b'\\xf0\\x9f\\x98\\x83': 757, b'\\xce\\x94': 758, b'\\xf0\\x9f\\x87\\xbf': 759, b'\\xf0\\x9f\\x91\\x87': 760, b'\\xe2\\x9c\\xb4': 761, b'\\xc5\\xbb': 762, b'\\xf0\\x9f\\x98\\xac': 763, b'\\xf0\\x9f\\x91\\xa8': 764, b'\\xe8\\x8d\\x89': 765, b'\\xe3\\x82\\x80': 766, b'\\xe3\\x81\\xb5': 767, b'\\xec\\x96\\x91': 768, b'\\xe5\\x86\\x99': 769, b'\\xe7\\x9c\\x9f': 770, b'\\xd8\\xb7': 771, b'\\xd8\\xb3': 772, b'\\xc3\\xbe': 773, b'\\xe2\\x93\\x89': 774, b'\\xd3\\xa8': 775, b'\\xf0\\x9f\\x8d\\xb3': 776, b'\\xf0\\x9f\\x98\\x9b': 777, b'\\xf0\\x9f\\x90\\xbb': 778, b'\\xc3\\xb7': 779, b'\\xd0\\x87': 780, b'\\xeb\\x94\\x94': 781, b'\\xec\\x95\\xbc': 782, b'\\xea\\xb1\\xb0': 783, b'\\xec\\x9b\\x8c': 784, b'\\xec\\xa2\\x85': 785, b'\\xeb\\xaa\\xa8': 786, b'\\xeb\\xa9\\xb4': 787, b'\\xeb\\xa0\\xa4': 788, b'\\xeb\\xb6\\x84': 789, b'\\xec\\x9e\\xa5': 790, b'\\xec\\xb8\\xa0': 791, b'\\xed\\x8b\\xb0': 792, b'\\xec\\xa1\\xb0': 793, b'\\xec\\x84\\xa0': 794, b'\\xec\\x8a\\xb5': 795, b'\\xec\\x95\\x98': 796, b'\\xeb\\x8d\\xb0': 797, b'\\xeb\\x85\\x84': 798, b'\\xec\\x9a\\xb0': 799, b'\\xeb\\x93\\xa4': 800, b'\\xec\\x83\\x81': 801, b'\\xec\\x88\\x98': 802, b'\\xec\\x84\\xb8': 803, b'\\xd7\\xaa': 804, b'\\xf0\\x9f\\x9a\\x92': 805, b'\\xf0\\x9f\\x99\\x86': 806, b'\\xf0\\x9f\\x91\\x9e': 807, b'\\xe7\\x8a\\xac': 808, b'\\xe5\\x89\\x8a': 809, b'\\xe9\\x99\\xa4': 810, b'\\xe7\\x95\\xaa': 811, b'\\xe3\\x83\\xad': 812, b'\\xf0\\x9f\\x9a\\xac': 813, b'\\xc2\\xbf': 814, b'\\xe8\\x90\\xbd': 815, b'\\xf0\\x9f\\x8c\\xbf': 816, b'\\xed\\x99\\x9c': 817, b'\\xec\\xa0\\x88': 818, b'\\xeb\\xa7\\xa4': 819, b'\\xeb\\xa0\\x89': 820, b'\\xec\\x85\\x98': 821, b'\\xeb\\xb2\\x88': 822, b'\\xed\\x99\\x8d': 823, b'\\xf0\\x9f\\x91\\x8e': 824, b'\\xc3\\x8e': 825, b'\\xe3\\x81\\xbc': 826, b'\\xe3\\x81\\xbd': 827, b'\\xd2\\x91': 828, b'\\xf0\\x9f\\x91\\xa3': 829, b'\\xf0\\x9f\\x8e\\x82': 830, b'\\xe8\\xa6\\x8b': 831, b'\\xc3\\x8d': 832, b'\\xd1\\xa7': 833, b'\\xf0\\x9f\\x87\\xb1': 834, b'\\xc9\\xa2': 835, b'\\xe0\\xb8\\xb8': 836, b'\\xe0\\xb8\\x88': 837, b'\\xe0\\xb8\\x9b': 838, b'\\xe0\\xb8\\x82': 839, b'\\xe0\\xb8\\xb5': 840, b'\\xf0\\x9f\\x8e\\x81': 841, b'\\xc3\\x94': 842, b'\\xe3\\x82\\xb3': 843, b'\\xf0\\x9f\\x8f\\xa1': 844, b'\\xeb\\xa7\\x8e': 845, b'\\xf0\\x9f\\x8f\\x8b': 846, b'\\xf0\\x9f\\x8d\\xbc': 847, b'\\xe3\\x83\\x9c': 848, b'\\xef\\xbc\\x9f': 849, b'\\xf0\\x9f\\x95\\x8a': 850, b'\\xf0\\x9f\\x8f\\x82': 851, b'\\xf0\\x9f\\x8f\\x84': 852, b'\\xce\\xb8': 853, b'\\xce\\xb3': 854, b'\\xcf\\x8d': 855, b'\\xcf\\x87': 856, b'\\xcf\\x8e': 857, b'\\xce\\xad': 858, b'\\xce\\xa1': 859, b'\\xf0\\x9f\\x8d\\x93': 860, b'\\xc3\\x93': 861, b'\\xf0\\x9f\\x8c\\xb3': 862, b'\\xf0\\x9f\\x9a\\xbf': 863, b'\\xf0\\x9f\\xa4\\xab': 864, b'\\xf0\\x9f\\x90\\xa0': 865, b'\\xc2\\xaf': 866, b'\\xe1\\xb5\\x92': 867, b'\\xe2\\x88\\xa9': 868, b'\\xce\\x99': 869, b'\\xce\\x9a': 870, b'\\xe7\\x8e\\x89': 871, b'\\xe5\\x85\\x94': 872, b'\\xe2\\x83\\xa3': 873, b'\\xc8\\x9b': 874, b'\\xce\\x93': 875, b'\\xce\\x88': 876, b'\\xe6\\xb5\\x81': 877, b'\\xf0\\x9f\\x8d\\x94': 878, b'\\xf0\\x9f\\x90\\xb0': 879, b'\\xe7\\xac\\x91': 880, b'\\xe8\\xb1\\x86': 881, b'\\xc3\\x88': 882, b'\\xf0\\x9f\\x8c\\xb5': 883, b'\\xf0\\x9f\\x95\\xb6': 884, b'\\xe4\\xba\\xac': 885, b'\\xf0\\x9f\\xa5\\x87': 886, b'\\xe2\\x98\\x94': 887, b'\\xc4\\x97': 888, b'\\xd3\\x98': 889, b'\\xf0\\x9f\\x92\\x8d': 890, b'\\xc2\\xbc': 891, b'\\xf0\\x9f\\x98\\x80': 892, b'\\xc4\\x85': 893, b'\\xf0\\x9f\\x97\\xa3': 894, b'\\xc5\\x81': 895, b'\\xc5\\xba': 896, b'\\xcd\\xbe': 897, b'\\xd7\\xa6': 898, b'\\xd7\\xa9': 899, b'\\xd7\\x9d': 900, b'\\xd7\\xa7': 901, b'\\xd7\\xa5': 902, b'\\xcc\\x88': 903, b'\\xf0\\x9f\\x92\\x94': 904, b'\\xf0\\x9f\\x98\\x90': 905, b'\\xe3\\x82\\xbb': 906, b'\\xe3\\x83\\xaf': 907, b'\\xf0\\x9f\\x91\\xaf': 908, b'\\xe6\\xb9\\xaf': 909, b'\\xe2\\x98\\x85': 910, b'\\xe5\\x8d\\x9a': 911, b'\\xe9\\xa4\\xa8': 912, b'\\xe7\\xa4\\xbe': 913, b'\\xf0\\x9f\\x9a\\xba': 914, b'\\xf0\\x9f\\x92\\x9f': 915, b'\\xce\\x9f': 916, b'\\xf0\\x9f\\x91\\x86': 917, b'\\xf0\\x9f\\x91\\xbb': 918, b'\\xf0\\x9f\\x8d\\x8f': 919, b'\\xd8\\xaf': 920, b'\\xd9\\x81': 921, b'\\xd8\\xac': 922, b'\\xd1\\x9a': 923, b'\\xe2\\x92\\xba': 924, b'\\xf0\\x9f\\x98\\xb9': 925, b'\\xc4\\xa2': 926, b'\\xf0\\x9f\\x8f\\x81': 927, b'\\xd8\\xb4': 928, b'\\xf0\\x9f\\x91\\x88': 929, b'\\xc5\\x86': 930, b'\\xc5\\xaf': 931, b'\\xf0\\x9f\\x91\\x85': 932, b'\\xf0\\x9f\\x8e\\xb5': 933, b'\\xf0\\x9f\\x92\\xbf': 934, b'\\xf0\\x9f\\x8d\\xbe': 935, b'\\xf0\\x9f\\x93\\x80': 936, b'\\xf0\\x9f\\x8c\\x99': 937, b'\\xf0\\x9f\\x8c\\x8d': 938, b'\\xe0\\xa4\\xb0': 939, b'\\xf0\\x9f\\x98\\xb8': 940, b'\\xe5\\xbe\\x81': 941, b'\\xf0\\x9f\\x8e\\xa8': 942, b'\\xeb\\xb2\\x85': 943, b'\\xed\\x95\\xa0': 944, b'\\xed\\x83\\x90': 945, b'\\xeb\\x84\\xa4': 946, b'\\xeb\\xb9\\x88': 947, b'\\xeb\\xa7\\xa5': 948, b'\\xec\\xa2\\x8b': 949, b'\\xec\\xa7\\x80': 950, b'\\xeb\\x8f\\x99': 951, b'\\xed\\x86\\xb5': 952, b'\\xeb\\x93\\x9c': 953, b'\\xeb\\xb7\\xb0': 954, b'\\xed\\x96\\x88': 955, b'\\xeb\\xa7\\x8c': 956, b'\\xea\\xb3\\xa8': 957, b'\\xec\\x8b\\x9d': 958, b'\\xeb\\xaa\\xa9': 959, b'\\xed\\x83\\x9d': 960, b'\\xeb\\x85\\x90': 961, b'\\xea\\xb5\\xad': 962, b'\\xed\\x91\\x9c': 963, b'\\xec\\xa7\\x84': 964, b'\\xec\\x9d\\x8c': 965, b'\\xec\\x99\\x80': 966, b'\\xeb\\x8b\\xb4': 967, b'\\xec\\x9c\\xa4': 968, b'\\xeb\\x82\\xb4': 969, b'\\xed\\x86\\xa1': 970, b'\\xeb\\x98\\x90': 971, b'\\xeb\\xb0\\xa4': 972, b'\\xeb\\x89\\xb4': 973, b'\\xeb\\xb3\\xb8': 974, b'\\xec\\x8b\\xa4': 975, b'\\xed\\x8c\\x85': 976, b'\\xec\\x9e\\x90': 977, b'\\xea\\xb5\\xac': 978, b'\\xd7\\xa4': 979, b'\\xd7\\xa8': 980, b'\\xf0\\x9f\\x99\\x8b': 981, b'\\xf0\\x9f\\x94\\xa8': 982, b'\\xf0\\x9f\\x99\\x80': 983, b'\\xf0\\x9f\\x98\\xb0': 984, b'\\xf0\\x9f\\x9a\\x91': 985, b'\\xf0\\x9f\\x98\\x9d': 986, b'\\xe9\\x8e\\xa7': 987, b'\\xe7\\x94\\xa8': 988, b'\\xe4\\xbd\\x9c': 989, b'\\xe6\\x9f\\xb4': 990, b'\\xe6\\xb5\\xb7': 991, b'\\xe7\\xb5\\x84': 992, b'\\xe6\\x95\\x99': 993, b'\\xe7\\x9b\\xae': 994, b'\\xc3\\xbb': 995, b'\\xec\\xb0\\xbd': 996, b'\\xeb\\x8b\\xac': 997, b'\\xec\\xa4\\x84': 998, b'\\xeb\\xb3\\xb5': 999, b'\\xf0\\x9f\\xa4\\xa4': 1000, b'\\xe3\\x83\\xa7': 1001, b'\\xe5\\x86\\x85': 1002, b'\\xe7\\xb5\\xb5': 1003, b'\\xe6\\x96\\x87': 1004, b'\\xe5\\xad\\x97': 1005, b'\\xf0\\x9f\\x87\\xa9': 1006, b'\\xe8\\xb2\\xb7': 1007, b'\\xe3\\x83\\x8f': 1008, b'\\xe3\\x82\\xa6': 1009, b'\\xe5\\xbe\\x8c': 1010, b'\\xe3\\x81\\x8e': 1011, b'\\xe6\\x99\\x82': 1012, b'\\xf0\\x9f\\x8d\\x95': 1013, b'\\xf0\\x9f\\x9b\\xa9': 1014, b'\\xe2\\x8f\\xb3': 1015, b'\\xec\\x97\\xac': 1016, b'\\xea\\xb0\\x90': 1017, b'\\xeb\\x9e\\x98': 1018, b'\\xeb\\xaa\\x85': 1019, b'\\xed\\x95\\xa8': 1020, b'\\xec\\x9c\\x84': 1021, b'\\xe2\\x9c\\x94': 1022, b'\\xec\\xa6\\x88': 1023, b'\\xe2\\xac\\x86': 1024, b'\\xf0\\x9f\\x8d\\xa1': 1025, b'\\xf0\\x9f\\x8d\\xa5': 1026, b'\\xf0\\x9f\\x8e\\x8a': 1027, b'\\xc5\\x93': 1028, b'\\xc5\\x8f': 1029, b'\\xf0\\x9f\\x94\\xab': 1030, b'\\xf0\\x9f\\x90\\x87': 1031, b'\\xe9\\x80\\x81': 1032, b'\\xc3\\x80': 1033, b'\\xf0\\x9f\\xa4\\xaa': 1034, b'\\xf0\\x9f\\x8c\\xa0': 1035, b'\\xf0\\x9f\\x90\\xb1': 1036, b'\\xf0\\x9f\\x90\\x8d': 1037, b'\\xf0\\x9f\\x8d\\x81': 1038, b'\\xe2\\x96\\xbc': 1039, b'\\xe2\\x96\\xb4': 1040, b'\\xe3\\x81\\x98': 1041, b'\\xe4\\xbc\\x9a': 1042, b'\\xe9\\x95\\xbf': 1043, b'\\xf0\\x9f\\x96\\x96': 1044, b'\\xf0\\x9f\\x8f\\x86': 1045, b'\\xf0\\x9f\\x87\\xb5': 1046, b'\\xc3\\x8a': 1047, b'\\xe0\\xb9\\x87': 1048, b'\\xe0\\xb8\\x97': 1049, b'\\xe0\\xb8\\x94': 1050, b'\\xe0\\xb8\\xb6': 1051, b'\\xf0\\x9f\\x92\\x9d': 1052, b'\\xcf\\x88': 1053, b'\\xc4\\xbc': 1054, b'\\xe3\\x83\\xa8': 1055, b'\\xf0\\x9f\\x98\\x96': 1056, b'\\xe2\\x89\\xa0': 1057, b'\\xf0\\x9f\\x98\\xb4': 1058, b'\\xe2\\x84\\xaf': 1059, b'\\xe3\\x82\\xae': 1060, b'\\xe3\\x83\\x8d': 1061, b'\\xe4\\xba\\x8b': 1062, b'\\xe4\\xb8\\x8b': 1063, b'\\xe3\\x80\\x85': 1064, b'\\xf0\\x9f\\x93\\xb2': 1065, b'\\xec\\xb6\\x94': 1066, b'\\xec\\x96\\xb5': 1067, b'\\xe4\\xbb\\x8a': 1068, b'\\xe7\\x9a\\xae': 1069, b'\\xe8\\xb0\\xa2': 1070, b'\\xe0\\xb8\\x8a': 1071, b'\\xe0\\xb8\\x98': 1072, b'\\xe2\\x98\\x81': 1073, b'\\xc7\\x9d': 1074, b'\\xe2\\x99\\x94': 1075, b'\\xe9\\x9b\\x86': 1076, b'\\xe3\\x80\\x9c': 1077, b'\\xe3\\x83\\xa5': 1078, b'\\xe8\\x82\\x8c': 1079, b'\\xe4\\xbb\\x95': 1080, b'\\xe3\\x82\\xb1': 1081, b'\\xe7\\xb7\\xb4': 1082, b'\\xea\\xb5\\x90': 1083, b'\\xec\\x9c\\xa1': 1084, b'\\xe3\\x85\\x8b': 1085, b'\\xe3\\x82\\xb4': 1086, b'\\xe4\\xba\\xba': 1087, b'\\xf0\\x9f\\x93\\xbf': 1088, b'\\xe6\\xb5\\xae': 1089, b'\\xe9\\x9b\\xbb': 1090, b'\\xe5\\x8c\\x96': 1091, b'\\xe8\\xa3\\xbd': 1092, b'\\xe5\\x93\\x81': 1093, b'\\xe5\\x85\\xa8': 1094, b'\\xe9\\xa2\\xa8': 1095, b'\\xe5\\x91\\x82': 1096, b'\\xf3\\xbe\\x8c\\xa7': 1097, b'\\xf0\\x9f\\x90\\xba': 1098, b'\\xf0\\x9f\\x92\\x8c': 1099, b'\\xe2\\x9c\\x92': 1100, b'\\xf0\\x9f\\x90\\x89': 1101, b'\\xf0\\x9f\\x8c\\x95': 1102, b'\\xe2\\x9c\\x8a': 1103, b'\\xd2\\xb0': 1104, b'\\xe2\\x99\\x9a': 1105, b'\\xe2\\x99\\x9b': 1106, b'\\xe2\\x99\\x9c': 1107, b'\\xe2\\x99\\x9d': 1108, b'\\xe2\\x99\\x9e': 1109, b'\\xf0\\x9f\\x8d\\xb9': 1110, b'\\xe2\\x98\\x91': 1111, b'\\xf0\\x9f\\xa6\\x80': 1112, b'\\xf0\\x9f\\x90\\xb3': 1113, b'\\xe1\\xb6\\x98': 1114, b'\\xe1\\xb4\\xa5': 1115, b'\\xe1\\xb6\\x85': 1116, b'\\xf0\\x9f\\x8c\\xaa': 1117, b'\\xc3\\x8b': 1118, b'\\xf0\\x9f\\x94\\xb5': 1119, b'\\xc6\\x8f': 1120, b'\\xc9\\x99': 1121, b'\\xe6\\xb0\\xb7': 1122, b'\\xf0\\x9f\\x8d\\x9f': 1123, b'\\xef\\xbc\\xad': 1124, b'\\xe2\\x86\\x90': 1125, b'\\xe6\\x9c\\x9d': 1126, b'\\xe8\\xa1\\x97': 1127, b'\\xec\\xbd\\xa9': 1128, b'\\xeb\\x84\\x9b': 1129, b'\\xf0\\x9f\\x8e\\xac': 1130, b'\\xf0\\x9f\\x8f\\xb3': 1131, b'\\xe6\\x9a\\x96': 1132, b'\\xe7\\x94\\xb7': 1133, b'\\xe7\\xbb\\x85': 1134, b'\\xe5\\xa3\\xab': 1135, b'\\xf0\\x9f\\x97\\xbc': 1136, b'\\xe9\\x82\\x84': 1137, b'\\xe6\\x98\\xaf': 1138, b'\\xf0\\x9f\\x91\\x93': 1139, b'\\xe6\\x9c\\x89': 1140, b'\\xe9\\x99\\xbd': 1141, b'\\xe5\\x85\\x89': 1142, b'\\xf0\\x9f\\x9b\\x92': 1143, b'\\xd2\\x97': 1144, b'\\xd1\\x9b': 1145, b'\\xe9\\x9b\\xa8': 1146, b'\\xf0\\x9f\\xa4\\x9e': 1147, b'\\xf0\\x9f\\x90\\x9a': 1148, b'\\xf0\\x9f\\x8c\\xbe': 1149, b'\\xf0\\x9f\\x91\\xb0': 1150, b'\\xc2\\xb4': 1151, b'\\xf0\\x9f\\xa5\\x88': 1152, b'\\xf0\\x9f\\x98\\xa5': 1153, b'\\xe2\\x99\\x88': 1154, b'\\xe2\\x99\\x90': 1155, b'\\xe2\\x99\\x91': 1156, b'\\xe2\\x99\\x8f': 1157, b'\\xe2\\x99\\x93': 1158, b'\\xe2\\x99\\x89': 1159, b'\\xe2\\x99\\x8c': 1160, b'\\xf0\\x9f\\x9b\\x80': 1161, b'\\xf0\\x9f\\x98\\xae': 1162, b'\\xf0\\x9f\\x87\\xb3': 1163, b'\\xf0\\x9f\\x8f\\x94': 1164, b'\\xe2\\xac\\x85': 1165, b'\\xf0\\x9f\\x8d\\xac': 1166, b'\\xf0\\x9f\\x93\\xa3': 1167, b'\\xf0\\x9f\\x93\\xbb': 1168, b'\\xf0\\x9f\\x8e\\x99': 1169, b'\\xf0\\x9f\\x91\\xa7': 1170, b'\\xe5\\xa4\\x95': 1171, b'\\xe5\\x88\\x8a': 1172, b'\\xe9\\x80\\xa3': 1173, b'\\xe8\\xbc\\x89': 1174, b'\\xe3\\x80\\x80': 1175, b'\\xe5\\xb1\\x95': 1176, b'\\xe9\\x96\\x8b': 1177, b'\\xe5\\x82\\xac': 1178, b'\\xe4\\xb8\\xad': 1179, b'\\xe3\\x81\\xa4': 1180, b'\\xe4\\xbb\\xa3': 1181, b'\\xe8\\xbc\\xaa': 1182, b'\\xe9\\x87\\x8e': 1183, b'\\xe3\\x83\\xa2': 1184, b'\\xe2\\x8a\\x95': 1185, b'\\xce\\x98': 1186, b'\\xf0\\x9f\\x8d\\x85': 1187, b'\\xf0\\x9f\\x98\\xa0': 1188, b'\\xd8\\xa6': 1189, b'\\xd8\\xa1': 1190, b'\\xd8\\xb2': 1191, b'\\xe1\\xbc\\x85': 1192, b'\\xf0\\x9f\\x8c\\x9d': 1193, b'\\xe2\\x80\\x9a': 1194, b'\\xe1\\xbb\\xa9': 1195, b'\\xd0\\x89': 1196, b'\\xe2\\x92\\xb7': 1197, b'\\xe2\\x93\\x87': 1198, b'\\xe2\\x92\\xbb': 1199, b'\\xe2\\x93\\x84': 1200, b'\\xe2\\x93\\x83': 1201, b'\\xe2\\x93\\x88': 1202, b'\\xe2\\x99\\xa0': 1203, b'\\xd8\\xa4': 1204, b'\\xf0\\x9f\\x8d\\xaa': 1205, b'\\xf0\\x9f\\x8e\\xaa': 1206, b'\\xf0\\x9f\\x92\\xa7': 1207, b'\\xf0\\x9f\\x92\\xb0': 1208, b'\\xe1\\xbb\\x91': 1209, b'\\xe1\\xba\\xa3': 1210, b'\\xf0\\x9f\\x8c\\x8f': 1211, b'\\xe0\\xa4\\xaa': 1212, b'\\xe0\\xa4\\xb6': 1213, b'\\xe0\\xa5\\x81': 1214, b'\\xe0\\xa4\\xbe': 1215, b'\\xe0\\xa4\\xae': 1216, b'\\xf0\\x9f\\x8d\\xa6': 1217, b'\\xe9\\x95\\xb7': 1218, b'\\xf0\\x9f\\xa5\\x8a': 1219, b'\\xeb\\xb2\\xa0': 1220, b'\\xeb\\x94\\xb0': 1221, b'\\xeb\\x9c\\xa8': 1222, b'\\xed\\x9e\\x90': 1223, b'\\xea\\xb0\\x95': 1224, b'\\xec\\x96\\xb8': 1225, b'\\xeb\\x83\\x90': 1226, b'\\xed\\x97\\xa4': 1227, b'\\xed\\x8d\\xbc': 1228, b'\\xed\\x9c\\x98': 1229, b'\\xec\\x83\\xa4': 1230, b'\\xec\\x86\\x90': 1231, b'\\xeb\\x8d\\x94': 1232, b'\\xec\\x97\\x88': 1233, b'\\xea\\xb2\\xa0': 1234, b'\\xeb\\xa0\\xb5': 1235, b'\\xed\\x99\\x94': 1236, b'\\xec\\x8c\\xa4': 1237, b'\\xeb\\x8a\\x90': 1238, b'\\xeb\\x9f\\xbd': 1239, b'\\xed\\x86\\xa0': 1240, b'\\xeb\\x9b\\xb0': 1241, b'\\xf0\\x9f\\x8f\\x8c': 1242, b'\\xeb\\x95\\x8c': 1243, b'\\xed\\x81\\xbc': 1244, b'\\xec\\x9a\\xa9': 1245, b'\\xec\\xa0\\x95': 1246, b'\\xec\\xb1\\x84': 1247, b'\\xeb\\x90\\x9c': 1248, b'\\xea\\xb2\\x83': 1249, b'\\xeb\\xa9\\x8b': 1250, b'\\xec\\x9d\\x91': 1251, b'\\xea\\xb2\\xa8': 1252, b'\\xeb\\xaa\\xb8': 1253, b'\\xec\\xba\\x94': 1254, b'\\xeb\\xb2\\x84': 1255, b'\\xec\\xa3\\xa0': 1256, b'\\xed\\x8a\\x80': 1257, b'\\xeb\\xb0\\x9c': 1258, b'\\xeb\\x8f\\x8b': 1259, b'\\xeb\\x8a\\x98': 1260, b'\\xec\\x87\\xbc': 1261, b'\\xed\\x8c\\x90': 1262, b'\\xea\\xb0\\x91': 1263, b'\\xea\\xb0\\x84': 1264, b'\\xeb\\x90\\x98': 1265, b'\\xea\\xbc\\xad': 1266, b'\\xeb\\xb0\\xa9': 1267, b'\\xeb\\xa5\\xb8': 1268, b'\\xeb\\xa6\\xad': 1269, b'\\xec\\xa7\\x88': 1270, b'\\xeb\\x93\\xb1': 1271, b'\\xec\\xb6\\x95': 1272, b'\\xd7\\x90': 1273, b'\\xe2\\x97\\xa0': 1274, b'\\xef\\xb9\\x8f': 1275, b'\\xe2\\x97\\x95': 1276, b'\\xe2\\x9c\\xbf': 1277, b'\\xd1\\x99': 1278, b'\\xdb\\x9e': 1279, b'\\xd2\\xa4': 1280, b'\\xf0\\x9f\\x9b\\x81': 1281, b'\\xf0\\x9f\\x93\\x9a': 1282, b'\\xe2\\x9b\\x85': 1283, b'\\xf0\\x9f\\x90\\xa7': 1284, b'\\xf0\\x9f\\x91\\xa2': 1285, b'\\xf0\\x9f\\x91\\xa1': 1286, b'\\xf0\\x9f\\x92\\xb3': 1287, b'\\xf0\\x9f\\x91\\x95': 1288, b'\\xf0\\x9f\\x91\\x94': 1289, b'\\xf0\\x9f\\x91\\x96': 1290, b'\\xf0\\x9f\\x92\\xbc': 1291, b'\\xc2\\xbe': 1292, b'\\xc4\\xa3': 1293, b'\\xe2\\x89\\xa4': 1294, b'\\xe2\\x88\\x88': 1295, b'\\xe2\\x84\\xa4': 1296, b'\\xf0\\x9f\\x8e\\xa9': 1297, b'\\xce\\x9e': 1298, b'\\xf0\\x9f\\x8c\\xa7': 1299, b'\\xf0\\x9f\\x8c\\xa9': 1300, b'\\xe4\\xbb\\xa5': 1301, b'\\xe7\\x9b\\xb8': 1302, b'\\xe8\\xab\\x87': 1303, b'\\xe9\\xa0\\x82': 1304, b'\\xe2\\x80\\xbb': 1305, b'\\xe3\\x81\\xb8': 1306, b'\\xe8\\xaa\\x98': 1307, b'\\xe5\\xb0\\x8e': 1308, b'\\xe4\\xbf\\x83': 1309, b'\\xef\\xbc\\xb5': 1310, b'\\xef\\xbc\\xb2': 1311, b'\\xef\\xbc\\xac': 1312, b'\\xe5\\x90\\x8d': 1313, b'\\xe5\\x89\\x8d': 1314, b'\\xe7\\x82\\xba': 1315, b'\\xe6\\x8f\\x90': 1316, b'\\xe4\\xbe\\x9b': 1317, b'\\xe8\\x80\\x85': 1318, b'\\xe4\\xba\\x86': 1319, b'\\xe6\\x89\\xbf': 1320, b'\\xe5\\x8f\\x8d': 1321, b'\\xe9\\x9f\\xbf': 1322, b'\\xe3\\x83\\x93': 1323, b'\\xe7\\xb4\\xb9': 1324, b'\\xe4\\xbb\\x8b': 1325, b'\\xe3\\x82\\xa9': 1326, b'\\xe4\\xbb\\x96': 1327, b'\\xe6\\x92\\x83': 1328, b'\\xe6\\x83\\x85': 1329, b'\\xe5\\xa0\\xb1': 1330, b'\\xf0\\x9f\\x94\\x91': 1331, b'\\xea\\xb3\\x84': 1332, b'\\xed\\x9a\\x8c': 1333, b'\\xeb\\xac\\xbc': 1334, b'\\xea\\xb7\\xbc': 1335, b'\\xec\\xa0\\x91': 1336, b'\\xec\\x98\\x88': 1337, b'\\xec\\x81\\x98': 1338, b'\\xea\\xb1\\xb8': 1339, b'\\xea\\xb8\\x80': 1340, b'\\xf0\\x9f\\x98\\x91': 1341, b'\\xf0\\x9f\\x8d\\xbf': 1342, b'\\xe7\\xb7\\xa8': 1343, b'\\xe5\\xb8\\x82': 1344, b'\\xe5\\x9c\\x9f': 1345, b'\\xe7\\x94\\xa3': 1346, b'\\xe5\\xb1\\x8b': 1347, b'\\xe5\\x87\\xba': 1348, b'\\xe5\\xbe\\xae': 1349, b'\\xe5\\xa6\\x99': 1350, b'\\xe2\\x96\\xaa': 1351, b'\\xf0\\x9f\\xa4\\xa0': 1352, b'\\xf0\\x9f\\x92\\x89': 1353, b'\\xf0\\x9f\\x92\\x8a': 1354, b'\\xe5\\x8a\\xa0': 1355, b'\\xe8\\xb3\\x80': 1356, b'\\xe5\\x9b\\xbd': 1357, b'\\xf0\\x9f\\x8d\\x90': 1358, b'\\xf0\\x9f\\x8d\\x8c': 1359, b'\\xf0\\x9f\\x8d\\x8b': 1360, b'\\xf0\\x9f\\xa4\\x93': 1361, b'\\xe6\\xa4\\x8d': 1362, b'\\xe7\\xbd\\xae': 1363, b'\\xe8\\xb6\\x85': 1364, b'\\xe6\\xba\\x80': 1365, b'\\xe6\\x82\\xa6': 1366, b'\\xe6\\x9e\\x9a': 1367, b'\\xe7\\xab\\x8b': 1368, b'\\xe7\\x9b\\xb4': 1369, b'\\xe5\\xac\\x89': 1370, b'\\xe4\\xbd\\x95': 1371, b'\\xe4\\xbd\\xbf': 1372, b'\\xe7\\x8b\\xad': 1373, b'\\xf0\\x9f\\x90\\x88': 1374, b'\\xe2\\x99\\xaa': 1375, b'\\xce\\x92': 1376, b'\\xe1\\xbb\\x9b': 1377, b'\\xf0\\x9f\\x8c\\xa5': 1378, b'\\xf0\\x9f\\x90\\xb7': 1379, b'\\xc3\\x86': 1380, b'\\xe6\\x9d\\x8e': 1381, b'\\xe6\\x9f\\x92': 1382, b'\\xf0\\x9f\\x93\\x96': 1383, b'\\xe2\\x98\\x87': 1384, b'\\xf0\\x9f\\x9a\\xab': 1385, b'\\xf0\\x9f\\xa6\\x8a': 1386, b'\\xf0\\x9f\\x9a\\xbc': 1387, b'\\xe3\\x80\\xb0': 1388, b'\\xec\\x96\\x84': 1389, b'\\xed\\x8c\\x8c': 1390, b'\\xed\\x85\\x94': 1391, b'\\xed\\x86\\xa4': 1392, b'\\xeb\\xb0\\x91': 1393, b'\\xea\\xb7\\x80': 1394, b'\\xea\\xb1\\x80': 1395, b'\\xeb\\xa6\\xb0': 1396, b'\\xed\\x8a\\xb9': 1397, b'\\xec\\xa7\\x95': 1398, b'\\xed\\x95\\xa9': 1399, b'\\xeb\\xb0\\xb0': 1400, b'\\xea\\xb3\\xb5': 1401, b'\\xed\\x94\\x8c': 1402, b'\\xec\\xb9\\x9c': 1403, b'\\xeb\\xb0\\x8f': 1404, b'\\xea\\xbb\\x98': 1405, b'\\xeb\\xac\\xb8': 1406, b'\\xea\\xb2\\xa9': 1407, b'\\xec\\x95\\x88': 1408, b'\\xca\\x92': 1409, b'\\xc9\\xaa': 1410, b'\\xc5\\xb7': 1411, b'\\xe2\\x9c\\x82': 1412, b'\\xe1\\xbb\\x87': 1413, b'\\xe6\\xad\\xbb': 1414, b'\\xe5\\x98\\x98': 1415, b'\\xe6\\x8b\\xa1': 1416, b'\\xe6\\x95\\xa3': 1417, b'\\xe9\\xa3\\x9b': 1418, b'\\xe7\\x8b\\x97': 1419, b'\\xe4\\xb8\\x8d': 1420, b'\\xf0\\x9f\\x90\\x93': 1421, b'\\xe5\\xb0\\x8f': 1422, b'\\xe5\\xba\\xb7': 1423, b'\\xe5\\x8d\\x81': 1424, b'\\xe4\\xb8\\x89': 1425, b'\\xe4\\xba\\x94': 1426, b'\\xc3\\x9d': 1427, b'\\xf0\\x9f\\x91\\xb4': 1428, b'\\xf0\\x9f\\x8d\\x8a': 1429, b'\\xf0\\x9f\\x8d\\xae': 1430, b'\\xf0\\x9f\\xa4\\xaf': 1431, b'\\xf0\\x9f\\x87\\xa7': 1432, b'\\xe9\\x92\\x9f': 1433, b'\\xe7\\xbb\\x88': 1434, b'\\xe2\\x9b\\xb0': 1435, b'\\xf0\\x9f\\x8d\\x84': 1436, b'\\xf0\\x9f\\x90\\xb8': 1437, b'\\xf0\\x9f\\xa5\\x8b': 1438, b'\\xf0\\x9f\\xa7\\x90': 1439, b'\\xc2\\x9d': 1440, b'\\xcc\\x80': 1441, b'\\xc3\\x9e': 1442, b'\\xf0\\x9f\\x91\\x92': 1443, b'\\xf0\\x9f\\x8e\\x87': 1444, b'\\xf0\\x9f\\x8e\\x86': 1445, b'\\xf0\\x9f\\x90\\x8a': 1446, b'\\xf0\\x9f\\x90\\xa3': 1447, b'\\xf0\\x9f\\x90\\x92': 1448, b'\\xf0\\x9f\\x90\\xa2': 1449, b'\\xf0\\x9f\\x90\\x96': 1450, b'\\xf0\\x9f\\x90\\xbf': 1451, b'\\xcf\\x86': 1452, b'\\xf0\\x9f\\xa4\\xa8': 1453, b'\\xf0\\x9f\\x9a\\xb2': 1454, b'\\xce\\xa4': 1455, b'\\xf0\\x9f\\x8e\\x88': 1456, b'\\xe6\\xaf\\x94': 1457, b'\\xf0\\x9f\\x90\\xb4': 1458, b'\\xf0\\x9f\\xa4\\xa2': 1459, b'\\xe1\\xb8\\xa4': 1460, b'\\xe2\\x88\\x86': 1461, b'\\xe1\\xbb\\x8b': 1462, b'\\xe2\\x88\\x9a': 1463, b'\\xf0\\x9f\\x87\\xac': 1464, b'\\xf0\\x9f\\x98\\x87': 1465, b'\\xe6\\x9c\\xad': 1466, b'\\xe5\\xa5\\xbd': 1467, b'\\xe3\\x82\\xa3': 1468, b'\\xe3\\x82\\xb0': 1469, b'\\xe5\\xbf\\x83': 1470, b'\\xe6\\xa9\\x9f': 1471, b'\\xf0\\x9f\\x94\\xbb': 1472, b'\\xe7\\x95\\x99': 1473, b'\\xe8\\xbf\\x99': 1474, b'\\xf0\\x9f\\x91\\x9c': 1475, b'\\xc9\\x90': 1476, b'\\xcb\\x88': 1477, b'\\xf0\\x9f\\x98\\xb2': 1478, b'\\xf0\\x9f\\x94\\x8c': 1479, b'\\xf0\\x9f\\xa5\\x91': 1480, b'\\xf0\\x9f\\x87\\xb2': 1481, b'\\xf0\\x9f\\x87\\xbd': 1482, b'\\xf0\\x9f\\x91\\xbf': 1483, b'\\xf0\\x9f\\x95\\xba': 1484, b'\\xf0\\x9f\\xa4\\xad': 1485, b'\\xf0\\x9f\\xa7\\x9c': 1486, b'\\xe2\\x80\\xa0': 1487, b'\\xe2\\x9a\\xb0': 1488, b'\\xf0\\x9f\\x90\\xbd': 1489, b'\\xcc\\xa7': 1490, b'\\xf0\\x9f\\x8d\\x9c': 1491, b'\\xd7\\x9b': 1492, b'\\xd7\\x91': 1493, b'\\xd7\\x96': 1494, b'\\xf0\\x9f\\x98\\xb6': 1495, b'\\xe0\\xb8\\x89': 1496, b'\\xe0\\xb8\\xaa': 1497, b'\\xe0\\xb9\\x81': 1498, b'\\xe0\\xb9\\x82': 1499, b'\\xe0\\xb8\\xb3': 1500, b'\\xe0\\xb8\\x9c': 1501, b'\\xc2\\xb9': 1502, b'\\xc4\\x91': 1503, b'\\xf0\\x9f\\x94\\x90': 1504, b'\\xf0\\x9f\\x94\\x9c': 1505, b'\\xe2\\x9d\\x8c': 1506, b'\\xf0\\x9f\\x94\\x8a': 1507, b'\\xe6\\xb8\\xb8': 1508, b'\\xe6\\x88\\x8f': 1509, b'\\xf0\\x9f\\x92\\xad': 1510, b'\\xf0\\x9f\\x92\\x87': 1511, b'\\xf0\\x9f\\x8c\\xbc': 1512, b'\\xce\\xa5': 1513, b'\\xe2\\x82\\x82': 1514, b'\\xc2\\xa5': 1515, b'\\xc5\\x8c': 1516, b'\\xf0\\x9f\\x98\\xbc': 1517, b'\\xf0\\x9f\\x91\\x84': 1518, b'\\xf0\\x9f\\x98\\xa6': 1519, b'\\xf0\\x9f\\x92\\xb8': 1520, b'\\xf0\\x9f\\x8d\\x83': 1521, b'\\xf0\\x9f\\x8e\\xad': 1522, b'\\xf0\\x9f\\x93\\xba': 1523, b'\\xf0\\x9f\\x99\\x87': 1524, b'\\xf0\\x9f\\x91\\x97': 1525, b'\\xca\\x8d': 1526, b'\\xf0\\x9f\\x87\\xaf': 1527, b'\\xe5\\x8f\\xb7': 1528, b'\\xc3\\x84': 1529, b'\\xf0\\x9f\\x8e\\x85': 1530, b'\\xe9\\xa0\\x86': 1531, b'\\xe7\\x9a\\x84': 1532, b'\\xe3\\x82\\x8d': 1533, b'\\xe8\\xaa\\xbf': 1534, b'\\xe9\\xa1\\x94': 1535, b'\\xe3\\x83\\x94': 1536, b'\\xe9\\x81\\x94': 1537, b'\\xe6\\xb4\\xbb': 1538, b'\\xe8\\xba\\x8d': 1539, b'\\xe8\\x80\\x83': 1540, b'\\xe3\\x82\\x85': 1541, b'\\xe8\\x8a\\xb1': 1542, b'\\xe7\\x94\\x9f': 1543, b'\\xe5\\xb9\\xbc': 1544, b'\\xe8\\x99\\xab': 1545, b'\\xe5\\x8f\\xa3': 1546, b'\\xe9\\xad\\x9a': 1547, b'\\xe4\\xb8\\x80': 1548, b'\\xe5\\xba\\xa6': 1549, b'\\xf0\\x9f\\x92\\xa9': 1550, b'\\xe7\\x97\\xa2': 1551, b'\\xe6\\xb2\\xbb': 1552, b'\\xe6\\xae\\xb5': 1553, b'\\xe9\\x80\\x9a': 1554, b'\\xe9\\x81\\x8a': 1555, b'\\xe5\\xaf\\x9d': 1556, b'\\xe6\\x96\\xb9': 1557, b'\\xe6\\x9a\\xae': 1558, b'\\xe8\\x8c\\xb6': 1559, b'\\xe7\\xa5\\xad': 1560, b'\\xe2\\x9a\\x96': 1561, b'\\xf0\\x9f\\x93\\x9d': 1562, b'\\xe2\\x9c\\x85': 1563, b'\\xec\\x9b\\x85': 1564, b'\\xec\\xba\\x87': 1565, b'\\xeb\\xb4\\xa4': 1566, b'\\xea\\xbb\\xbc': 1567, b'\\xeb\\xa8\\xb8': 1568, b'\\xec\\xa0\\x94': 1569, b'\\xec\\xb2\\x98': 1570, b'\\xeb\\x82\\xac': 1571, b'\\xec\\xb0\\xb8': 1572, b'\\xeb\\x82\\xa8': 1573, b'\\xec\\x99\\x94': 1574, b'\\xed\\x9b\\x84': 1575, b'\\xec\\x97\\x86': 1576, b'\\xf0\\x9f\\x99\\x89': 1577, b'\\xe5\\xb9\\xb4': 1578, b'\\xe7\\x9b\\x86': 1579, b'\\xe5\\x85\\x88': 1580, b'\\xe7\\xa5\\x96': 1581, b'\\xe6\\x80\\x92': 1582, b'\\xe7\\xb5\\x8c': 1583, b'\\xe7\\x94\\xb1': 1584, b'\\xe6\\x9d\\xa5': 1585, b'\\xe8\\x99\\xbe': 1586, b'\\xe7\\xb2\\x89': 1587, b'\\xe4\\xb8\\x9d': 1588, b'\\xe0\\xb8\\x96': 1589, b'\\xe0\\xb8\\x9f': 1590, b'\\xe0\\xb8\\xb0': 1591, b'\\xe0\\xb8\\xa8': 1592, b'\\xe0\\xb8\\x93': 1593, b'\\xe0\\xb8\\xb9': 1594, b'\\xe0\\xb9\\x8a': 1595, b'\\xf0\\x9f\\x9a\\x82': 1596, b'\\xf0\\x9f\\x90\\x8e': 1597, b'\\xd1\\xa3': 1598, b'\\xd1\\xb2': 1599, b'\\xf0\\x9f\\x98\\x94': 1600, b'\\xc3\\xbf': 1601, b'\\xd1\\x9e': 1602, b'\\xf0\\x9f\\x8f\\x9d': 1603, b'\\xc4\\xb6': 1604, b'\\xf0\\x9f\\x91\\xb1': 1605, b'\\xf0\\x9f\\x8d\\xbb': 1606, b'\\xc4\\x86': 1607, b'\\xe6\\x9c\\x88': 1608, b'\\xe3\\x82\\xbd': 1609, b'\\xe3\\x83\\x98': 1610, b'\\xe3\\x83\\xb4': 1611, b'\\xe6\\x8c\\x81': 1612, b'\\xe3\\x83\\x80': 1613, b'\\xe8\\xb3\\xbc': 1614, b'\\xe3\\x80\\x8e': 1615, b'\\xe3\\x80\\x8f': 1616, b'\\xe8\\xb2\\xa0': 1617, b'\\xe6\\x8b\\x85': 1618, b'\\xe3\\x81\\x9a': 1619, b'\\xe7\\xb4\\xa0': 1620, b'\\xe3\\x83\\x96': 1621, b'\\xe5\\x8f\\xaf': 1622, b'\\xe6\\x84\\x9b': 1623, b'\\xe8\\x87\\xaa': 1624, b'\\xe7\\x84\\xb6': 1625, b'\\xe6\\x88\\x90': 1626, b'\\xe5\\x88\\x86': 1627, b'\\xe6\\x84\\x9f': 1628, b'\\xed\\x9d\\xac': 1629, b'\\xeb\\xa7\\x9d': 1630, b'\\xeb\\xb3\\x84': 1631, b'\\xeb\\xb9\\x9b': 1632, b'\\xea\\xb8\\xb4': 1633, b'\\xec\\x97\\xb0': 1634, b'\\xed\\x9c\\xb4': 1635, b'\\xed\\x96\\x89': 1636, b'\\xeb\\xa6\\x84': 1637, b'\\xeb\\x93\\x9d': 1638, b'\\xec\\x8c\\x93': 1639, b'\\xea\\xb2\\x8c': 1640, b'\\xec\\xa4\\x91': 1641, b'\\xec\\x83\\x9d': 1642, b'\\xe2\\x9a\\x98': 1643, b'\\xec\\xa6\\x98': 1644, b'\\xeb\\xb0\\x98': 1645, b'\\xec\\x95\\xa8': 1646, b'\\xeb\\xb2\\x94': 1647, b'\\xec\\x95\\x8c': 1648, b'\\xec\\x85\\x94': 1649, b'\\xed\\x86\\xb0': 1650, b'\\xec\\x9e\\x85': 1651, b'\\xea\\xb8\\x88': 1652, b'\\xec\\x84\\xb1': 1653, b'\\xed\\x98\\x95': 1654, b'\\xed\\x8b\\xb4': 1655, b'\\xed\\x83\\x91': 1656, b'\\xec\\x97\\x98': 1657, b'\\xe6\\x82\\xb2': 1658, b'\\xca\\xb9': 1659, b'\\xca\\xba': 1660, b'\\xf0\\x9f\\x90\\x94': 1661, b'\\xe6\\x9d\\xb1': 1662, b'\\xe5\\xb1\\xb1': 1663, b'\\xe5\\x8b\\x95': 1664, b'\\xe5\\x9c\\x92': 1665, b'\\xef\\xbc\\xae': 1666, b'\\xef\\xbc\\xa8': 1667, b'\\xef\\xbc\\xab': 1668, b'\\xe3\\x83\\x9d': 1669, b'\\xe1\\xbb\\xa5': 1670, b'\\xf0\\x9f\\x8c\\x85': 1671, b'\\xe2\\x9a\\x93': 1672, b'\\xe6\\x96\\xaf': 1673, b'\\xe8\\xab\\xbe': 1674, b'\\xe7\\x99\\xbb': 1675, b'\\xf0\\x9f\\x98\\xa8': 1676, b'\\xf0\\x9f\\xa6\\x8d': 1677, b'\\xce\\xb7': 1678, b'\\xce\\xae': 1679, b'\\xf0\\x9f\\x93\\x86': 1680}\n"
     ]
    }
   ],
   "source": [
    "# make an empty character dictionary\n",
    "char_dictionary: Dictionary = Dictionary()\n",
    "\n",
    "# counter object\n",
    "counter = Counter()\n",
    "\n",
    "processed = 0\n",
    "\n",
    "files = glob.glob('./data/corpus/train/*')\n",
    "\n",
    "#print(files)\n",
    "for file in tqdm(files):\n",
    "    #print(file)\n",
    "\n",
    "    with open(file, 'r', encoding='utf-8') as f:\n",
    "        tokens = 0\n",
    "        for line in f:\n",
    "\n",
    "            processed += 1            \n",
    "            chars = list(line)\n",
    "            tokens += len(chars)\n",
    "\n",
    "            # Add chars to the dictionary\n",
    "            counter.update(chars)\n",
    "\n",
    "            # comment this line in to speed things up (if the corpus is too large)\n",
    "            # if tokens > 50000000: break\n",
    "\n",
    "    # break\n",
    "\n",
    "total_count = 0\n",
    "for letter, count in counter.most_common():\n",
    "    total_count += count\n",
    "\n",
    "print(total_count)\n",
    "print(processed)\n",
    "\n",
    "sum = 0\n",
    "idx = 0\n",
    "for letter, count in counter.most_common():\n",
    "    sum += count\n",
    "    percentile = (sum / total_count)\n",
    "\n",
    "    # comment this line in to use only top X percentile of chars, otherwise filter later\n",
    "    # if percentile < 0.00001: break\n",
    "\n",
    "    char_dictionary.add_item(letter)\n",
    "    idx += 1\n",
    "    print('%d\\t%s\\t%7d\\t%7d\\t%f' % (idx, letter, count, sum, percentile))\n",
    "\n",
    "print(char_dictionary.item2idx)\n",
    "\n",
    "with open('./data/dictionaty.pckl', 'wb') as f:\n",
    "    mappings = {\n",
    "        'idx2item': char_dictionary.idx2item,\n",
    "        'item2idx': char_dictionary.item2idx\n",
    "    }\n",
    "    pickle.dump(mappings, f)"
   ]
  },
  {
   "cell_type": "code",
   "execution_count": null,
   "metadata": {},
   "outputs": [],
   "source": []
  }
 ],
 "metadata": {
  "kernelspec": {
   "display_name": "Python 3",
   "language": "python",
   "name": "python3"
  },
  "language_info": {
   "codemirror_mode": {
    "name": "ipython",
    "version": 3
   },
   "file_extension": ".py",
   "mimetype": "text/x-python",
   "name": "python",
   "nbconvert_exporter": "python",
   "pygments_lexer": "ipython3",
   "version": "3.6.8"
  }
 },
 "nbformat": 4,
 "nbformat_minor": 2
}
